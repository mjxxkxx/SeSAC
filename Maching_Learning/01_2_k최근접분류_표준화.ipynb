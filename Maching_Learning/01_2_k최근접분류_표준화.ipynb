{
 "cells": [
  {
   "cell_type": "markdown",
   "metadata": {},
   "source": [
    "# k-최근접 이웃 알고리즘 (knn)"
   ]
  },
  {
   "cell_type": "code",
   "execution_count": 2,
   "metadata": {},
   "outputs": [],
   "source": [
    "import os\n",
    "import numpy as np\n",
    "import pandas as pd\n",
    "import matplotlib.pyplot as plt\n",
    "import seaborn as sns\n",
    "\n",
    "plt.rc('font', family='NanumGothic')\n",
    "plt.rc('axes', unicode_minus=False)\n",
    "\n",
    "fpath = \"../dataset\""
   ]
  },
  {
   "cell_type": "markdown",
   "metadata": {},
   "source": [
    "## 도미자료와 방어자료 불러오기"
   ]
  },
  {
   "cell_type": "code",
   "execution_count": 4,
   "metadata": {},
   "outputs": [
    {
     "name": "stdout",
     "output_type": "stream",
     "text": [
      "<class 'list'>\n",
      "length of bream =  35 \n",
      "length of smelt =  14\n",
      "mean of 도미길이 =  33.11\n",
      "mean of 방어길이 =  11.92\n",
      "mean of 도미무게 =  617.83\n",
      "mean of 방어무게 =  11.18\n"
     ]
    }
   ],
   "source": [
    "# 도미자료\n",
    "bream_length = [25.4, 26.3, 26.5, 29.0, 29.0, 29.7, 29.7, 30.0, 30.0, 30.7, 31.0, 31.0, 31.5, 32.0, 32.0, 32.0, 33.0, 33.0, 33.5, 33.5, 34.0, 34.0, 34.5, 35.0, 35.0, 35.0, 35.0, 36.0, 36.0, 37.0, 38.5, 38.5, 39.5, 41.0, 41.0]\n",
    "bream_weight = [242.0, 290.0, 340.0, 363.0, 430.0, 450.0, 500.0, 390.0, 450.0, 500.0, 475.0, 500.0, 500.0, 340.0, 600.0, 600.0, 700.0, 700.0, 610.0, 650.0, 575.0, 685.0, 620.0, 680.0, 700.0, 725.0, 720.0, 714.0, 850.0, 1000.0, 920.0, 955.0, 925.0, 975.0, 950.0]\n",
    "\n",
    "# 방어자료\n",
    "smelt_length = [9.8, 10.5, 10.6, 11.0, 11.2, 11.3, 11.8, 11.8, 12.0, 12.2, 12.4, 13.0, 14.3, 15.0]\n",
    "smelt_weight = [6.7, 7.5, 7.0, 9.7, 9.8, 8.7, 10.0, 9.9, 9.8, 12.2, 13.4, 12.2, 19.7, 19.9]\n",
    "\n",
    "\n",
    "# list 길이\n",
    "print(type(bream_length))\n",
    "print(\"length of bream = \", len(bream_length), \"\\nlength of smelt = \",len(smelt_length))\n",
    "\n",
    "# 용약 통계량\n",
    "print(\"mean of 도미길이 = \", round(np.mean(bream_length), ndigits = 2))\n",
    "print(\"mean of 방어길이 = \", round(np.mean(smelt_length), ndigits = 2))\n",
    "\n",
    "print(\"mean of 도미무게 = \", round(np.mean(bream_weight), ndigits = 2))\n",
    "print(\"mean of 방어무게 = \", round(np.mean(smelt_weight), ndigits = 2))"
   ]
  },
  {
   "cell_type": "markdown",
   "metadata": {},
   "source": [
    "## 산점도 그리기 (scatter plot)"
   ]
  },
  {
   "cell_type": "code",
   "execution_count": 6,
   "metadata": {},
   "outputs": [
    {
     "data": {
      "image/png": "[encoded data removed]",
      "text/plain": [
       "<Figure size 640x480 with 1 Axes>"
      ]
     },
     "metadata": {},
     "output_type": "display_data"
    }
   ],
   "source": [
    "plt.scatter(bream_length, bream_weight)\n",
    "plt.scatter(smelt_length, smelt_weight, c = \"r\")\n",
    "plt.xlabel('Length (cm)')\n",
    "plt.ylabel('Weight (g)')\n",
    "plt.title(\"도미 vs 방어\")\n",
    "plt.show() # plot all open figures\n"
   ]
  },
  {
   "cell_type": "markdown",
   "metadata": {},
   "source": [
    "## list 자료를 sklearn 입력 형식에 맞게 수정\n",
    "- 1차원 리스트 -> 2차원 리스트\n",
    "- Feature set과 Target set으로 구성"
   ]
  },
  {
   "cell_type": "code",
   "execution_count": 7,
   "metadata": {},
   "outputs": [
    {
     "name": "stdout",
     "output_type": "stream",
     "text": [
      "(49,)\n",
      "(49,)\n"
     ]
    }
   ],
   "source": [
    "\n",
    "## Add two list \n",
    "length = bream_length + smelt_length\n",
    "weight = bream_weight + smelt_weight\n",
    "\n",
    "print(np.shape(length))\n",
    "print(np.shape(weight))\n",
    "\n",
    "# print(\"길이 = \", length[:10])\n",
    "# print(\"무게 = \", weight[:10])\n"
   ]
  },
  {
   "cell_type": "code",
   "execution_count": 8,
   "metadata": {},
   "outputs": [
    {
     "name": "stdout",
     "output_type": "stream",
     "text": [
      "데이터 타입 fish_data_0 = <class 'list'>\n",
      "배열크기 fish_data_0 =  (49, 2)\n",
      "데이터 타입 fish_data = <class 'numpy.ndarray'>\n",
      "배열크기 fish_data =  (49, 2)\n",
      "[[ 25.4 242. ]\n",
      " [ 26.3 290. ]\n",
      " [ 26.5 340. ]\n",
      " [ 29.  363. ]\n",
      " [ 29.  430. ]\n",
      " [ 29.7 450. ]\n",
      " [ 29.7 500. ]\n",
      " [ 30.  390. ]\n",
      " [ 30.  450. ]\n",
      " [ 30.7 500. ]]\n"
     ]
    }
   ],
   "source": [
    "## zip function을 이용해서 1차원 list 자료를 2차원 list 자료로 변환 \n",
    "\n",
    "fish_data_0 = [[l, w] for l, w in zip(length, weight)]\n",
    "# print(fish_data_0)\n",
    "print(\"데이터 타입 fish_data_0 =\", type(fish_data_0))\n",
    "print(\"배열크기 fish_data_0 = \", np.shape(fish_data_0))\n",
    "\n",
    "\n",
    "#  numpy 를 이용해서 변환: tuple \n",
    "fish_data = np.column_stack((length, weight))\n",
    "# print(fish_data)?\n",
    "print(\"데이터 타입 fish_data =\", type(fish_data))\n",
    "print(\"배열크기 fish_data = \", np.shape(fish_data))\n",
    "\n",
    "print(fish_data[:10,])"
   ]
  },
  {
   "cell_type": "code",
   "execution_count": 12,
   "metadata": {},
   "outputs": [
    {
     "name": "stdout",
     "output_type": "stream",
     "text": [
      "[1, 1, 1, 1, 1, 1, 1, 1, 1, 1, 1, 1, 1, 1, 1, 1, 1, 1, 1, 1, 1, 1, 1, 1, 1, 1, 1, 1, 1, 1, 1, 1, 1, 1, 1, 0, 0, 0, 0, 0, 0, 0, 0, 0, 0, 0, 0, 0, 0]\n",
      "[1. 1. 1. 1. 1. 1. 1. 1. 1. 1. 1. 1. 1. 1. 1. 1. 1. 1. 1. 1. 1. 1. 1. 1.\n",
      " 1. 1. 1. 1. 1. 1. 1. 1. 1. 1. 1.]\n",
      "[0. 0. 0. 0. 0. 0. 0. 0. 0. 0. 0. 0. 0. 0.]\n",
      "[1. 1. 1. 1. 1. 1. 1. 1. 1. 1. 1. 1. 1. 1. 1. 1. 1. 1. 1. 1. 1. 1. 1. 1.\n",
      " 1. 1. 1. 1. 1. 1. 1. 1. 1. 1. 1. 0. 0. 0. 0. 0. 0. 0. 0. 0. 0. 0. 0. 0.\n",
      " 0.]\n"
     ]
    }
   ],
   "source": [
    "# target encoding [1, 0]\n",
    "fish_target_0 = [1]*35 + [0]*14\n",
    "print(fish_target_0)\n",
    "\n",
    "\n",
    "## using np.append\n",
    "one_index = np.ones(35)\n",
    "zero_index = np.zeros(14)\n",
    "\n",
    "print(one_index)\n",
    "print(zero_index)\n",
    "\n",
    "fish_target = np.append(one_index, zero_index)\n",
    "\n",
    "print(fish_target)\n",
    "\n",
    "# np.concatenate: tuple로 전달\n",
    "# fish_target = np.concatenate((np.ones(35), np.zeros(14))"
   ]
  },
  {
   "cell_type": "code",
   "execution_count": 15,
   "metadata": {},
   "outputs": [
    {
     "data": {
      "text/plain": [
       "1.0"
      ]
     },
     "execution_count": 15,
     "metadata": {},
     "output_type": "execute_result"
    }
   ],
   "source": [
    "# import knn 클래스 import\n",
    "from sklearn.neighbors import KNeighborsClassifier\n",
    "\n",
    "# 클래스 객체 만들기/ learning parameter setting\n",
    "# n_neighbors : int, default=5\n",
    "kn = KNeighborsClassifier(n_neighbors = 5, \n",
    "                          weights='uniform', \n",
    "                          metric='minkowski', \n",
    "                          p = 2)\n",
    "# ML learning\n",
    "kn.fit(fish_data, fish_target)\n",
    "\n",
    "# sklearn classification mean accuracy\n",
    "kn.score(fish_data, fish_target)"
   ]
  },
  {
   "cell_type": "code",
   "execution_count": 21,
   "metadata": {},
   "outputs": [
    {
     "name": "stdout",
     "output_type": "stream",
     "text": [
      "classes =  [0. 1.]\n",
      "metrics =  euclidean\n",
      "samples =  49\n"
     ]
    }
   ],
   "source": [
    "## Attribute\n",
    "print(\"classes = \", kn.classes_)\n",
    "print(\"metrics = \", kn.effective_metric_)\n",
    "print(\"samples = \", kn.n_samples_fit_)\n",
    "# print(\"parameters = \", kn.effective_metric_params_)\n",
    "# print(\"feature names = \", kn.feature_names_in_) Defined only when X has feature names that are all strings.\n"
   ]
  },
  {
   "cell_type": "markdown",
   "metadata": {},
   "source": [
    "## 자료분할 (Data splitting)"
   ]
  },
  {
   "cell_type": "code",
   "execution_count": 22,
   "metadata": {},
   "outputs": [
    {
     "name": "stdout",
     "output_type": "stream",
     "text": [
      "bream data 배열 =  (35,)\n",
      "smelt data 배열 =  (14,)\n",
      "fish data 배열 =  (49, 2)\n",
      "fish target 배열 =  (49,)\n"
     ]
    }
   ],
   "source": [
    "# fish_data, fish_target\n",
    "print('bream data 배열 = ',np.shape(bream_length))\n",
    "print('smelt data 배열 = ',np.shape(smelt_length))\n",
    "\n",
    "print('fish data 배열 = ',np.shape(fish_data))\n",
    "print('fish target 배열 = ',np.shape(fish_target))"
   ]
  },
  {
   "cell_type": "markdown",
   "metadata": {},
   "source": [
    "### 샘플편향 (Sampling bias)"
   ]
  },
  {
   "cell_type": "code",
   "execution_count": 25,
   "metadata": {},
   "outputs": [
    {
     "data": {
      "image/png": "[encoded data removed]",
      "text/plain": [
       "<Figure size 640x480 with 1 Axes>"
      ]
     },
     "metadata": {},
     "output_type": "display_data"
    }
   ],
   "source": [
    "plt.scatter(train_input[:, 0], train_input[:, 1])\n",
    "plt.scatter(test_input[:, 0], test_input[:, 1])\n",
    "plt.xlabel('length')\n",
    "plt.ylabel('weight')\n",
    "plt.show()"
   ]
  },
  {
   "cell_type": "code",
   "execution_count": 23,
   "metadata": {},
   "outputs": [
    {
     "name": "stdout",
     "output_type": "stream",
     "text": [
      "[[ 25.4 242. ]\n",
      " [ 26.3 290. ]\n",
      " [ 26.5 340. ]\n",
      " [ 29.  363. ]\n",
      " [ 29.  430. ]\n",
      " [ 29.7 450. ]\n",
      " [ 29.7 500. ]\n",
      " [ 30.  390. ]\n",
      " [ 30.  450. ]\n",
      " [ 30.7 500. ]]\n"
     ]
    }
   ],
   "source": [
    "train_input = fish_data[:35]\n",
    "train_target = fish_target[:35]\n",
    "\n",
    "test_input = fish_data[35:]\n",
    "test_target = fish_target[35:]\n",
    "\n",
    "print(train_input[:10])"
   ]
  },
  {
   "cell_type": "code",
   "execution_count": 24,
   "metadata": {},
   "outputs": [
    {
     "data": {
      "text/plain": [
       "0.0"
      ]
     },
     "execution_count": 24,
     "metadata": {},
     "output_type": "execute_result"
    }
   ],
   "source": [
    "kn = kn.fit(train_input, train_target)\n",
    "kn.score(test_input, test_target)"
   ]
  },
  {
   "cell_type": "markdown",
   "metadata": {},
   "source": [
    "### Random shuffling"
   ]
  },
  {
   "cell_type": "code",
   "execution_count": 27,
   "metadata": {},
   "outputs": [
    {
     "name": "stdout",
     "output_type": "stream",
     "text": [
      "index after shuffle =  [13 45 47 44 17 27 26 25 31 19 12  4 34  8  3  6 40 41 46 15  9 16 24 33\n",
      " 30  0 43 32  5 29 11 36  1 21  2 37 35 23 39 10 22 18 48 20  7 42 14 28\n",
      " 38]\n"
     ]
    }
   ],
   "source": [
    "np.random.seed(42)\n",
    "\n",
    "# Return evenly spaced values within a given interval.\n",
    "index = np.arange(49) # 0~48 int32 형 자료 생성\n",
    "# index = np.arange(0, 49, 2)\n",
    "# print('index = ',index)\n",
    "\n",
    "#Randomly permute a sequence in place \n",
    "np.random.shuffle(index)\n",
    "print('index after shuffle = ',index)\n"
   ]
  },
  {
   "cell_type": "markdown",
   "metadata": {},
   "source": [
    "### 셔플링을 이용한 자료분할"
   ]
  },
  {
   "cell_type": "code",
   "execution_count": 28,
   "metadata": {},
   "outputs": [
    {
     "name": "stdout",
     "output_type": "stream",
     "text": [
      "[[  32.   340. ]\n",
      " [  12.4   13.4]\n",
      " [  14.3   19.7]\n",
      " [  12.2   12.2]\n",
      " [  33.   700. ]\n",
      " [  36.   714. ]\n",
      " [  35.   720. ]\n",
      " [  35.   725. ]\n",
      " [  38.5  955. ]\n",
      " [  33.5  650. ]\n",
      " [  31.5  500. ]\n",
      " [  29.   430. ]\n",
      " [  41.   950. ]\n",
      " [  30.   450. ]\n",
      " [  29.   363. ]\n",
      " [  29.7  500. ]\n",
      " [  11.3    8.7]\n",
      " [  11.8   10. ]\n",
      " [  13.    12.2]\n",
      " [  32.   600. ]\n",
      " [  30.7  500. ]\n",
      " [  33.   700. ]\n",
      " [  35.   700. ]\n",
      " [  41.   975. ]\n",
      " [  38.5  920. ]\n",
      " [  25.4  242. ]\n",
      " [  12.     9.8]\n",
      " [  39.5  925. ]\n",
      " [  29.7  450. ]\n",
      " [  37.  1000. ]\n",
      " [  31.   500. ]\n",
      " [  10.5    7.5]\n",
      " [  26.3  290. ]\n",
      " [  34.   685. ]\n",
      " [  26.5  340. ]]\n"
     ]
    }
   ],
   "source": [
    "train_input = fish_data[index[:35]]\n",
    "train_target = fish_target[index[:35]]\n",
    "\n",
    "\n",
    "test_input = fish_data[index[35:]]\n",
    "test_target = fish_target[index[35:]]\n",
    "\n",
    "print(train_input)"
   ]
  },
  {
   "cell_type": "code",
   "execution_count": 29,
   "metadata": {},
   "outputs": [
    {
     "data": {
      "image/png": "[encoded data removed]",
      "text/plain": [
       "<Figure size 640x480 with 1 Axes>"
      ]
     },
     "metadata": {},
     "output_type": "display_data"
    }
   ],
   "source": [
    "plt.scatter(train_input[:, 0], train_input[:, 1])\n",
    "plt.scatter(test_input[:, 0], test_input[:, 1], c = \"r\")\n",
    "plt.xlabel('length')\n",
    "plt.ylabel('weight')\n",
    "plt.show()"
   ]
  },
  {
   "cell_type": "code",
   "execution_count": 43,
   "metadata": {},
   "outputs": [
    {
     "name": "stdout",
     "output_type": "stream",
     "text": [
      "Test acc =  1.0\n",
      "Predicted =  [0. 0. 1. 0. 1. 0. 1. 1. 1. 1. 1. 1. 1.]\n",
      "True =  [0. 0. 1. 0. 1. 0. 1. 1. 1. 1. 1. 1. 1.]\n",
      "Test accuracy =  1.0\n"
     ]
    }
   ],
   "source": [
    "# fitting using shuffled data\n",
    "kn = kn.fit(train_input, train_target)\n",
    "print(\"Test acc = \", kn.score(test_input, test_target))\n",
    "\n",
    "# Predict the class labels for the provided data.\n",
    "print('Predicted = ', kn.predict(test_input))\n",
    "# print(\"predict prob = \",  kn.predict(test_input))\n",
    "print('True = ', test_target)\n",
    "\n",
    "## acc \n",
    "# corr_pred = kn.predict(test_input) == test_target\n",
    "# print(\"Test accuracy = \", corr_pred.mean())"
   ]
  },
  {
   "cell_type": "markdown",
   "metadata": {},
   "source": [
    "### Learning 사용된 자료 확인하기"
   ]
  },
  {
   "cell_type": "code",
   "execution_count": 41,
   "metadata": {},
   "outputs": [
    {
     "name": "stdout",
     "output_type": "stream",
     "text": [
      "Features =  [[  32.   340. ]\n",
      " [  12.4   13.4]\n",
      " [  14.3   19.7]\n",
      " [  12.2   12.2]\n",
      " [  33.   700. ]\n",
      " [  36.   714. ]\n",
      " [  35.   720. ]\n",
      " [  35.   725. ]\n",
      " [  38.5  955. ]\n",
      " [  33.5  650. ]\n",
      " [  31.5  500. ]\n",
      " [  29.   430. ]\n",
      " [  41.   950. ]\n",
      " [  30.   450. ]\n",
      " [  29.   363. ]\n",
      " [  29.7  500. ]\n",
      " [  11.3    8.7]\n",
      " [  11.8   10. ]\n",
      " [  13.    12.2]\n",
      " [  32.   600. ]\n",
      " [  30.7  500. ]\n",
      " [  33.   700. ]\n",
      " [  35.   700. ]\n",
      " [  41.   975. ]\n",
      " [  38.5  920. ]\n",
      " [  25.4  242. ]\n",
      " [  12.     9.8]\n",
      " [  39.5  925. ]\n",
      " [  29.7  450. ]\n",
      " [  37.  1000. ]\n",
      " [  31.   500. ]\n",
      " [  10.5    7.5]\n",
      " [  26.3  290. ]\n",
      " [  34.   685. ]\n",
      " [  26.5  340. ]]\n",
      "Target =  [1 0 0 0 1 1 1 1 1 1 1 1 1 1 1 1 0 0 0 1 1 1 1 1 1 1 0 1 1 1 1 0 1 1 1]\n",
      "<bound method BaseEstimator.get_params of KNeighborsClassifier()>\n"
     ]
    }
   ],
   "source": [
    "print('Features = ', kn._fit_X)\n",
    "print('Target = ', kn._y)\n",
    "print(kn.get_params)"
   ]
  },
  {
   "cell_type": "markdown",
   "metadata": {},
   "source": [
    "### sklearn 으로 훈련세트와 테스트 세트 나누기"
   ]
  },
  {
   "cell_type": "code",
   "execution_count": 14,
   "metadata": {},
   "outputs": [
    {
     "name": "stdout",
     "output_type": "stream",
     "text": [
      "훈련자료 배열크기 = (36, 2), 테스트자료 배열크기 = (13, 2)\n"
     ]
    }
   ],
   "source": [
    "\n",
    "from  sklearn.model_selection import train_test_split\n",
    "\n",
    "# default test_size = 0.25\n",
    "train_input, test_input, train_target, test_target = train_test_split(\n",
    "    fish_data, fish_target, stratify=fish_target, random_state=42)\n",
    "\n",
    "print('훈련자료 배열크기 = {0}, 테스트자료 배열크기 = {1}'.format(train_input.shape, test_input.shape))\n",
    "\n",
    "# train_test_split(\n",
    "#     *arrays,\n",
    "#     test_size=None,\n",
    "#     train_size=None,\n",
    "#     random_state=None,\n",
    "#     shuffle=True,\n",
    "#     stratify=None,\n",
    "# )"
   ]
  },
  {
   "cell_type": "code",
   "execution_count": null,
   "metadata": {},
   "outputs": [],
   "source": [
    "## 문제\n",
    "'''\n",
    "Seaborn iris 자료를 이용하여 KNN 분류하고 정확도 측정\n",
    "'''\n"
   ]
  },
  {
   "cell_type": "markdown",
   "metadata": {},
   "source": [
    "# 특성공학 (Feature engineering)"
   ]
  },
  {
   "cell_type": "code",
   "execution_count": 16,
   "metadata": {},
   "outputs": [
    {
     "data": {
      "text/plain": [
       "1.0"
      ]
     },
     "execution_count": 16,
     "metadata": {},
     "output_type": "execute_result"
    }
   ],
   "source": [
    "from sklearn.neighbors import KNeighborsClassifier\n",
    "\n",
    "kn = KNeighborsClassifier()\n",
    "kn.fit(train_input, train_target)\n",
    "kn.score(test_input, test_target)"
   ]
  },
  {
   "cell_type": "code",
   "execution_count": 17,
   "metadata": {},
   "outputs": [
    {
     "data": {
      "image/png": "[encoded data removed]",
      "text/plain": [
       "<Figure size 640x480 with 1 Axes>"
      ]
     },
     "metadata": {},
     "output_type": "display_data"
    }
   ],
   "source": [
    "# from matplotlib.pyplot as plt\n",
    "\n",
    "plt.scatter(train_input[:,0], train_input[:,1], c = \"k\")\n",
    "plt.scatter(25, 150, marker = \"+\", s = 100, c = \"r\")\n",
    "plt.xlabel('Length')\n",
    "plt.ylabel('Weight')\n",
    "plt.show()"
   ]
  },
  {
   "cell_type": "markdown",
   "metadata": {},
   "source": [
    "### 주어진 샘플에서 가까운 이웃찾기"
   ]
  },
  {
   "cell_type": "code",
   "execution_count": 18,
   "metadata": {},
   "outputs": [
    {
     "data": {
      "image/png": "[encoded data removed]",
      "text/plain": [
       "<Figure size 640x480 with 1 Axes>"
      ]
     },
     "metadata": {},
     "output_type": "display_data"
    }
   ],
   "source": [
    "# Finds the K-neighbors of a point.\n",
    "distance, index = kn.kneighbors([[25, 150]])\n",
    "\n",
    "# print(kn.kneighbors([[25, 150]]))\n",
    "\n",
    "plt.scatter(train_input[:,0], train_input[:,1], c = \"k\")\n",
    "plt.scatter(25, 150, marker =\"+\", c = \"r\", s = 200)\n",
    "plt.scatter(train_input[index, 0], train_input[index, 1],\n",
    "            marker = \"D\", c = \"c\")\n",
    "plt.xlabel('length')\n",
    "plt.ylabel('weight')\n",
    "plt.show()"
   ]
  },
  {
   "cell_type": "markdown",
   "metadata": {},
   "source": [
    "### 이웃한 데이터 포인트찾기"
   ]
  },
  {
   "cell_type": "code",
   "execution_count": 19,
   "metadata": {},
   "outputs": [
    {
     "name": "stdout",
     "output_type": "stream",
     "text": [
      "훈련자료의 이웃자료 = [[[ 25.4 242. ]\n",
      "  [ 15.   19.9]\n",
      "  [ 14.3  19.7]\n",
      "  [ 13.   12.2]\n",
      "  [ 12.2  12.2]]], \n",
      "훈련자료의 그룹 = [[1. 0. 0. 0. 0.]]\n",
      "훈련자료와의 거리는 = [[ 92.00086956 130.48375378 130.73859415 138.32150953 138.39320793]]\n"
     ]
    }
   ],
   "source": [
    "print('훈련자료의 이웃자료 = {0}, \\n훈련자료의 그룹 = {1}'.format(train_input[index], train_target[index]))\n",
    "print('훈련자료와의 거리는 = {}'.format(distance))\n"
   ]
  },
  {
   "cell_type": "markdown",
   "metadata": {},
   "source": [
    "### 자료의 표준화 (Feature scaling)"
   ]
  },
  {
   "cell_type": "code",
   "execution_count": 20,
   "metadata": {},
   "outputs": [
    {
     "data": {
      "image/png": "[encoded data removed]",
      "text/plain": [
       "<Figure size 640x480 with 1 Axes>"
      ]
     },
     "metadata": {},
     "output_type": "display_data"
    }
   ],
   "source": [
    "plt.scatter(train_input[:,0], train_input[:,1])\n",
    "plt.scatter(25, 150, marker='^')\n",
    "plt.scatter(train_input[index,0], train_input[index,1], marker='D')\n",
    "plt.xlim((0, 1000))\n",
    "plt.xlabel('length')\n",
    "plt.ylabel('weight')\n",
    "plt.show()"
   ]
  },
  {
   "cell_type": "markdown",
   "metadata": {},
   "source": [
    "### z-score : 모든 자료를 평균이 0이고 표준편차가 1인 자료로 변환"
   ]
  },
  {
   "cell_type": "code",
   "execution_count": 22,
   "metadata": {},
   "outputs": [
    {
     "name": "stdout",
     "output_type": "stream",
     "text": [
      "평균은 =[ 27.29722222 454.09722222], 표준편차 = [  9.98244253 323.29893931]\n"
     ]
    }
   ],
   "source": [
    "mean = np.mean(train_input, axis = 0)\n",
    "std = np.std(train_input, axis = 0)\n",
    "print('평균은 ={0}, 표준편차 = {1}'.format(mean, std))\n",
    "\n",
    "train_scaled = (train_input - mean)/std"
   ]
  },
  {
   "cell_type": "code",
   "execution_count": 25,
   "metadata": {},
   "outputs": [
    {
     "name": "stdout",
     "output_type": "stream",
     "text": [
      "z-score 점수는 = [-0.23012627 -0.63129568]\n"
     ]
    },
    {
     "data": {
      "image/png": "[encoded data removed]",
      "text/plain": [
       "<Figure size 640x480 with 1 Axes>"
      ]
     },
     "metadata": {},
     "output_type": "display_data"
    }
   ],
   "source": [
    "### prediction [25, 150]\n",
    "new = ([25, 250] - mean)/std\n",
    "print('z-score 점수는 =', new)\n",
    "\n",
    "plt.scatter(train_scaled[:,0], train_scaled[:,1])\n",
    "plt.scatter(new[0], new[1], marker='^', s  = 100, c = \"r\")\n",
    "plt.xlabel('length')\n",
    "plt.ylabel('weight')\n",
    "plt.show()"
   ]
  },
  {
   "cell_type": "code",
   "execution_count": 26,
   "metadata": {},
   "outputs": [
    {
     "name": "stdout",
     "output_type": "stream",
     "text": [
      "Accuracy of test set=  1.0\n",
      "[1.]\n"
     ]
    }
   ],
   "source": [
    "###\n",
    "kn.fit(train_scaled, train_target)\n",
    "test_scaled = (test_input - mean) / std\n",
    "\n",
    "kn.score(test_scaled, test_target)\n",
    "print('Accuracy of test set= ', kn.score(test_scaled, test_target))\n",
    "print(kn.predict([new]))"
   ]
  },
  {
   "cell_type": "code",
   "execution_count": 28,
   "metadata": {},
   "outputs": [],
   "source": [
    "distances, indexes = kn.kneighbors([new])"
   ]
  },
  {
   "cell_type": "code",
   "execution_count": 29,
   "metadata": {},
   "outputs": [
    {
     "data": {
      "image/png": "[encoded data removed]",
      "text/plain": [
       "<Figure size 640x480 with 1 Axes>"
      ]
     },
     "metadata": {},
     "output_type": "display_data"
    }
   ],
   "source": [
    "plt.scatter(train_scaled[:,0], train_scaled[:,1])\n",
    "plt.scatter(new[0], new[1], marker='^')\n",
    "plt.scatter(train_scaled[indexes,0], train_scaled[indexes,1], marker='D')\n",
    "plt.xlabel('length')\n",
    "plt.ylabel('weight')\n",
    "plt.show()"
   ]
  },
  {
   "cell_type": "code",
   "execution_count": 3,
   "metadata": {},
   "outputs": [
    {
     "ename": "NameError",
     "evalue": "name 'train_input' is not defined",
     "output_type": "error",
     "traceback": [
      "\u001b[1;31m---------------------------------------------------------------------------\u001b[0m",
      "\u001b[1;31mNameError\u001b[0m                                 Traceback (most recent call last)",
      "Cell \u001b[1;32mIn[3], line 4\u001b[0m\n\u001b[0;32m      1\u001b[0m \u001b[38;5;28;01mfrom\u001b[39;00m \u001b[38;5;21;01msklearn\u001b[39;00m\u001b[38;5;21;01m.\u001b[39;00m\u001b[38;5;21;01mpreprocessing\u001b[39;00m \u001b[38;5;28;01mimport\u001b[39;00m StandardScaler\n\u001b[0;32m      3\u001b[0m ss \u001b[38;5;241m=\u001b[39m StandardScaler()\n\u001b[1;32m----> 4\u001b[0m ss\u001b[38;5;241m.\u001b[39mfit(\u001b[43mtrain_input\u001b[49m)\n\u001b[0;32m      6\u001b[0m train_scaled \u001b[38;5;241m=\u001b[39m ss\u001b[38;5;241m.\u001b[39mtransform(train_input)\n\u001b[0;32m      7\u001b[0m test_scaled \u001b[38;5;241m=\u001b[39m ss\u001b[38;5;241m.\u001b[39mtransform(test_input)\n",
      "\u001b[1;31mNameError\u001b[0m: name 'train_input' is not defined"
     ]
    }
   ],
   "source": [
    "from sklearn.preprocessing import StandardScaler\n",
    "\n",
    "ss = StandardScaler(with_mean=True, with_std=True)\n",
    "ss.fit(train_input)\n",
    "\n",
    "print(ss.mean_)\n",
    "print(ss.scale_)\n",
    "print(ss.n_features_in_)\n",
    "\n",
    "train_scaled = ss.transform(train_input)\n",
    "test_scaled = ss.transform(test_input)"
   ]
  },
  {
   "cell_type": "markdown",
   "metadata": {},
   "source": [
    "# 사용예제"
   ]
  },
  {
   "cell_type": "code",
   "execution_count": 120,
   "metadata": {},
   "outputs": [
    {
     "name": "stdout",
     "output_type": "stream",
     "text": [
      "[0]\n",
      "[[0.66666667 0.33333333]]\n"
     ]
    }
   ],
   "source": [
    "\n",
    "# Example\n",
    "# --------\n",
    "X = [[0], [1], [2], [3]]\n",
    "y = [0, 0, 1, 1]\n",
    "from sklearn.neighbors import KNeighborsClassifier\n",
    "\n",
    "neigh = KNeighborsClassifier(n_neighbors=3)\n",
    "\n",
    "neigh.fit(X, y)\n",
    "\n",
    "print(neigh.predict([[1.1]]))\n",
    "# [0]\n",
    "print(neigh.predict_proba([[0.9]]))\n",
    "# [[0.66666667 0.33333333]]\n",
    "\n",
    "\n",
    "# X = [[0], [1], [2], [3]]\n",
    "# y = [0, 0, 1, 1]\n",
    "# from sklearn.neighbors import KNeighborsClassifier\n",
    "# neigh = KNeighborsClassifier()\n",
    "# neigh.fit(X, y)\n",
    "\n",
    "# neigh.n_neighbors=3\n",
    "# print(neigh.predict([[1.1]]))\n",
    "# # [0]\n",
    "# print(neigh.predict_proba([[0.9]]))\n",
    "# # [[0.66666667 0.33333333]]"
   ]
  },
  {
   "cell_type": "code",
   "execution_count": null,
   "metadata": {},
   "outputs": [],
   "source": [
    "## 문제\n",
    "'''\n",
    "Seaborn iris 자료를 정규화하고 KNN 분류를 실시\n",
    "\n",
    "'''\n"
   ]
  },
  {
   "cell_type": "markdown",
   "metadata": {},
   "source": [
    "# 확인문제"
   ]
  },
  {
   "cell_type": "code",
   "execution_count": 43,
   "metadata": {},
   "outputs": [],
   "source": [
    "kn = KNeighborsClassifier()\n",
    "\n",
    "score_list = []\n",
    "n_list = []\n",
    "for n in range(1, 30):\n",
    "    # 최근접 이웃 개수 설정\n",
    "    if n % 2 != 0:\n",
    "        \n",
    "        kn.n_neighbors = n\n",
    "        kn.fit(train_scaled, train_target)\n",
    "        score = kn.score(test_scaled, test_target)\n",
    "        n_list.append(n)\n",
    "        score_list.append(score)   "
   ]
  },
  {
   "cell_type": "code",
   "execution_count": 47,
   "metadata": {},
   "outputs": [
    {
     "data": {
      "image/png": "[encoded data removed]",
      "text/plain": [
       "<Figure size 640x480 with 1 Axes>"
      ]
     },
     "metadata": {},
     "output_type": "display_data"
    }
   ],
   "source": [
    "plt.plot(n_list, score_list)\n",
    "plt.xlabel(\"n neigbors\")\n",
    "plt.ylabel(\"Test acc\")\n",
    "plt.show()"
   ]
  },
  {
   "cell_type": "code",
   "execution_count": 41,
   "metadata": {},
   "outputs": [],
   "source": [
    "## knn 학습 parameter\n",
    "\n",
    "#### n_neighbors : int, default=5\n",
    "#### weights : {'uniform', 'distance'} or callable, default='uniform'\n",
    "#### algorithm : {'auto', 'ball_tree', 'kd_tree', 'brute'}, default='auto'\n",
    "#### leaf_size : int, default=30\n",
    "#### metric : str or callable, default='minkowski'"
   ]
  }
 ],
 "metadata": {
  "kernelspec": {
   "display_name": "Python 3",
   "language": "python",
   "name": "python3"
  },
  "language_info": {
   "codemirror_mode": {
    "name": "ipython",
    "version": 3
   },
   "file_extension": ".py",
   "mimetype": "text/x-python",
   "name": "python",
   "nbconvert_exporter": "python",
   "pygments_lexer": "ipython3",
   "version": "3.9.19"
  }
 },
 "nbformat": 4,
 "nbformat_minor": 2
}
