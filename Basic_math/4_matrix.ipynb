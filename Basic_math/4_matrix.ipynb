{
 "cells": [
  {
   "cell_type": "code",
   "execution_count": 1,
   "metadata": {},
   "outputs": [],
   "source": [
    "import numpy as np\n",
    "import matplotlib.pyplot as plt"
   ]
  },
  {
   "cell_type": "code",
   "execution_count": 6,
   "metadata": {},
   "outputs": [
    {
     "name": "stdout",
     "output_type": "stream",
     "text": [
      "Matrix A = \n",
      " [[ 2  3  4]\n",
      " [10 20 30]]\n",
      "Shape of A = (2, 3)\n",
      "Dtype of A = int64\n",
      "Matrix B = \n",
      " [[ 2.  3.  4.]\n",
      " [10. 20. 30.]]\n",
      "Shape of B = (2, 3)\n",
      "Dtype of B = float32\n"
     ]
    }
   ],
   "source": [
    "##\n",
    "A = np.array([[2, 3, 4],\n",
    "              [10, 20, 30]])\n",
    "B = np.array([[2, 3, 4],\n",
    "              [10, 20, 30]], dtype = np.float32)\n",
    "\n",
    "print(\"Matrix A = \\n\", A)\n",
    "print(\"Shape of A =\", A.shape)\n",
    "print(\"Dtype of A =\", A.dtype)\n",
    "\n",
    "print(\"Matrix B = \\n\", B)\n",
    "print(\"Shape of B =\", B.shape)\n",
    "print(\"Dtype of B =\", B.dtype)"
   ]
  },
  {
   "cell_type": "code",
   "execution_count": 15,
   "metadata": {},
   "outputs": [
    {
     "name": "stdout",
     "output_type": "stream",
     "text": [
      "D_1 = \n",
      " [[1 0 0 0]\n",
      " [0 2 0 0]\n",
      " [0 0 3 0]\n",
      " [0 0 0 4]]\n",
      "[6 7 3 7 9]\n",
      "D_2 = \n",
      " [[6 0 0 0 0]\n",
      " [0 7 0 0 0]\n",
      " [0 0 3 0 0]\n",
      " [0 0 0 7 0]\n",
      " [0 0 0 0 9]]\n"
     ]
    }
   ],
   "source": [
    "## Diagonal\n",
    "\n",
    "a = np.array([1, 2, 3, 4])\n",
    "D_1 = np.diag(a)\n",
    "print(\"D_1 = \\n\", D_1)\n",
    "\n",
    "b = np.random.randint(1, 10, 5)\n",
    "print(b)\n",
    "D_2 = np.diag(b)\n",
    "print(\"D_2 = \\n\", D_2)"
   ]
  },
  {
   "cell_type": "code",
   "execution_count": 17,
   "metadata": {},
   "outputs": [
    {
     "name": "stdout",
     "output_type": "stream",
     "text": [
      "3 X 3 Identity Matrix = \n",
      " [[1. 0. 0.]\n",
      " [0. 1. 0.]\n",
      " [0. 0. 1.]]\n",
      "5 X 5 Identity Matrix = \n",
      " [[1. 0. 0. 0. 0.]\n",
      " [0. 1. 0. 0. 0.]\n",
      " [0. 0. 1. 0. 0.]\n",
      " [0. 0. 0. 1. 0.]\n",
      " [0. 0. 0. 0. 1.]]\n"
     ]
    }
   ],
   "source": [
    "## 단위행렬, Identity Matrix\n",
    "\n",
    "I_3 = np.eye(3)\n",
    "print(\"3 X 3 Identity Matrix = \\n\", I_3)\n",
    "\n",
    "I_5 = np.eye(5)\n",
    "print(\"5 X 5 Identity Matrix = \\n\", I_5)"
   ]
  },
  {
   "cell_type": "code",
   "execution_count": 19,
   "metadata": {},
   "outputs": [
    {
     "name": "stdout",
     "output_type": "stream",
     "text": [
      "A = \n",
      " [[1 2 3 4]\n",
      " [5 6 7 8]]\n",
      "Transpose of A = \n",
      " [[1 5]\n",
      " [2 6]\n",
      " [3 7]\n",
      " [4 8]]\n"
     ]
    }
   ],
   "source": [
    "## 전치행렬, Matrix Transpose\n",
    "\n",
    "A = np.array([[1, 2, 3, 4],\n",
    "              [5, 6, 7, 8]], dtype = np.int64)\n",
    "\n",
    "print(\"A = \\n\", A)\n",
    "print(\"Transpose of A = \\n\", A.T)"
   ]
  },
  {
   "cell_type": "code",
   "execution_count": 21,
   "metadata": {},
   "outputs": [
    {
     "name": "stdout",
     "output_type": "stream",
     "text": [
      "A * B = \n",
      " [[ 1  2]\n",
      " [ 9 20]]\n",
      "A X B = \n",
      " [[ 7 11]\n",
      " [15 23]]\n"
     ]
    }
   ],
   "source": [
    "## Matrix Product\n",
    "\n",
    "A = np.array([[1, 2],\n",
    "              [3, 4]])\n",
    "B = np.array([[1, 1],\n",
    "              [3, 5]])\n",
    "\n",
    "print(\"A * B = \\n\", A*B)\n",
    "print(\"A X B = \\n\", np.matmul(A, B))\n"
   ]
  }
 ],
 "metadata": {
  "kernelspec": {
   "display_name": "Python 3",
   "language": "python",
   "name": "python3"
  },
  "language_info": {
   "codemirror_mode": {
    "name": "ipython",
    "version": 3
   },
   "file_extension": ".py",
   "mimetype": "text/x-python",
   "name": "python",
   "nbconvert_exporter": "python",
   "pygments_lexer": "ipython3",
   "version": "3.11.9"
  }
 },
 "nbformat": 4,
 "nbformat_minor": 2
}
