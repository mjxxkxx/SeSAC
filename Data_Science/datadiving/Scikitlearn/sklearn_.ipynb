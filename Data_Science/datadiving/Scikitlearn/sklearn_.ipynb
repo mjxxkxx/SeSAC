{
 "cells": [
  {
   "cell_type": "markdown",
   "metadata": {},
   "source": [
    "#### 숙제 : test셋과 train셋의 분리 연습\n",
    "다음 시간에는 'titanic dataset'을 심도있게 다룰 예정입니다.  \n",
    "본격적으로 시작하기 전!! 🐬데이터 다이빙🐬 여러분이 직접 test셋과 train셋을 분리해보도록 하겠습니다.\n",
    "> - 타이타닉 데이터셋을 seaborn이 아닌, 본인 계정에서 gdrive 경로를 통해 불러오세요.\n",
    "- y라는 변수를 만들고 생존에 대한 열을 선언하세요.\n",
    "- x라는 변수에 label을 제외한 열들을 선언하세요.\n",
    "- z라는 변수에 'age'열을 담은 뒤, 비어있는 값이 있는 행을 제거하고, 배운 내용을 토대로 다양하게 해당 열을 시각화해보세요."
   ]
  }
 ],
 "metadata": {
  "language_info": {
   "name": "python"
  }
 },
 "nbformat": 4,
 "nbformat_minor": 2
}
