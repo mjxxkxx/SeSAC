{
  "cells": [
    {
      "cell_type": "markdown",
      "metadata": {
        "id": "BN6X8cIzHMgw"
      },
      "source": [
        "# Pandas Series 다루기"
      ]
    },
    {
      "cell_type": "code",
      "execution_count": 49,
      "metadata": {
        "id": "KLI9a9eT1X3q"
      },
      "outputs": [],
      "source": [
        "import pandas as pd"
      ]
    },
    {
      "cell_type": "markdown",
      "metadata": {
        "id": "-BXitR6fHS3r"
      },
      "source": [
        "## Series 생성하기"
      ]
    },
    {
      "cell_type": "code",
      "execution_count": 50,
      "metadata": {
        "id": "YO4ctZhSbv5E"
      },
      "outputs": [],
      "source": [
        "# Pandas Series 만들기 연습\n",
        "\n",
        "# 올림픽에서 달리기 경기를 했습니다.\n",
        "# index 값으로 선수들의 이름을 가지고,\n",
        "# data로 선수들의 기록 시간 값을 가지는 Series를 만들어 보세요."
      ]
    },
    {
      "cell_type": "code",
      "execution_count": 51,
      "metadata": {
        "colab": {
          "base_uri": "https://localhost:8080/"
        },
        "id": "i-xMFrIWH-G1",
        "outputId": "38b88c54-d4e3-4a9c-c4d3-9372a1beb6f1"
      },
      "outputs": [
        {
          "name": "stdout",
          "output_type": "stream",
          "text": [
            "로즈마리     120.10\n",
            "에보라      120.90\n",
            "라바베      120.96\n",
            "알렉산드라    120.65\n",
            "dtype: float64\n"
          ]
        }
      ],
      "source": [
        "# 선수 이름 : 로즈마리, 에보라, 라바베,  알렉산드라\n",
        "# 기록      :  120.1,   120.9,  120.96,  120.65\n",
        "\n",
        "record_series = pd.Series(index = ['로즈마리', '에보라', '라바베', '알렉산드라'], data = [120.1, 120.9, 120.96, 120.65])\n",
        "\n",
        "print(record_series)"
      ]
    },
    {
      "cell_type": "markdown",
      "metadata": {},
      "source": [
        "\n",
        "\n",
        "---\n",
        "\n"
      ]
    },
    {
      "cell_type": "markdown",
      "metadata": {
        "id": "GDuH3G1GHW4T"
      },
      "source": [
        "## 데이터 정렬"
      ]
    },
    {
      "cell_type": "code",
      "execution_count": 52,
      "metadata": {
        "id": "6u5e_MiQcvlF"
      },
      "outputs": [],
      "source": [
        "# Series에서는 data 값을 기준으로 정렬해주는 기능을 제공합니다.\n",
        "# series.sort_values() 함수를 이용해서, 기록이 빠른 순서대로 정렬해보세요"
      ]
    },
    {
      "cell_type": "code",
      "execution_count": 53,
      "metadata": {
        "colab": {
          "base_uri": "https://localhost:8080/"
        },
        "id": "IKfNdO11IGRx",
        "outputId": "f96d2c4f-18ac-4b58-8d4e-f04f9238e707"
      },
      "outputs": [
        {
          "data": {
            "text/plain": [
              "로즈마리     120.10\n",
              "알렉산드라    120.65\n",
              "에보라      120.90\n",
              "라바베      120.96\n",
              "dtype: float64"
            ]
          },
          "execution_count": 53,
          "metadata": {},
          "output_type": "execute_result"
        }
      ],
      "source": [
        "record_series.sort_values()"
      ]
    },
    {
      "cell_type": "markdown",
      "metadata": {},
      "source": [
        "\n",
        "\n",
        "---\n",
        "\n"
      ]
    },
    {
      "cell_type": "markdown",
      "metadata": {
        "id": "63zgDWYGHZ4n"
      },
      "source": [
        "## Series 값 추가"
      ]
    },
    {
      "cell_type": "code",
      "execution_count": 54,
      "metadata": {
        "id": "_-or9wY3dHng"
      },
      "outputs": [],
      "source": [
        "# 선수 한명의 기록을 빠뜨렸습니다!\n",
        "# 델리아 선수가 120.35초로 들어왔었네요\n",
        "# 먼저, 델리아 선수에 대한 정보를 Series로 만들어보세요\n",
        "delia_record = pd.Series(index = ['델리아'], data = [120.35])"
      ]
    },
    {
      "cell_type": "code",
      "execution_count": 55,
      "metadata": {
        "id": "1A-VIclrdt9b"
      },
      "outputs": [
        {
          "data": {
            "text/plain": [
              "로즈마리     120.10\n",
              "에보라      120.90\n",
              "라바베      120.96\n",
              "알렉산드라    120.65\n",
              "델리아      120.35\n",
              "dtype: float64"
            ]
          },
          "execution_count": 55,
          "metadata": {},
          "output_type": "execute_result"
        }
      ],
      "source": [
        "# record_series에 델리아 선수의 데이터를 추가해보세요!\n",
        "record_series = pd.concat([record_series, delia_record])\n",
        "record_series"
      ]
    },
    {
      "cell_type": "code",
      "execution_count": 56,
      "metadata": {
        "id": "AheZBl4N-e10"
      },
      "outputs": [],
      "source": [
        "record_series['델리아'] = 100"
      ]
    },
    {
      "cell_type": "code",
      "execution_count": 57,
      "metadata": {
        "id": "2PbAojyOeJ1l"
      },
      "outputs": [
        {
          "data": {
            "text/plain": [
              "델리아      100.00\n",
              "로즈마리     120.10\n",
              "알렉산드라    120.65\n",
              "에보라      120.90\n",
              "라바베      120.96\n",
              "dtype: float64"
            ]
          },
          "execution_count": 57,
          "metadata": {},
          "output_type": "execute_result"
        }
      ],
      "source": [
        "# 다시 한번, 순위별로 정렬을 해보세요\n",
        "record_series.sort_values()"
      ]
    },
    {
      "cell_type": "markdown",
      "metadata": {},
      "source": [
        "\n",
        "\n",
        "---\n",
        "\n"
      ]
    },
    {
      "cell_type": "markdown",
      "metadata": {
        "id": "2WHnVDzVHhA8"
      },
      "source": [
        "## Series 값 삭제"
      ]
    },
    {
      "cell_type": "code",
      "execution_count": 59,
      "metadata": {
        "id": "5Xc3Kr0yeTkY"
      },
      "outputs": [],
      "source": [
        "# record_series에서 에보라 선수 정보를 삭제해 보세요\n",
        "record_series.drop('에보라',inplace=True)"
      ]
    },
    {
      "cell_type": "code",
      "execution_count": 60,
      "metadata": {
        "id": "dsrPDBbV-nXU"
      },
      "outputs": [
        {
          "data": {
            "text/plain": [
              "로즈마리     120.10\n",
              "라바베      120.96\n",
              "알렉산드라    120.65\n",
              "델리아      100.00\n",
              "dtype: float64"
            ]
          },
          "execution_count": 60,
          "metadata": {},
          "output_type": "execute_result"
        }
      ],
      "source": [
        "record_series"
      ]
    },
    {
      "cell_type": "markdown",
      "metadata": {},
      "source": [
        "\n",
        "\n",
        "---\n",
        "\n"
      ]
    },
    {
      "cell_type": "markdown",
      "metadata": {
        "id": "EZLfRZWgGzT-"
      },
      "source": [
        "# Pandas DataFrame 다루기"
      ]
    },
    {
      "cell_type": "markdown",
      "metadata": {
        "id": "XdNdt1h4G15A"
      },
      "source": [
        "## DataFrame 생성"
      ]
    },
    {
      "cell_type": "code",
      "execution_count": 37,
      "metadata": {
        "id": "iox6CQLa6wlq"
      },
      "outputs": [],
      "source": [
        "# 딕셔너리형 이용해서 DataFrame 만들기\n",
        "# Key : Value\n",
        "# Key 에는 DataFrame의 Column 이름을,\n",
        "# Value에는 Series 해당 Column 될 Series를 넣어야 합니다"
      ]
    },
    {
      "cell_type": "code",
      "execution_count": 61,
      "metadata": {
        "colab": {
          "base_uri": "https://localhost:8080/",
          "height": 142
        },
        "id": "59dj3W7h2KoY",
        "outputId": "03235654-8bf1-411f-871a-90751fe3512a"
      },
      "outputs": [
        {
          "data": {
            "text/html": [
              "<div>\n",
              "<style scoped>\n",
              "    .dataframe tbody tr th:only-of-type {\n",
              "        vertical-align: middle;\n",
              "    }\n",
              "\n",
              "    .dataframe tbody tr th {\n",
              "        vertical-align: top;\n",
              "    }\n",
              "\n",
              "    .dataframe thead th {\n",
              "        text-align: right;\n",
              "    }\n",
              "</style>\n",
              "<table border=\"1\" class=\"dataframe\">\n",
              "  <thead>\n",
              "    <tr style=\"text-align: right;\">\n",
              "      <th></th>\n",
              "      <th>성별</th>\n",
              "      <th>나이</th>\n",
              "    </tr>\n",
              "  </thead>\n",
              "  <tbody>\n",
              "    <tr>\n",
              "      <th>철수</th>\n",
              "      <td>남</td>\n",
              "      <td>20</td>\n",
              "    </tr>\n",
              "    <tr>\n",
              "      <th>영희</th>\n",
              "      <td>여</td>\n",
              "      <td>19</td>\n",
              "    </tr>\n",
              "    <tr>\n",
              "      <th>민수</th>\n",
              "      <td>남</td>\n",
              "      <td>21</td>\n",
              "    </tr>\n",
              "  </tbody>\n",
              "</table>\n",
              "</div>"
            ],
            "text/plain": [
              "   성별  나이\n",
              "철수  남  20\n",
              "영희  여  19\n",
              "민수  남  21"
            ]
          },
          "execution_count": 61,
          "metadata": {},
          "output_type": "execute_result"
        }
      ],
      "source": [
        "# 철수, 영희, 민수가 함께 있습니다.\n",
        "# 각 친구들의 이름을 index로 가지고,\n",
        "# 성별, 나이 Column들을 가지는 DataFrame을 만들어 봅시다!\n",
        "items = {\n",
        "    '성별': pd.Series(index = ['철수', '영희','민수'],data = ['남', '여','남']),\n",
        "    '나이': pd.Series(index = ['철수', '영희','민수'],data = [20, 19,21])}\n",
        "df_items = pd.DataFrame(items)\n",
        "df_items"
      ]
    },
    {
      "cell_type": "markdown",
      "metadata": {},
      "source": [
        "\n",
        "\n",
        "---\n",
        "\n"
      ]
    },
    {
      "cell_type": "markdown",
      "metadata": {
        "id": "RIIOODBuG5QV"
      },
      "source": [
        "## DataFrame Column 추가"
      ]
    },
    {
      "cell_type": "code",
      "execution_count": 40,
      "metadata": {
        "id": "us1RVhQW8rhz"
      },
      "outputs": [],
      "source": [
        "# DataFrame의 Column 추가하기!\n",
        "# insert() 함수를 이용해서, DataFrame의 Column을 추가해봅시다.\n",
        "# df_people.insert(loc= ? , column = ?, value = ?)"
      ]
    },
    {
      "cell_type": "code",
      "execution_count": 64,
      "metadata": {},
      "outputs": [],
      "source": [
        "df_items.insert(1, '혈액형', ['o','a','b'])"
      ]
    },
    {
      "cell_type": "code",
      "execution_count": 72,
      "metadata": {},
      "outputs": [
        {
          "data": {
            "text/html": [
              "<div>\n",
              "<style scoped>\n",
              "    .dataframe tbody tr th:only-of-type {\n",
              "        vertical-align: middle;\n",
              "    }\n",
              "\n",
              "    .dataframe tbody tr th {\n",
              "        vertical-align: top;\n",
              "    }\n",
              "\n",
              "    .dataframe thead th {\n",
              "        text-align: right;\n",
              "    }\n",
              "</style>\n",
              "<table border=\"1\" class=\"dataframe\">\n",
              "  <thead>\n",
              "    <tr style=\"text-align: right;\">\n",
              "      <th></th>\n",
              "      <th>성별</th>\n",
              "      <th>혈액형</th>\n",
              "      <th>나이</th>\n",
              "    </tr>\n",
              "  </thead>\n",
              "  <tbody>\n",
              "    <tr>\n",
              "      <th>철수</th>\n",
              "      <td>남</td>\n",
              "      <td>o</td>\n",
              "      <td>20</td>\n",
              "    </tr>\n",
              "    <tr>\n",
              "      <th>영희</th>\n",
              "      <td>여</td>\n",
              "      <td>a</td>\n",
              "      <td>19</td>\n",
              "    </tr>\n",
              "    <tr>\n",
              "      <th>민수</th>\n",
              "      <td>남</td>\n",
              "      <td>b</td>\n",
              "      <td>21</td>\n",
              "    </tr>\n",
              "  </tbody>\n",
              "</table>\n",
              "</div>"
            ],
            "text/plain": [
              "   성별 혈액형  나이\n",
              "철수  남   o  20\n",
              "영희  여   a  19\n",
              "민수  남   b  21"
            ]
          },
          "execution_count": 72,
          "metadata": {},
          "output_type": "execute_result"
        }
      ],
      "source": [
        "df_items"
      ]
    },
    {
      "cell_type": "markdown",
      "metadata": {},
      "source": [
        "\n",
        "\n",
        "---\n",
        "\n"
      ]
    },
    {
      "cell_type": "markdown",
      "metadata": {
        "id": "yudI1rYeG-CM"
      },
      "source": [
        "## DataFrame Row 추가"
      ]
    },
    {
      "cell_type": "code",
      "execution_count": 43,
      "metadata": {
        "id": "YRn9wAyp85X6"
      },
      "outputs": [],
      "source": [
        "# DataFrame의 Row 추가하기!\n",
        "# 먼저, 추가할 Row에 해당하는 DataFrame을 만들어 봅시다."
      ]
    },
    {
      "cell_type": "code",
      "execution_count": 77,
      "metadata": {
        "colab": {
          "base_uri": "https://localhost:8080/",
          "height": 80
        },
        "id": "6mC-83ck90ar",
        "outputId": "570fd352-5b98-49fe-ad43-25dbfb59aee7"
      },
      "outputs": [
        {
          "data": {
            "text/html": [
              "<div>\n",
              "<style scoped>\n",
              "    .dataframe tbody tr th:only-of-type {\n",
              "        vertical-align: middle;\n",
              "    }\n",
              "\n",
              "    .dataframe tbody tr th {\n",
              "        vertical-align: top;\n",
              "    }\n",
              "\n",
              "    .dataframe thead th {\n",
              "        text-align: right;\n",
              "    }\n",
              "</style>\n",
              "<table border=\"1\" class=\"dataframe\">\n",
              "  <thead>\n",
              "    <tr style=\"text-align: right;\">\n",
              "      <th></th>\n",
              "      <th>성별</th>\n",
              "      <th>혈액형</th>\n",
              "      <th>나이</th>\n",
              "    </tr>\n",
              "  </thead>\n",
              "  <tbody>\n",
              "    <tr>\n",
              "      <th>지수</th>\n",
              "      <td>여</td>\n",
              "      <td>A</td>\n",
              "      <td>35</td>\n",
              "    </tr>\n",
              "  </tbody>\n",
              "</table>\n",
              "</div>"
            ],
            "text/plain": [
              "   성별 혈액형  나이\n",
              "지수  여   A  35"
            ]
          },
          "execution_count": 77,
          "metadata": {},
          "output_type": "execute_result"
        }
      ],
      "source": [
        "new_values = [{'성별' : '여', '혈액형' : 'A', '나이' : 35 }]\n",
        "new_row = pd.DataFrame(new_values, index = ['지수'])\n",
        "new_row"
      ]
    },
    {
      "cell_type": "code",
      "execution_count": 46,
      "metadata": {
        "id": "2xkdJQ1n92FY"
      },
      "outputs": [],
      "source": [
        "# 이번에는, DataFrame의 row를 추가해봅시다."
      ]
    },
    {
      "cell_type": "code",
      "execution_count": 80,
      "metadata": {
        "colab": {
          "base_uri": "https://localhost:8080/",
          "height": 172
        },
        "id": "lO2ukQeM-AYi",
        "outputId": "33b07ff6-afad-42cf-d515-cf9f649adb68"
      },
      "outputs": [
        {
          "data": {
            "text/html": [
              "<div>\n",
              "<style scoped>\n",
              "    .dataframe tbody tr th:only-of-type {\n",
              "        vertical-align: middle;\n",
              "    }\n",
              "\n",
              "    .dataframe tbody tr th {\n",
              "        vertical-align: top;\n",
              "    }\n",
              "\n",
              "    .dataframe thead th {\n",
              "        text-align: right;\n",
              "    }\n",
              "</style>\n",
              "<table border=\"1\" class=\"dataframe\">\n",
              "  <thead>\n",
              "    <tr style=\"text-align: right;\">\n",
              "      <th></th>\n",
              "      <th>성별</th>\n",
              "      <th>혈액형</th>\n",
              "      <th>나이</th>\n",
              "    </tr>\n",
              "  </thead>\n",
              "  <tbody>\n",
              "    <tr>\n",
              "      <th>철수</th>\n",
              "      <td>남</td>\n",
              "      <td>o</td>\n",
              "      <td>20</td>\n",
              "    </tr>\n",
              "    <tr>\n",
              "      <th>영희</th>\n",
              "      <td>여</td>\n",
              "      <td>a</td>\n",
              "      <td>19</td>\n",
              "    </tr>\n",
              "    <tr>\n",
              "      <th>민수</th>\n",
              "      <td>남</td>\n",
              "      <td>b</td>\n",
              "      <td>21</td>\n",
              "    </tr>\n",
              "    <tr>\n",
              "      <th>지수</th>\n",
              "      <td>여</td>\n",
              "      <td>A</td>\n",
              "      <td>35</td>\n",
              "    </tr>\n",
              "  </tbody>\n",
              "</table>\n",
              "</div>"
            ],
            "text/plain": [
              "   성별 혈액형  나이\n",
              "철수  남   o  20\n",
              "영희  여   a  19\n",
              "민수  남   b  21\n",
              "지수  여   A  35"
            ]
          },
          "execution_count": 80,
          "metadata": {},
          "output_type": "execute_result"
        }
      ],
      "source": [
        "df_people = df_items\n",
        "df_people = pd.concat([df_people, new_row])\n",
        "df_people"
      ]
    },
    {
      "cell_type": "markdown",
      "metadata": {
        "id": "1tQXfTV0-2ii"
      },
      "source": [
        "\n",
        "\n",
        "---\n",
        "\n"
      ]
    },
    {
      "cell_type": "markdown",
      "metadata": {
        "id": "mSY2KYQIHCBb"
      },
      "source": [
        "## DataFrame Row/Col 삭제"
      ]
    },
    {
      "cell_type": "code",
      "execution_count": null,
      "metadata": {
        "id": "GG56bmew-StX"
      },
      "outputs": [],
      "source": [
        "# DataFrame에서 Row, Col 삭제해 보기\n",
        "# df_people.drop( ? , axis= 1 , inplace = True )"
      ]
    },
    {
      "cell_type": "code",
      "execution_count": 81,
      "metadata": {},
      "outputs": [
        {
          "data": {
            "text/html": [
              "<div>\n",
              "<style scoped>\n",
              "    .dataframe tbody tr th:only-of-type {\n",
              "        vertical-align: middle;\n",
              "    }\n",
              "\n",
              "    .dataframe tbody tr th {\n",
              "        vertical-align: top;\n",
              "    }\n",
              "\n",
              "    .dataframe thead th {\n",
              "        text-align: right;\n",
              "    }\n",
              "</style>\n",
              "<table border=\"1\" class=\"dataframe\">\n",
              "  <thead>\n",
              "    <tr style=\"text-align: right;\">\n",
              "      <th></th>\n",
              "      <th>성별</th>\n",
              "      <th>혈액형</th>\n",
              "      <th>나이</th>\n",
              "    </tr>\n",
              "  </thead>\n",
              "  <tbody>\n",
              "    <tr>\n",
              "      <th>철수</th>\n",
              "      <td>남</td>\n",
              "      <td>o</td>\n",
              "      <td>20</td>\n",
              "    </tr>\n",
              "    <tr>\n",
              "      <th>영희</th>\n",
              "      <td>여</td>\n",
              "      <td>a</td>\n",
              "      <td>19</td>\n",
              "    </tr>\n",
              "    <tr>\n",
              "      <th>민수</th>\n",
              "      <td>남</td>\n",
              "      <td>b</td>\n",
              "      <td>21</td>\n",
              "    </tr>\n",
              "    <tr>\n",
              "      <th>지수</th>\n",
              "      <td>여</td>\n",
              "      <td>A</td>\n",
              "      <td>35</td>\n",
              "    </tr>\n",
              "  </tbody>\n",
              "</table>\n",
              "</div>"
            ],
            "text/plain": [
              "   성별 혈액형  나이\n",
              "철수  남   o  20\n",
              "영희  여   a  19\n",
              "민수  남   b  21\n",
              "지수  여   A  35"
            ]
          },
          "execution_count": 81,
          "metadata": {},
          "output_type": "execute_result"
        }
      ],
      "source": [
        "df_people"
      ]
    },
    {
      "cell_type": "code",
      "execution_count": 83,
      "metadata": {
        "colab": {
          "base_uri": "https://localhost:8080/",
          "height": 142
        },
        "id": "ulFA0slq-oGY",
        "outputId": "84b8a703-6ce2-475a-b7d1-dd5de0171145"
      },
      "outputs": [
        {
          "data": {
            "text/html": [
              "<div>\n",
              "<style scoped>\n",
              "    .dataframe tbody tr th:only-of-type {\n",
              "        vertical-align: middle;\n",
              "    }\n",
              "\n",
              "    .dataframe tbody tr th {\n",
              "        vertical-align: top;\n",
              "    }\n",
              "\n",
              "    .dataframe thead th {\n",
              "        text-align: right;\n",
              "    }\n",
              "</style>\n",
              "<table border=\"1\" class=\"dataframe\">\n",
              "  <thead>\n",
              "    <tr style=\"text-align: right;\">\n",
              "      <th></th>\n",
              "      <th>성별</th>\n",
              "      <th>혈액형</th>\n",
              "      <th>나이</th>\n",
              "    </tr>\n",
              "  </thead>\n",
              "  <tbody>\n",
              "    <tr>\n",
              "      <th>영희</th>\n",
              "      <td>여</td>\n",
              "      <td>a</td>\n",
              "      <td>19</td>\n",
              "    </tr>\n",
              "    <tr>\n",
              "      <th>민수</th>\n",
              "      <td>남</td>\n",
              "      <td>b</td>\n",
              "      <td>21</td>\n",
              "    </tr>\n",
              "    <tr>\n",
              "      <th>지수</th>\n",
              "      <td>여</td>\n",
              "      <td>A</td>\n",
              "      <td>35</td>\n",
              "    </tr>\n",
              "  </tbody>\n",
              "</table>\n",
              "</div>"
            ],
            "text/plain": [
              "   성별 혈액형  나이\n",
              "영희  여   a  19\n",
              "민수  남   b  21\n",
              "지수  여   A  35"
            ]
          },
          "execution_count": 83,
          "metadata": {},
          "output_type": "execute_result"
        }
      ],
      "source": [
        "# 철수가 이사를 갔어요.. 철수에 해당하는 Row를 삭제해봅시다\n",
        "df_people.drop( '철수' , axis= 0, inplace=True )\n",
        "df_people"
      ]
    },
    {
      "cell_type": "code",
      "execution_count": 84,
      "metadata": {
        "id": "1VbzklS--6rh"
      },
      "outputs": [
        {
          "data": {
            "text/html": [
              "<div>\n",
              "<style scoped>\n",
              "    .dataframe tbody tr th:only-of-type {\n",
              "        vertical-align: middle;\n",
              "    }\n",
              "\n",
              "    .dataframe tbody tr th {\n",
              "        vertical-align: top;\n",
              "    }\n",
              "\n",
              "    .dataframe thead th {\n",
              "        text-align: right;\n",
              "    }\n",
              "</style>\n",
              "<table border=\"1\" class=\"dataframe\">\n",
              "  <thead>\n",
              "    <tr style=\"text-align: right;\">\n",
              "      <th></th>\n",
              "      <th>성별</th>\n",
              "      <th>혈액형</th>\n",
              "    </tr>\n",
              "  </thead>\n",
              "  <tbody>\n",
              "    <tr>\n",
              "      <th>영희</th>\n",
              "      <td>여</td>\n",
              "      <td>a</td>\n",
              "    </tr>\n",
              "    <tr>\n",
              "      <th>민수</th>\n",
              "      <td>남</td>\n",
              "      <td>b</td>\n",
              "    </tr>\n",
              "    <tr>\n",
              "      <th>지수</th>\n",
              "      <td>여</td>\n",
              "      <td>A</td>\n",
              "    </tr>\n",
              "  </tbody>\n",
              "</table>\n",
              "</div>"
            ],
            "text/plain": [
              "   성별 혈액형\n",
              "영희  여   a\n",
              "민수  남   b\n",
              "지수  여   A"
            ]
          },
          "execution_count": 84,
          "metadata": {},
          "output_type": "execute_result"
        }
      ],
      "source": [
        "# 야자타임을 하기로 했어요. 나이 Column을 삭제해 봅시다.\n",
        "df_people.drop( '나이' , axis= 1, inplace = True )\n",
        "df_people"
      ]
    },
    {
      "cell_type": "markdown",
      "metadata": {
        "id": "JQbO30Zo-5M6"
      },
      "source": [
        "\n",
        "\n",
        "---\n",
        "\n"
      ]
    },
    {
      "cell_type": "markdown",
      "metadata": {
        "id": "ghcjnG6G_wbB"
      },
      "source": [
        "#Pandas 데이터 필터링"
      ]
    },
    {
      "cell_type": "code",
      "execution_count": 85,
      "metadata": {
        "id": "n6PwQABW75-G"
      },
      "outputs": [],
      "source": [
        "import numpy as np\n",
        "import pandas as pd\n",
        "import random"
      ]
    },
    {
      "cell_type": "markdown",
      "metadata": {
        "id": "_LsAJ9ni_4RP"
      },
      "source": [
        "서울의 어느 한 회사의, 직원들의 정보가 담긴 데이터가 있습니다."
      ]
    },
    {
      "cell_type": "code",
      "execution_count": 88,
      "metadata": {
        "id": "1zeEGHky81ri"
      },
      "outputs": [],
      "source": [
        "# 직원 데이터를 랜덤하게 생성하는 함수!\n",
        "# 셀을 실행만 시키고 넘어가주세요\n",
        "def get_staff_data(num_person) :\n",
        "  list_1 = [19,'마케팅','서울',1800]\n",
        "  list_2 = [20,'개발','경기',2000]\n",
        "  person_last_name = ['김','이','박','최','강','정','조']\n",
        "  person_first_name_alphabet = ['혜','경','준','성','민','한','혁','지','우','서','이']\n",
        "  part_list = ['개발', '마케팅', '영업', '기획', '인사','디자인', '지원']\n",
        "  address_list = ['서울','경기','인천','강원','충청']\n",
        "\n",
        "  ret_df = pd.DataFrame([list_1, list_2], index = ['김해인', '이정인'])\n",
        "  ret_df.columns = ['나이','직무','주소', '급여']\n",
        "\n",
        "  while (len(ret_df) < num_person) :\n",
        "    name = np.random.choice(person_last_name) + ''.join([ i for i in np.random.choice(person_first_name_alphabet,size=2, replace=False)])\n",
        "    while name in ret_df.index :\n",
        "      name = np.random.choice(person_last_name) + ''.join([ i for i in np.random.choice(person_first_name_alphabet,size=2, replace=False)])\n",
        "    age = np.random.randint(20,60)\n",
        "    part = np.random.choice(part_list)\n",
        "    address = np.random.choice(address_list)\n",
        "    pay = np.random.randint(1800,3500)\n",
        "    new_person = pd.DataFrame({'나이' : age, \"직무\": part, \"주소\":address, \"급여\":pay}, index = [name])\n",
        "    ret_df = pd.concat([ret_df, new_person])\n",
        "  return ret_df"
      ]
    },
    {
      "cell_type": "code",
      "execution_count": 89,
      "metadata": {
        "colab": {
          "base_uri": "https://localhost:8080/",
          "height": 203
        },
        "id": "FPw8kAXeB3KR",
        "outputId": "ea517019-4371-490a-af83-fa33c02b5ebc"
      },
      "outputs": [
        {
          "data": {
            "text/html": [
              "<div>\n",
              "<style scoped>\n",
              "    .dataframe tbody tr th:only-of-type {\n",
              "        vertical-align: middle;\n",
              "    }\n",
              "\n",
              "    .dataframe tbody tr th {\n",
              "        vertical-align: top;\n",
              "    }\n",
              "\n",
              "    .dataframe thead th {\n",
              "        text-align: right;\n",
              "    }\n",
              "</style>\n",
              "<table border=\"1\" class=\"dataframe\">\n",
              "  <thead>\n",
              "    <tr style=\"text-align: right;\">\n",
              "      <th></th>\n",
              "      <th>나이</th>\n",
              "      <th>직무</th>\n",
              "      <th>주소</th>\n",
              "      <th>급여</th>\n",
              "    </tr>\n",
              "  </thead>\n",
              "  <tbody>\n",
              "    <tr>\n",
              "      <th>김해인</th>\n",
              "      <td>19</td>\n",
              "      <td>마케팅</td>\n",
              "      <td>서울</td>\n",
              "      <td>1800</td>\n",
              "    </tr>\n",
              "    <tr>\n",
              "      <th>이정인</th>\n",
              "      <td>20</td>\n",
              "      <td>개발</td>\n",
              "      <td>경기</td>\n",
              "      <td>2000</td>\n",
              "    </tr>\n",
              "    <tr>\n",
              "      <th>박혁서</th>\n",
              "      <td>51</td>\n",
              "      <td>디자인</td>\n",
              "      <td>충청</td>\n",
              "      <td>2370</td>\n",
              "    </tr>\n",
              "    <tr>\n",
              "      <th>이서혁</th>\n",
              "      <td>34</td>\n",
              "      <td>디자인</td>\n",
              "      <td>경기</td>\n",
              "      <td>2141</td>\n",
              "    </tr>\n",
              "    <tr>\n",
              "      <th>최서민</th>\n",
              "      <td>51</td>\n",
              "      <td>디자인</td>\n",
              "      <td>충청</td>\n",
              "      <td>2465</td>\n",
              "    </tr>\n",
              "  </tbody>\n",
              "</table>\n",
              "</div>"
            ],
            "text/plain": [
              "     나이   직무  주소    급여\n",
              "김해인  19  마케팅  서울  1800\n",
              "이정인  20   개발  경기  2000\n",
              "박혁서  51  디자인  충청  2370\n",
              "이서혁  34  디자인  경기  2141\n",
              "최서민  51  디자인  충청  2465"
            ]
          },
          "execution_count": 89,
          "metadata": {},
          "output_type": "execute_result"
        }
      ],
      "source": [
        "# 위의 함수를 이용해서, 직원 정보 데이터를 생성!\n",
        "# staff_df라는 직원 정보가 담긴 DataFrame이 만들어졌습니다.\n",
        "staff_df = get_staff_data(200)\n",
        "staff_df.head(5)"
      ]
    },
    {
      "cell_type": "markdown",
      "metadata": {
        "id": "KPSjwbYl_WAr"
      },
      "source": [
        "\n",
        "\n",
        "---\n",
        "\n"
      ]
    },
    {
      "cell_type": "code",
      "execution_count": 92,
      "metadata": {
        "colab": {
          "base_uri": "https://localhost:8080/"
        },
        "id": "GQgW6VK5BJVl",
        "outputId": "f4eba83a-55f2-4b07-bee5-40a237313666"
      },
      "outputs": [
        {
          "name": "stdout",
          "output_type": "stream",
          "text": [
            "형태:  (200, 4)\n",
            "차원: 2\n",
            "staff_df.shape[1]=  4\n",
            "총 원소의 갯수: 800\n"
          ]
        }
      ],
      "source": [
        "# shape, ndim, size 를 이용해서, DataFrame을 파악해보세요\n",
        "print('형태: ', staff_df.shape)\n",
        "print('차원:', staff_df.ndim)\n",
        "print('staff_df.shape[1]= ',staff_df.shape[1]) #####################NUMPY@@@@@@@@@@@@@@@@@@@\n",
        "print('총 원소의 갯수:', staff_df.size)"
      ]
    },
    {
      "cell_type": "code",
      "execution_count": 94,
      "metadata": {},
      "outputs": [
        {
          "data": {
            "text/html": [
              "<div>\n",
              "<style scoped>\n",
              "    .dataframe tbody tr th:only-of-type {\n",
              "        vertical-align: middle;\n",
              "    }\n",
              "\n",
              "    .dataframe tbody tr th {\n",
              "        vertical-align: top;\n",
              "    }\n",
              "\n",
              "    .dataframe thead th {\n",
              "        text-align: right;\n",
              "    }\n",
              "</style>\n",
              "<table border=\"1\" class=\"dataframe\">\n",
              "  <thead>\n",
              "    <tr style=\"text-align: right;\">\n",
              "      <th></th>\n",
              "      <th>직무</th>\n",
              "      <th>급여</th>\n",
              "    </tr>\n",
              "  </thead>\n",
              "  <tbody>\n",
              "    <tr>\n",
              "      <th>김해인</th>\n",
              "      <td>마케팅</td>\n",
              "      <td>1800</td>\n",
              "    </tr>\n",
              "    <tr>\n",
              "      <th>이정인</th>\n",
              "      <td>개발</td>\n",
              "      <td>2000</td>\n",
              "    </tr>\n",
              "    <tr>\n",
              "      <th>박혁서</th>\n",
              "      <td>디자인</td>\n",
              "      <td>2370</td>\n",
              "    </tr>\n",
              "    <tr>\n",
              "      <th>이서혁</th>\n",
              "      <td>디자인</td>\n",
              "      <td>2141</td>\n",
              "    </tr>\n",
              "    <tr>\n",
              "      <th>최서민</th>\n",
              "      <td>디자인</td>\n",
              "      <td>2465</td>\n",
              "    </tr>\n",
              "    <tr>\n",
              "      <th>...</th>\n",
              "      <td>...</td>\n",
              "      <td>...</td>\n",
              "    </tr>\n",
              "    <tr>\n",
              "      <th>박성이</th>\n",
              "      <td>인사</td>\n",
              "      <td>3280</td>\n",
              "    </tr>\n",
              "    <tr>\n",
              "      <th>강혁혜</th>\n",
              "      <td>개발</td>\n",
              "      <td>3279</td>\n",
              "    </tr>\n",
              "    <tr>\n",
              "      <th>박우한</th>\n",
              "      <td>기획</td>\n",
              "      <td>3402</td>\n",
              "    </tr>\n",
              "    <tr>\n",
              "      <th>김혜지</th>\n",
              "      <td>기획</td>\n",
              "      <td>2895</td>\n",
              "    </tr>\n",
              "    <tr>\n",
              "      <th>강한혜</th>\n",
              "      <td>영업</td>\n",
              "      <td>1885</td>\n",
              "    </tr>\n",
              "  </tbody>\n",
              "</table>\n",
              "<p>200 rows × 2 columns</p>\n",
              "</div>"
            ],
            "text/plain": [
              "      직무    급여\n",
              "김해인  마케팅  1800\n",
              "이정인   개발  2000\n",
              "박혁서  디자인  2370\n",
              "이서혁  디자인  2141\n",
              "최서민  디자인  2465\n",
              "..   ...   ...\n",
              "박성이   인사  3280\n",
              "강혁혜   개발  3279\n",
              "박우한   기획  3402\n",
              "김혜지   기획  2895\n",
              "강한혜   영업  1885\n",
              "\n",
              "[200 rows x 2 columns]"
            ]
          },
          "execution_count": 94,
          "metadata": {},
          "output_type": "execute_result"
        }
      ],
      "source": [
        "# staff_df에는 4개의 Column이 있습니다.\n",
        "# staff_df에서, 직무, 급여 Column만 불러와 보세요\n",
        "staff_df[['직무','급여']]"
      ]
    },
    {
      "cell_type": "markdown",
      "metadata": {
        "id": "MzWsu9Rk_Ted"
      },
      "source": [
        "\n",
        "\n",
        "---\n",
        "\n"
      ]
    },
    {
      "cell_type": "code",
      "execution_count": 96,
      "metadata": {},
      "outputs": [
        {
          "data": {
            "text/html": [
              "<div>\n",
              "<style scoped>\n",
              "    .dataframe tbody tr th:only-of-type {\n",
              "        vertical-align: middle;\n",
              "    }\n",
              "\n",
              "    .dataframe tbody tr th {\n",
              "        vertical-align: top;\n",
              "    }\n",
              "\n",
              "    .dataframe thead th {\n",
              "        text-align: right;\n",
              "    }\n",
              "</style>\n",
              "<table border=\"1\" class=\"dataframe\">\n",
              "  <thead>\n",
              "    <tr style=\"text-align: right;\">\n",
              "      <th></th>\n",
              "      <th>나이</th>\n",
              "      <th>직무</th>\n",
              "      <th>주소</th>\n",
              "      <th>급여</th>\n",
              "    </tr>\n",
              "  </thead>\n",
              "  <tbody>\n",
              "    <tr>\n",
              "      <th>김해인</th>\n",
              "      <td>19</td>\n",
              "      <td>마케팅</td>\n",
              "      <td>서울</td>\n",
              "      <td>1800</td>\n",
              "    </tr>\n",
              "    <tr>\n",
              "      <th>최우이</th>\n",
              "      <td>22</td>\n",
              "      <td>마케팅</td>\n",
              "      <td>경기</td>\n",
              "      <td>2124</td>\n",
              "    </tr>\n",
              "    <tr>\n",
              "      <th>강성한</th>\n",
              "      <td>20</td>\n",
              "      <td>마케팅</td>\n",
              "      <td>강원</td>\n",
              "      <td>2530</td>\n",
              "    </tr>\n",
              "    <tr>\n",
              "      <th>김우서</th>\n",
              "      <td>29</td>\n",
              "      <td>마케팅</td>\n",
              "      <td>강원</td>\n",
              "      <td>3085</td>\n",
              "    </tr>\n",
              "    <tr>\n",
              "      <th>최이서</th>\n",
              "      <td>24</td>\n",
              "      <td>마케팅</td>\n",
              "      <td>강원</td>\n",
              "      <td>2959</td>\n",
              "    </tr>\n",
              "  </tbody>\n",
              "</table>\n",
              "</div>"
            ],
            "text/plain": [
              "     나이   직무  주소    급여\n",
              "김해인  19  마케팅  서울  1800\n",
              "최우이  22  마케팅  경기  2124\n",
              "강성한  20  마케팅  강원  2530\n",
              "김우서  29  마케팅  강원  3085\n",
              "최이서  24  마케팅  강원  2959"
            ]
          },
          "execution_count": 96,
          "metadata": {},
          "output_type": "execute_result"
        }
      ],
      "source": [
        "# DataFrame에서, [] 대괄호 안에 조건을 넣어 데이터를 가져올 수도 있습니다.\n",
        "# staff_df에서, 직무가 마케팅인 직원들만 불러와보세요.\n",
        "staff_df[staff_df['직무']=='마케팅'].head()"
      ]
    },
    {
      "cell_type": "code",
      "execution_count": 100,
      "metadata": {},
      "outputs": [
        {
          "name": "stdout",
          "output_type": "stream",
          "text": [
            "마케팅 직원 수 =  30\n",
            "개발 직원 수 =  22\n"
          ]
        }
      ],
      "source": [
        "# DataFrame에서, len() 함수를 통해 데이터의 길이를 알 수 있습니다.\n",
        "# 직무가 '마케팅'인 직원의 수와, '개발'인 직원의 수를 출력해보세요\n",
        "num_of_marketing = len(staff_df[staff_df['직무']=='마케팅'])\n",
        "num_develop = len(staff_df[staff_df['직무']=='개발'])\n",
        "print('마케팅 직원 수 = ', num_of_marketing)\n",
        "print('개발 직원 수 = ', num_develop)"
      ]
    },
    {
      "cell_type": "code",
      "execution_count": null,
      "metadata": {
        "id": "M24iK9_qEJet"
      },
      "outputs": [],
      "source": [
        "# [] 대괄호 안에 여러개의 조건을 넣을 수 있었습니다.\n",
        "# staff_df[ (조건) &  (조건) ] 형식을 활용해 봅시다."
      ]
    },
    {
      "cell_type": "code",
      "execution_count": 101,
      "metadata": {},
      "outputs": [
        {
          "data": {
            "text/html": [
              "<div>\n",
              "<style scoped>\n",
              "    .dataframe tbody tr th:only-of-type {\n",
              "        vertical-align: middle;\n",
              "    }\n",
              "\n",
              "    .dataframe tbody tr th {\n",
              "        vertical-align: top;\n",
              "    }\n",
              "\n",
              "    .dataframe thead th {\n",
              "        text-align: right;\n",
              "    }\n",
              "</style>\n",
              "<table border=\"1\" class=\"dataframe\">\n",
              "  <thead>\n",
              "    <tr style=\"text-align: right;\">\n",
              "      <th></th>\n",
              "      <th>나이</th>\n",
              "      <th>직무</th>\n",
              "      <th>주소</th>\n",
              "      <th>급여</th>\n",
              "    </tr>\n",
              "  </thead>\n",
              "  <tbody>\n",
              "    <tr>\n",
              "      <th>박서경</th>\n",
              "      <td>40</td>\n",
              "      <td>기획</td>\n",
              "      <td>인천</td>\n",
              "      <td>2716</td>\n",
              "    </tr>\n",
              "    <tr>\n",
              "      <th>김한준</th>\n",
              "      <td>51</td>\n",
              "      <td>기획</td>\n",
              "      <td>경기</td>\n",
              "      <td>2665</td>\n",
              "    </tr>\n",
              "    <tr>\n",
              "      <th>최혁경</th>\n",
              "      <td>58</td>\n",
              "      <td>기획</td>\n",
              "      <td>강원</td>\n",
              "      <td>2192</td>\n",
              "    </tr>\n",
              "    <tr>\n",
              "      <th>박서준</th>\n",
              "      <td>32</td>\n",
              "      <td>기획</td>\n",
              "      <td>서울</td>\n",
              "      <td>2836</td>\n",
              "    </tr>\n",
              "    <tr>\n",
              "      <th>최지성</th>\n",
              "      <td>51</td>\n",
              "      <td>기획</td>\n",
              "      <td>강원</td>\n",
              "      <td>2988</td>\n",
              "    </tr>\n",
              "    <tr>\n",
              "      <th>이지이</th>\n",
              "      <td>37</td>\n",
              "      <td>기획</td>\n",
              "      <td>경기</td>\n",
              "      <td>3289</td>\n",
              "    </tr>\n",
              "    <tr>\n",
              "      <th>최경지</th>\n",
              "      <td>43</td>\n",
              "      <td>기획</td>\n",
              "      <td>충청</td>\n",
              "      <td>3408</td>\n",
              "    </tr>\n",
              "    <tr>\n",
              "      <th>김혜민</th>\n",
              "      <td>41</td>\n",
              "      <td>기획</td>\n",
              "      <td>충청</td>\n",
              "      <td>2835</td>\n",
              "    </tr>\n",
              "    <tr>\n",
              "      <th>김혜한</th>\n",
              "      <td>47</td>\n",
              "      <td>기획</td>\n",
              "      <td>서울</td>\n",
              "      <td>2814</td>\n",
              "    </tr>\n",
              "    <tr>\n",
              "      <th>최우경</th>\n",
              "      <td>42</td>\n",
              "      <td>기획</td>\n",
              "      <td>경기</td>\n",
              "      <td>1944</td>\n",
              "    </tr>\n",
              "    <tr>\n",
              "      <th>강민준</th>\n",
              "      <td>41</td>\n",
              "      <td>기획</td>\n",
              "      <td>인천</td>\n",
              "      <td>2073</td>\n",
              "    </tr>\n",
              "    <tr>\n",
              "      <th>최서지</th>\n",
              "      <td>32</td>\n",
              "      <td>기획</td>\n",
              "      <td>서울</td>\n",
              "      <td>3343</td>\n",
              "    </tr>\n",
              "    <tr>\n",
              "      <th>최한성</th>\n",
              "      <td>33</td>\n",
              "      <td>기획</td>\n",
              "      <td>경기</td>\n",
              "      <td>2772</td>\n",
              "    </tr>\n",
              "    <tr>\n",
              "      <th>조지성</th>\n",
              "      <td>33</td>\n",
              "      <td>기획</td>\n",
              "      <td>강원</td>\n",
              "      <td>3209</td>\n",
              "    </tr>\n",
              "    <tr>\n",
              "      <th>강혁경</th>\n",
              "      <td>36</td>\n",
              "      <td>기획</td>\n",
              "      <td>서울</td>\n",
              "      <td>3409</td>\n",
              "    </tr>\n",
              "    <tr>\n",
              "      <th>최준민</th>\n",
              "      <td>53</td>\n",
              "      <td>기획</td>\n",
              "      <td>인천</td>\n",
              "      <td>1876</td>\n",
              "    </tr>\n",
              "    <tr>\n",
              "      <th>박혁우</th>\n",
              "      <td>31</td>\n",
              "      <td>기획</td>\n",
              "      <td>서울</td>\n",
              "      <td>2682</td>\n",
              "    </tr>\n",
              "    <tr>\n",
              "      <th>최성경</th>\n",
              "      <td>56</td>\n",
              "      <td>기획</td>\n",
              "      <td>충청</td>\n",
              "      <td>3482</td>\n",
              "    </tr>\n",
              "    <tr>\n",
              "      <th>최서한</th>\n",
              "      <td>52</td>\n",
              "      <td>기획</td>\n",
              "      <td>충청</td>\n",
              "      <td>1833</td>\n",
              "    </tr>\n",
              "    <tr>\n",
              "      <th>정혁서</th>\n",
              "      <td>50</td>\n",
              "      <td>기획</td>\n",
              "      <td>강원</td>\n",
              "      <td>3018</td>\n",
              "    </tr>\n",
              "    <tr>\n",
              "      <th>조성혁</th>\n",
              "      <td>47</td>\n",
              "      <td>기획</td>\n",
              "      <td>서울</td>\n",
              "      <td>1842</td>\n",
              "    </tr>\n",
              "    <tr>\n",
              "      <th>박지혜</th>\n",
              "      <td>46</td>\n",
              "      <td>기획</td>\n",
              "      <td>서울</td>\n",
              "      <td>3487</td>\n",
              "    </tr>\n",
              "    <tr>\n",
              "      <th>조성준</th>\n",
              "      <td>54</td>\n",
              "      <td>기획</td>\n",
              "      <td>경기</td>\n",
              "      <td>2569</td>\n",
              "    </tr>\n",
              "    <tr>\n",
              "      <th>김혜지</th>\n",
              "      <td>57</td>\n",
              "      <td>기획</td>\n",
              "      <td>경기</td>\n",
              "      <td>2895</td>\n",
              "    </tr>\n",
              "  </tbody>\n",
              "</table>\n",
              "</div>"
            ],
            "text/plain": [
              "     나이  직무  주소    급여\n",
              "박서경  40  기획  인천  2716\n",
              "김한준  51  기획  경기  2665\n",
              "최혁경  58  기획  강원  2192\n",
              "박서준  32  기획  서울  2836\n",
              "최지성  51  기획  강원  2988\n",
              "이지이  37  기획  경기  3289\n",
              "최경지  43  기획  충청  3408\n",
              "김혜민  41  기획  충청  2835\n",
              "김혜한  47  기획  서울  2814\n",
              "최우경  42  기획  경기  1944\n",
              "강민준  41  기획  인천  2073\n",
              "최서지  32  기획  서울  3343\n",
              "최한성  33  기획  경기  2772\n",
              "조지성  33  기획  강원  3209\n",
              "강혁경  36  기획  서울  3409\n",
              "최준민  53  기획  인천  1876\n",
              "박혁우  31  기획  서울  2682\n",
              "최성경  56  기획  충청  3482\n",
              "최서한  52  기획  충청  1833\n",
              "정혁서  50  기획  강원  3018\n",
              "조성혁  47  기획  서울  1842\n",
              "박지혜  46  기획  서울  3487\n",
              "조성준  54  기획  경기  2569\n",
              "김혜지  57  기획  경기  2895"
            ]
          },
          "execution_count": 101,
          "metadata": {},
          "output_type": "execute_result"
        }
      ],
      "source": [
        "# 직무가 기획 이면서, 나이가 30세 이상인 직원들을 불러와 봅시다.\n",
        "staff_df[(staff_df['직무']=='기획')& (staff_df['나이']>= 30)]"
      ]
    },
    {
      "cell_type": "code",
      "execution_count": 102,
      "metadata": {},
      "outputs": [
        {
          "data": {
            "text/html": [
              "<div>\n",
              "<style scoped>\n",
              "    .dataframe tbody tr th:only-of-type {\n",
              "        vertical-align: middle;\n",
              "    }\n",
              "\n",
              "    .dataframe tbody tr th {\n",
              "        vertical-align: top;\n",
              "    }\n",
              "\n",
              "    .dataframe thead th {\n",
              "        text-align: right;\n",
              "    }\n",
              "</style>\n",
              "<table border=\"1\" class=\"dataframe\">\n",
              "  <thead>\n",
              "    <tr style=\"text-align: right;\">\n",
              "      <th></th>\n",
              "      <th>나이</th>\n",
              "      <th>직무</th>\n",
              "      <th>주소</th>\n",
              "      <th>급여</th>\n",
              "    </tr>\n",
              "  </thead>\n",
              "  <tbody>\n",
              "    <tr>\n",
              "      <th>강민이</th>\n",
              "      <td>48</td>\n",
              "      <td>영업</td>\n",
              "      <td>서울</td>\n",
              "      <td>3099</td>\n",
              "    </tr>\n",
              "    <tr>\n",
              "      <th>조준한</th>\n",
              "      <td>52</td>\n",
              "      <td>영업</td>\n",
              "      <td>서울</td>\n",
              "      <td>2491</td>\n",
              "    </tr>\n",
              "    <tr>\n",
              "      <th>박혁지</th>\n",
              "      <td>33</td>\n",
              "      <td>영업</td>\n",
              "      <td>서울</td>\n",
              "      <td>3144</td>\n",
              "    </tr>\n",
              "    <tr>\n",
              "      <th>정한경</th>\n",
              "      <td>30</td>\n",
              "      <td>영업</td>\n",
              "      <td>서울</td>\n",
              "      <td>2751</td>\n",
              "    </tr>\n",
              "    <tr>\n",
              "      <th>조혁서</th>\n",
              "      <td>35</td>\n",
              "      <td>영업</td>\n",
              "      <td>서울</td>\n",
              "      <td>2844</td>\n",
              "    </tr>\n",
              "  </tbody>\n",
              "</table>\n",
              "</div>"
            ],
            "text/plain": [
              "     나이  직무  주소    급여\n",
              "강민이  48  영업  서울  3099\n",
              "조준한  52  영업  서울  2491\n",
              "박혁지  33  영업  서울  3144\n",
              "정한경  30  영업  서울  2751\n",
              "조혁서  35  영업  서울  2844"
            ]
          },
          "execution_count": 102,
          "metadata": {},
          "output_type": "execute_result"
        }
      ],
      "source": [
        "# 이번에는, 영업 직무이면서, 서울에 살고, 급여가 2000 이상인 직원을 불러와 봅시다\n",
        "staff_df[(staff_df['직무']== '영업')&\n",
        "         (staff_df['주소']=='서울')&\n",
        "         (staff_df['급여']>=2000)\n",
        "]"
      ]
    },
    {
      "cell_type": "code",
      "execution_count": 103,
      "metadata": {},
      "outputs": [
        {
          "data": {
            "text/html": [
              "<div>\n",
              "<style scoped>\n",
              "    .dataframe tbody tr th:only-of-type {\n",
              "        vertical-align: middle;\n",
              "    }\n",
              "\n",
              "    .dataframe tbody tr th {\n",
              "        vertical-align: top;\n",
              "    }\n",
              "\n",
              "    .dataframe thead th {\n",
              "        text-align: right;\n",
              "    }\n",
              "</style>\n",
              "<table border=\"1\" class=\"dataframe\">\n",
              "  <thead>\n",
              "    <tr style=\"text-align: right;\">\n",
              "      <th></th>\n",
              "      <th>나이</th>\n",
              "      <th>직무</th>\n",
              "      <th>주소</th>\n",
              "      <th>급여</th>\n",
              "    </tr>\n",
              "  </thead>\n",
              "  <tbody>\n",
              "    <tr>\n",
              "      <th>김해인</th>\n",
              "      <td>19</td>\n",
              "      <td>마케팅</td>\n",
              "      <td>서울</td>\n",
              "      <td>1800</td>\n",
              "    </tr>\n",
              "    <tr>\n",
              "      <th>강서우</th>\n",
              "      <td>39</td>\n",
              "      <td>개발</td>\n",
              "      <td>경기</td>\n",
              "      <td>1818</td>\n",
              "    </tr>\n",
              "    <tr>\n",
              "      <th>이서준</th>\n",
              "      <td>41</td>\n",
              "      <td>지원</td>\n",
              "      <td>강원</td>\n",
              "      <td>1831</td>\n",
              "    </tr>\n",
              "    <tr>\n",
              "      <th>김혁혜</th>\n",
              "      <td>41</td>\n",
              "      <td>디자인</td>\n",
              "      <td>서울</td>\n",
              "      <td>1832</td>\n",
              "    </tr>\n",
              "    <tr>\n",
              "      <th>최서한</th>\n",
              "      <td>52</td>\n",
              "      <td>기획</td>\n",
              "      <td>충청</td>\n",
              "      <td>1833</td>\n",
              "    </tr>\n",
              "    <tr>\n",
              "      <th>...</th>\n",
              "      <td>...</td>\n",
              "      <td>...</td>\n",
              "      <td>...</td>\n",
              "      <td>...</td>\n",
              "    </tr>\n",
              "    <tr>\n",
              "      <th>강혁우</th>\n",
              "      <td>53</td>\n",
              "      <td>지원</td>\n",
              "      <td>경기</td>\n",
              "      <td>3471</td>\n",
              "    </tr>\n",
              "    <tr>\n",
              "      <th>이준혜</th>\n",
              "      <td>35</td>\n",
              "      <td>마케팅</td>\n",
              "      <td>인천</td>\n",
              "      <td>3480</td>\n",
              "    </tr>\n",
              "    <tr>\n",
              "      <th>최성경</th>\n",
              "      <td>56</td>\n",
              "      <td>기획</td>\n",
              "      <td>충청</td>\n",
              "      <td>3482</td>\n",
              "    </tr>\n",
              "    <tr>\n",
              "      <th>박지혜</th>\n",
              "      <td>46</td>\n",
              "      <td>기획</td>\n",
              "      <td>서울</td>\n",
              "      <td>3487</td>\n",
              "    </tr>\n",
              "    <tr>\n",
              "      <th>김한서</th>\n",
              "      <td>55</td>\n",
              "      <td>디자인</td>\n",
              "      <td>서울</td>\n",
              "      <td>3491</td>\n",
              "    </tr>\n",
              "  </tbody>\n",
              "</table>\n",
              "<p>200 rows × 4 columns</p>\n",
              "</div>"
            ],
            "text/plain": [
              "     나이   직무  주소    급여\n",
              "김해인  19  마케팅  서울  1800\n",
              "강서우  39   개발  경기  1818\n",
              "이서준  41   지원  강원  1831\n",
              "김혁혜  41  디자인  서울  1832\n",
              "최서한  52   기획  충청  1833\n",
              "..   ..  ...  ..   ...\n",
              "강혁우  53   지원  경기  3471\n",
              "이준혜  35  마케팅  인천  3480\n",
              "최성경  56   기획  충청  3482\n",
              "박지혜  46   기획  서울  3487\n",
              "김한서  55  디자인  서울  3491\n",
              "\n",
              "[200 rows x 4 columns]"
            ]
          },
          "execution_count": 103,
          "metadata": {},
          "output_type": "execute_result"
        }
      ],
      "source": [
        "# sort_values 함수를 사용하면,\n",
        "# 직원들을 급여 순서대로 정렬해서 나타내 볼 수 있습니다.\n",
        "# 데이터변수.sort_values(by=['열 이름'], ascending= 오름차순여부 )\n",
        "staff_df.sort_values('급여', ascending=True)\n"
      ]
    },
    {
      "cell_type": "code",
      "execution_count": null,
      "metadata": {},
      "outputs": [],
      "source": [
        "# 위의 sort_values를 활용해서,\n",
        "# 인사 직무 직원들을 급여가 높은 순서대로 정렬해서 나타내어 보세요."
      ]
    },
    {
      "cell_type": "code",
      "execution_count": 104,
      "metadata": {},
      "outputs": [
        {
          "data": {
            "text/html": [
              "<div>\n",
              "<style scoped>\n",
              "    .dataframe tbody tr th:only-of-type {\n",
              "        vertical-align: middle;\n",
              "    }\n",
              "\n",
              "    .dataframe tbody tr th {\n",
              "        vertical-align: top;\n",
              "    }\n",
              "\n",
              "    .dataframe thead th {\n",
              "        text-align: right;\n",
              "    }\n",
              "</style>\n",
              "<table border=\"1\" class=\"dataframe\">\n",
              "  <thead>\n",
              "    <tr style=\"text-align: right;\">\n",
              "      <th></th>\n",
              "      <th>나이</th>\n",
              "      <th>직무</th>\n",
              "      <th>주소</th>\n",
              "      <th>급여</th>\n",
              "    </tr>\n",
              "  </thead>\n",
              "  <tbody>\n",
              "    <tr>\n",
              "      <th>정서우</th>\n",
              "      <td>25</td>\n",
              "      <td>인사</td>\n",
              "      <td>경기</td>\n",
              "      <td>3397</td>\n",
              "    </tr>\n",
              "    <tr>\n",
              "      <th>김지혜</th>\n",
              "      <td>41</td>\n",
              "      <td>인사</td>\n",
              "      <td>충청</td>\n",
              "      <td>3333</td>\n",
              "    </tr>\n",
              "    <tr>\n",
              "      <th>이혜지</th>\n",
              "      <td>35</td>\n",
              "      <td>인사</td>\n",
              "      <td>인천</td>\n",
              "      <td>3305</td>\n",
              "    </tr>\n",
              "    <tr>\n",
              "      <th>박성이</th>\n",
              "      <td>27</td>\n",
              "      <td>인사</td>\n",
              "      <td>인천</td>\n",
              "      <td>3280</td>\n",
              "    </tr>\n",
              "    <tr>\n",
              "      <th>정한혁</th>\n",
              "      <td>35</td>\n",
              "      <td>인사</td>\n",
              "      <td>서울</td>\n",
              "      <td>3213</td>\n",
              "    </tr>\n",
              "    <tr>\n",
              "      <th>최한혜</th>\n",
              "      <td>28</td>\n",
              "      <td>인사</td>\n",
              "      <td>인천</td>\n",
              "      <td>3051</td>\n",
              "    </tr>\n",
              "    <tr>\n",
              "      <th>정혁이</th>\n",
              "      <td>24</td>\n",
              "      <td>인사</td>\n",
              "      <td>경기</td>\n",
              "      <td>3047</td>\n",
              "    </tr>\n",
              "    <tr>\n",
              "      <th>최혜민</th>\n",
              "      <td>48</td>\n",
              "      <td>인사</td>\n",
              "      <td>충청</td>\n",
              "      <td>2763</td>\n",
              "    </tr>\n",
              "    <tr>\n",
              "      <th>정준우</th>\n",
              "      <td>59</td>\n",
              "      <td>인사</td>\n",
              "      <td>인천</td>\n",
              "      <td>2733</td>\n",
              "    </tr>\n",
              "    <tr>\n",
              "      <th>조경혜</th>\n",
              "      <td>46</td>\n",
              "      <td>인사</td>\n",
              "      <td>강원</td>\n",
              "      <td>2694</td>\n",
              "    </tr>\n",
              "    <tr>\n",
              "      <th>조이혁</th>\n",
              "      <td>56</td>\n",
              "      <td>인사</td>\n",
              "      <td>인천</td>\n",
              "      <td>2643</td>\n",
              "    </tr>\n",
              "    <tr>\n",
              "      <th>조민성</th>\n",
              "      <td>37</td>\n",
              "      <td>인사</td>\n",
              "      <td>강원</td>\n",
              "      <td>2611</td>\n",
              "    </tr>\n",
              "    <tr>\n",
              "      <th>김한성</th>\n",
              "      <td>25</td>\n",
              "      <td>인사</td>\n",
              "      <td>경기</td>\n",
              "      <td>2582</td>\n",
              "    </tr>\n",
              "    <tr>\n",
              "      <th>조준우</th>\n",
              "      <td>50</td>\n",
              "      <td>인사</td>\n",
              "      <td>서울</td>\n",
              "      <td>2581</td>\n",
              "    </tr>\n",
              "    <tr>\n",
              "      <th>최혁우</th>\n",
              "      <td>46</td>\n",
              "      <td>인사</td>\n",
              "      <td>인천</td>\n",
              "      <td>2545</td>\n",
              "    </tr>\n",
              "    <tr>\n",
              "      <th>조준혁</th>\n",
              "      <td>43</td>\n",
              "      <td>인사</td>\n",
              "      <td>인천</td>\n",
              "      <td>2464</td>\n",
              "    </tr>\n",
              "    <tr>\n",
              "      <th>박민한</th>\n",
              "      <td>40</td>\n",
              "      <td>인사</td>\n",
              "      <td>강원</td>\n",
              "      <td>2369</td>\n",
              "    </tr>\n",
              "    <tr>\n",
              "      <th>이성이</th>\n",
              "      <td>54</td>\n",
              "      <td>인사</td>\n",
              "      <td>강원</td>\n",
              "      <td>2327</td>\n",
              "    </tr>\n",
              "    <tr>\n",
              "      <th>이준혁</th>\n",
              "      <td>43</td>\n",
              "      <td>인사</td>\n",
              "      <td>서울</td>\n",
              "      <td>2312</td>\n",
              "    </tr>\n",
              "    <tr>\n",
              "      <th>김혜준</th>\n",
              "      <td>28</td>\n",
              "      <td>인사</td>\n",
              "      <td>인천</td>\n",
              "      <td>2256</td>\n",
              "    </tr>\n",
              "    <tr>\n",
              "      <th>최경혜</th>\n",
              "      <td>21</td>\n",
              "      <td>인사</td>\n",
              "      <td>서울</td>\n",
              "      <td>2129</td>\n",
              "    </tr>\n",
              "    <tr>\n",
              "      <th>조혜지</th>\n",
              "      <td>21</td>\n",
              "      <td>인사</td>\n",
              "      <td>충청</td>\n",
              "      <td>2106</td>\n",
              "    </tr>\n",
              "    <tr>\n",
              "      <th>정혁민</th>\n",
              "      <td>32</td>\n",
              "      <td>인사</td>\n",
              "      <td>강원</td>\n",
              "      <td>1961</td>\n",
              "    </tr>\n",
              "    <tr>\n",
              "      <th>박혜지</th>\n",
              "      <td>50</td>\n",
              "      <td>인사</td>\n",
              "      <td>경기</td>\n",
              "      <td>1894</td>\n",
              "    </tr>\n",
              "  </tbody>\n",
              "</table>\n",
              "</div>"
            ],
            "text/plain": [
              "     나이  직무  주소    급여\n",
              "정서우  25  인사  경기  3397\n",
              "김지혜  41  인사  충청  3333\n",
              "이혜지  35  인사  인천  3305\n",
              "박성이  27  인사  인천  3280\n",
              "정한혁  35  인사  서울  3213\n",
              "최한혜  28  인사  인천  3051\n",
              "정혁이  24  인사  경기  3047\n",
              "최혜민  48  인사  충청  2763\n",
              "정준우  59  인사  인천  2733\n",
              "조경혜  46  인사  강원  2694\n",
              "조이혁  56  인사  인천  2643\n",
              "조민성  37  인사  강원  2611\n",
              "김한성  25  인사  경기  2582\n",
              "조준우  50  인사  서울  2581\n",
              "최혁우  46  인사  인천  2545\n",
              "조준혁  43  인사  인천  2464\n",
              "박민한  40  인사  강원  2369\n",
              "이성이  54  인사  강원  2327\n",
              "이준혁  43  인사  서울  2312\n",
              "김혜준  28  인사  인천  2256\n",
              "최경혜  21  인사  서울  2129\n",
              "조혜지  21  인사  충청  2106\n",
              "정혁민  32  인사  강원  1961\n",
              "박혜지  50  인사  경기  1894"
            ]
          },
          "execution_count": 104,
          "metadata": {},
          "output_type": "execute_result"
        }
      ],
      "source": [
        "staff_df[staff_df['직무']=='인사'].sort_values('급여', ascending=False)"
      ]
    },
    {
      "cell_type": "code",
      "execution_count": 106,
      "metadata": {},
      "outputs": [
        {
          "data": {
            "text/html": [
              "<div>\n",
              "<style scoped>\n",
              "    .dataframe tbody tr th:only-of-type {\n",
              "        vertical-align: middle;\n",
              "    }\n",
              "\n",
              "    .dataframe tbody tr th {\n",
              "        vertical-align: top;\n",
              "    }\n",
              "\n",
              "    .dataframe thead th {\n",
              "        text-align: right;\n",
              "    }\n",
              "</style>\n",
              "<table border=\"1\" class=\"dataframe\">\n",
              "  <thead>\n",
              "    <tr style=\"text-align: right;\">\n",
              "      <th></th>\n",
              "      <th>나이</th>\n",
              "      <th>직무</th>\n",
              "      <th>주소</th>\n",
              "      <th>급여</th>\n",
              "    </tr>\n",
              "  </thead>\n",
              "  <tbody>\n",
              "    <tr>\n",
              "      <th>강혁이</th>\n",
              "      <td>51</td>\n",
              "      <td>개발</td>\n",
              "      <td>서울</td>\n",
              "      <td>2519</td>\n",
              "    </tr>\n",
              "    <tr>\n",
              "      <th>박준지</th>\n",
              "      <td>55</td>\n",
              "      <td>개발</td>\n",
              "      <td>서울</td>\n",
              "      <td>1965</td>\n",
              "    </tr>\n",
              "  </tbody>\n",
              "</table>\n",
              "</div>"
            ],
            "text/plain": [
              "     나이  직무  주소    급여\n",
              "강혁이  51  개발  서울  2519\n",
              "박준지  55  개발  서울  1965"
            ]
          },
          "execution_count": 106,
          "metadata": {},
          "output_type": "execute_result"
        }
      ],
      "source": [
        "# 마지막으로\n",
        "# 서울에 살고, 개발 직군이면서, 급여가 3000 이하인 직원들을 나이 순서대로 정렬해보세요\n",
        "# Tip. 코드 한 줄이 너무 길어지면, \\ (백슬래쉬) 기호를 붙이고 줄바꿈을 해서 이어갈 수 있어요\n",
        "\n",
        "staff_df[(staff_df['주소']=='서울')& (staff_df['직무']=='개발')&\\\n",
        "         (staff_df['급여']<=3000)].sort_values('나이', ascending=True)"
      ]
    }
  ],
  "metadata": {
    "colab": {
      "provenance": []
    },
    "kernelspec": {
      "display_name": "Python 3",
      "name": "python3"
    },
    "language_info": {
      "codemirror_mode": {
        "name": "ipython",
        "version": 3
      },
      "file_extension": ".py",
      "mimetype": "text/x-python",
      "name": "python",
      "nbconvert_exporter": "python",
      "pygments_lexer": "ipython3",
      "version": "3.11.2"
    }
  },
  "nbformat": 4,
  "nbformat_minor": 0
}
