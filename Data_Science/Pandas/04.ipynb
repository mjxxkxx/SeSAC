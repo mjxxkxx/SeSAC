{
 "cells": [
  {
   "cell_type": "code",
   "execution_count": 75,
   "metadata": {},
   "outputs": [],
   "source": [
    "import os\n",
    "import numpy as np\n",
    "import pandas as pd\n",
    "import matplotlib.pyplot as plt\n",
    "import seaborn as sns\n",
    "\n",
    "fpath = './dataset'"
   ]
  },
  {
   "cell_type": "code",
   "execution_count": 76,
   "metadata": {},
   "outputs": [
    {
     "name": "stdout",
     "output_type": "stream",
     "text": [
      "   수학    영어 성별     합격\n",
      "0  90  90.0  남   True\n",
      "1  80  90.0  남  False\n",
      "2  70  90.0  여   True\n"
     ]
    }
   ],
   "source": [
    "## DataFrame\n",
    "\n",
    "exam_data = {\"수학\" : [90, 80, 70],\n",
    "            \"영어\" : [90., 90., 90.],    \n",
    "            \"성별\" : [\"남\", \"남\", \"여\"],\n",
    "            \"합격\" : [True, False, True]\n",
    "}\n",
    "\n",
    "exam_df = pd.DataFrame(exam_data)\n",
    "# exam_df\n",
    "print(exam_df)"
   ]
  },
  {
   "cell_type": "code",
   "execution_count": 77,
   "metadata": {},
   "outputs": [
    {
     "name": "stdout",
     "output_type": "stream",
     "text": [
      "80.0\n",
      "80.0\n",
      "10.0\n",
      "80.0\n",
      "100.0\n",
      "5.773502691896258\n",
      "70\n",
      "90\n"
     ]
    },
    {
     "data": {
      "text/html": [
       "<div>\n",
       "<style scoped>\n",
       "    .dataframe tbody tr th:only-of-type {\n",
       "        vertical-align: middle;\n",
       "    }\n",
       "\n",
       "    .dataframe tbody tr th {\n",
       "        vertical-align: top;\n",
       "    }\n",
       "\n",
       "    .dataframe thead th {\n",
       "        text-align: right;\n",
       "    }\n",
       "</style>\n",
       "<table border=\"1\" class=\"dataframe\">\n",
       "  <thead>\n",
       "    <tr style=\"text-align: right;\">\n",
       "      <th></th>\n",
       "      <th>수학</th>\n",
       "      <th>영어</th>\n",
       "    </tr>\n",
       "  </thead>\n",
       "  <tbody>\n",
       "    <tr>\n",
       "      <th>count</th>\n",
       "      <td>3.0</td>\n",
       "      <td>3.0</td>\n",
       "    </tr>\n",
       "    <tr>\n",
       "      <th>mean</th>\n",
       "      <td>80.0</td>\n",
       "      <td>90.0</td>\n",
       "    </tr>\n",
       "    <tr>\n",
       "      <th>std</th>\n",
       "      <td>10.0</td>\n",
       "      <td>0.0</td>\n",
       "    </tr>\n",
       "    <tr>\n",
       "      <th>min</th>\n",
       "      <td>70.0</td>\n",
       "      <td>90.0</td>\n",
       "    </tr>\n",
       "    <tr>\n",
       "      <th>25%</th>\n",
       "      <td>75.0</td>\n",
       "      <td>90.0</td>\n",
       "    </tr>\n",
       "    <tr>\n",
       "      <th>50%</th>\n",
       "      <td>80.0</td>\n",
       "      <td>90.0</td>\n",
       "    </tr>\n",
       "    <tr>\n",
       "      <th>75%</th>\n",
       "      <td>85.0</td>\n",
       "      <td>90.0</td>\n",
       "    </tr>\n",
       "    <tr>\n",
       "      <th>max</th>\n",
       "      <td>90.0</td>\n",
       "      <td>90.0</td>\n",
       "    </tr>\n",
       "  </tbody>\n",
       "</table>\n",
       "</div>"
      ],
      "text/plain": [
       "         수학    영어\n",
       "count   3.0   3.0\n",
       "mean   80.0  90.0\n",
       "std    10.0   0.0\n",
       "min    70.0  90.0\n",
       "25%    75.0  90.0\n",
       "50%    80.0  90.0\n",
       "75%    85.0  90.0\n",
       "max    90.0  90.0"
      ]
     },
     "execution_count": 77,
     "metadata": {},
     "output_type": "execute_result"
    }
   ],
   "source": [
    "## Summary Statistic\n",
    "\n",
    "# exam_df.shape\n",
    "# exam_df.columns\n",
    "# exam_df.dtypes\n",
    "print(exam_df[\"수학\"].mean())\n",
    "print(exam_df[\"수학\"].median())\n",
    "print(exam_df[\"수학\"].std())\n",
    "print(exam_df[\"수학\"].mean())\n",
    "print(exam_df[\"수학\"].var())\n",
    "print(exam_df[\"수학\"].sem())\n",
    "print(exam_df[\"수학\"].min())\n",
    "print(exam_df[\"수학\"].max())\n",
    "\n",
    "exam_df.describe()"
   ]
  },
  {
   "cell_type": "code",
   "execution_count": 78,
   "metadata": {},
   "outputs": [
    {
     "name": "stdout",
     "output_type": "stream",
     "text": [
      "['anagrams', 'anscombe', 'attention', 'brain_networks', 'car_crashes', 'diamonds', 'dots', 'dowjones', 'exercise', 'flights', 'fmri', 'geyser', 'glue', 'healthexp', 'iris', 'mpg', 'penguins', 'planets', 'seaice', 'taxis', 'tips', 'titanic']\n",
      "   total_bill   tip     sex smoker  day    time  size\n",
      "0       16.99  1.01  Female     No  Sun  Dinner     2\n",
      "1       10.34  1.66    Male     No  Sun  Dinner     3\n",
      "2       21.01  3.50    Male     No  Sun  Dinner     3\n",
      "3       23.68  3.31    Male     No  Sun  Dinner     2\n",
      "4       24.59  3.61  Female     No  Sun  Dinner     4\n"
     ]
    }
   ],
   "source": [
    "## sns\n",
    "print(sns.get_dataset_names())\n",
    "tips = sns.load_dataset(\"tips\")\n",
    "print(tips.head())"
   ]
  },
  {
   "cell_type": "code",
   "execution_count": 79,
   "metadata": {},
   "outputs": [
    {
     "name": "stdout",
     "output_type": "stream",
     "text": [
      "correlation = \n",
      "             total_bill       tip\n",
      "total_bill    1.000000  0.675734\n",
      "tip           0.675734  1.000000\n"
     ]
    },
    {
     "data": {
      "image/png": "[encoded data removed]",
      "text/plain": [
       "<Figure size 640x480 with 1 Axes>"
      ]
     },
     "metadata": {},
     "output_type": "display_data"
    }
   ],
   "source": [
    "print(\"correlation = \\n\", tips[[\"total_bill\", \"tip\"]].corr())\n",
    "\n",
    "plt.scatter(tips[\"total_bill\"], tips[\"tip\"], s = 100)\n",
    "plt.show()"
   ]
  },
  {
   "cell_type": "code",
   "execution_count": 80,
   "metadata": {},
   "outputs": [
    {
     "data": {
      "text/html": [
       "<div>\n",
       "<style scoped>\n",
       "    .dataframe tbody tr th:only-of-type {\n",
       "        vertical-align: middle;\n",
       "    }\n",
       "\n",
       "    .dataframe tbody tr th {\n",
       "        vertical-align: top;\n",
       "    }\n",
       "\n",
       "    .dataframe thead th {\n",
       "        text-align: right;\n",
       "    }\n",
       "</style>\n",
       "<table border=\"1\" class=\"dataframe\">\n",
       "  <thead>\n",
       "    <tr style=\"text-align: right;\">\n",
       "      <th></th>\n",
       "      <th>group</th>\n",
       "      <th>id</th>\n",
       "      <th>time</th>\n",
       "      <th>hz0.04</th>\n",
       "      <th>hz0.08</th>\n",
       "      <th>hz0.1</th>\n",
       "      <th>hz0.16</th>\n",
       "      <th>hz0.32</th>\n",
       "      <th>hz0.64</th>\n",
       "      <th>hz1</th>\n",
       "    </tr>\n",
       "  </thead>\n",
       "  <tbody>\n",
       "    <tr>\n",
       "      <th>0</th>\n",
       "      <td>1</td>\n",
       "      <td>1</td>\n",
       "      <td>Pre</td>\n",
       "      <td>0.213840</td>\n",
       "      <td>0.717955</td>\n",
       "      <td>0.848727</td>\n",
       "      <td>0.850790</td>\n",
       "      <td>0.802738</td>\n",
       "      <td>0.808393</td>\n",
       "      <td>0.738967</td>\n",
       "    </tr>\n",
       "    <tr>\n",
       "      <th>1</th>\n",
       "      <td>1</td>\n",
       "      <td>2</td>\n",
       "      <td>Pre</td>\n",
       "      <td>0.345725</td>\n",
       "      <td>0.795440</td>\n",
       "      <td>0.781473</td>\n",
       "      <td>0.924972</td>\n",
       "      <td>0.801245</td>\n",
       "      <td>0.803880</td>\n",
       "      <td>0.781420</td>\n",
       "    </tr>\n",
       "    <tr>\n",
       "      <th>2</th>\n",
       "      <td>1</td>\n",
       "      <td>3</td>\n",
       "      <td>Pre</td>\n",
       "      <td>0.376285</td>\n",
       "      <td>0.799327</td>\n",
       "      <td>0.781350</td>\n",
       "      <td>0.777773</td>\n",
       "      <td>0.868007</td>\n",
       "      <td>0.868853</td>\n",
       "      <td>0.754252</td>\n",
       "    </tr>\n",
       "    <tr>\n",
       "      <th>3</th>\n",
       "      <td>1</td>\n",
       "      <td>4</td>\n",
       "      <td>Pre</td>\n",
       "      <td>0.451440</td>\n",
       "      <td>0.771083</td>\n",
       "      <td>0.808645</td>\n",
       "      <td>0.787825</td>\n",
       "      <td>0.839985</td>\n",
       "      <td>0.832352</td>\n",
       "      <td>0.818722</td>\n",
       "    </tr>\n",
       "    <tr>\n",
       "      <th>4</th>\n",
       "      <td>1</td>\n",
       "      <td>5</td>\n",
       "      <td>Pre</td>\n",
       "      <td>0.287360</td>\n",
       "      <td>0.825547</td>\n",
       "      <td>0.831303</td>\n",
       "      <td>0.818332</td>\n",
       "      <td>0.817320</td>\n",
       "      <td>0.816153</td>\n",
       "      <td>0.836298</td>\n",
       "    </tr>\n",
       "  </tbody>\n",
       "</table>\n",
       "</div>"
      ],
      "text/plain": [
       "   group  id time    hz0.04    hz0.08     hz0.1    hz0.16    hz0.32    hz0.64  \\\n",
       "0      1   1  Pre  0.213840  0.717955  0.848727  0.850790  0.802738  0.808393   \n",
       "1      1   2  Pre  0.345725  0.795440  0.781473  0.924972  0.801245  0.803880   \n",
       "2      1   3  Pre  0.376285  0.799327  0.781350  0.777773  0.868007  0.868853   \n",
       "3      1   4  Pre  0.451440  0.771083  0.808645  0.787825  0.839985  0.832352   \n",
       "4      1   5  Pre  0.287360  0.825547  0.831303  0.818332  0.817320  0.816153   \n",
       "\n",
       "        hz1  \n",
       "0  0.738967  \n",
       "1  0.781420  \n",
       "2  0.754252  \n",
       "3  0.818722  \n",
       "4  0.836298  "
      ]
     },
     "execution_count": 80,
     "metadata": {},
     "output_type": "execute_result"
    }
   ],
   "source": [
    "## excel\n",
    "fname = \"cars.csv\"\n",
    "file = os.path.join(fpath, fname)\n",
    "\n",
    "## csv\n",
    "cars_df = pd.read_csv(file)\n",
    "cars_df.head()\n",
    "\n",
    "## excel\n",
    "fname = \"vor_r.xlsx\"\n",
    "file = os.path.join(fpath, fname)\n",
    "vor_df = pd.read_excel(file)\n",
    "vor_df.head()"
   ]
  },
  {
   "cell_type": "code",
   "execution_count": 81,
   "metadata": {},
   "outputs": [
    {
     "name": "stdout",
     "output_type": "stream",
     "text": [
      "df1 = \n",
      "     a   b   c\n",
      "0  a0  b0  c0\n",
      "1  a1  b1  c1\n",
      "2  a2  b2  c2\n",
      "3  a3  b3  c3\n",
      "df2 = \n",
      "     a   b   c   d\n",
      "2  a2  b2  c2  d2\n",
      "3  a3  b3  c3  d3\n",
      "4  a4  b4  c4  d4\n",
      "5  a5  b5  c5  d5\n"
     ]
    }
   ],
   "source": [
    "##\n",
    "df1 = pd.DataFrame({'a': ['a0', 'a1', 'a2', 'a3'],\n",
    "                    'b': ['b0', 'b1', 'b2', 'b3'],\n",
    "                    'c': ['c0', 'c1', 'c2', 'c3']},\n",
    "                    index=[0, 1, 2, 3])\n",
    "\n",
    "df2 = pd.DataFrame({'a': ['a2', 'a3', 'a4', 'a5'],\n",
    "                    'b': ['b2', 'b3', 'b4', 'b5'],\n",
    "                    'c': ['c2', 'c3', 'c4', 'c5'],\n",
    "                    'd': ['d2', 'd3', 'd4', 'd5']},\n",
    "                    index=[2, 3, 4, 5])\n",
    "\n",
    "print('df1 = \\n', df1)\n",
    "print('df2 = \\n', df2)"
   ]
  },
  {
   "cell_type": "code",
   "execution_count": 82,
   "metadata": {},
   "outputs": [
    {
     "name": "stdout",
     "output_type": "stream",
     "text": [
      "pd.concat[df, df2] = \n",
      "     a   b   c    d\n",
      "0  a0  b0  c0  NaN\n",
      "1  a1  b1  c1  NaN\n",
      "2  a2  b2  c2  NaN\n",
      "3  a3  b3  c3  NaN\n",
      "4  a2  b2  c2   d2\n",
      "5  a3  b3  c3   d3\n",
      "6  a4  b4  c4   d4\n",
      "7  a5  b5  c5   d5\n",
      "--------------------------------------------------\n",
      "concat_col = pd.concat([df1, df2], axis = 1) = \n",
      "      a    b    c    a    b    c    d\n",
      "0   a0   b0   c0  NaN  NaN  NaN  NaN\n",
      "1   a1   b1   c1  NaN  NaN  NaN  NaN\n",
      "2   a2   b2   c2   a2   b2   c2   d2\n",
      "3   a3   b3   c3   a3   b3   c3   d3\n",
      "4  NaN  NaN  NaN   a4   b4   c4   d4\n",
      "5  NaN  NaN  NaN   a5   b5   c5   d5\n"
     ]
    }
   ],
   "source": [
    "## Concatenation\n",
    "\n",
    "concat_row = pd.concat([df1, df2], join = 'outer', ignore_index=True)\n",
    "print('pd.concat[df, df2] = \\n', concat_row)\n",
    "\n",
    "print('-'*50)\n",
    "concat_col = pd.concat([df1, df2], axis = 1)\n",
    "print('concat_col = pd.concat([df1, df2], axis = 1) = \\n', concat_col)"
   ]
  },
  {
   "cell_type": "code",
   "execution_count": 83,
   "metadata": {},
   "outputs": [
    {
     "name": "stdout",
     "output_type": "stream",
     "text": [
      "df1 = \n",
      "        id stock_name          value   price\n",
      "0  128940       한미약품   59385.666667  421000\n",
      "1  130960     CJ E&M   58540.666667   98900\n",
      "2  138250      엔에스쇼핑   14558.666667   13200\n",
      "3  139480        이마트  239230.833333  254500\n",
      "4  142280     녹십자엠에스     468.833333   10200\n",
      "5  145990        삼양사   82750.000000   82000\n",
      "6  185750        종근당   40293.666667  100500\n",
      "7  192400      쿠쿠홀딩스  179204.666667  177500\n",
      "8  199800         툴젠   -2514.333333  115400\n",
      "9  204210     모두투어리츠    3093.333333    3475\n",
      "----------------------------------------------------------------------------------------------------\n",
      "df2 = \n",
      "        id       name           eps     bps        per       pbr\n",
      "0  130960     CJ E&M   6301.333333   54068  15.695091  1.829178\n",
      "1  136480         하림    274.166667    3551  11.489362  0.887074\n",
      "2  138040    메리츠금융지주   2122.333333   14894   6.313806  0.899691\n",
      "3  139480        이마트  18268.166667  295780  13.931338  0.860437\n",
      "4  145990        삼양사   5741.000000  108090  14.283226  0.758627\n",
      "5  161390      한국타이어   5648.500000   51341   7.453306  0.820007\n",
      "6  181710  NHN엔터테인먼트   2110.166667   78434  30.755864  0.827447\n",
      "7  185750        종근당   3990.333333   40684  25.185866  2.470259\n",
      "8  204210     모두투어리츠     85.166667    5335  40.802348  0.651359\n",
      "9  207940   삼성바이오로직스   4644.166667   60099  89.790059  6.938551\n"
     ]
    }
   ],
   "source": [
    "##\n",
    "df1 = pd.read_excel(\"./dataset/stock price.xlsx\")\n",
    "df2 = pd.read_excel(\"./dataset/stock valuation.xlsx\")\n",
    "\n",
    "print('df1 = \\n', df1)\n",
    "print('-'*100)\n",
    "print('df2 = \\n', df2)"
   ]
  },
  {
   "cell_type": "code",
   "execution_count": 84,
   "metadata": {},
   "outputs": [
    {
     "name": "stdout",
     "output_type": "stream",
     "text": [
      "df1 = \n",
      "        stock_name          value   price\n",
      "id                                      \n",
      "128940       한미약품   59385.666667  421000\n",
      "130960     CJ E&M   58540.666667   98900\n",
      "138250      엔에스쇼핑   14558.666667   13200\n",
      "139480        이마트  239230.833333  254500\n",
      "142280     녹십자엠에스     468.833333   10200\n",
      "145990        삼양사   82750.000000   82000\n",
      "185750        종근당   40293.666667  100500\n",
      "192400      쿠쿠홀딩스  179204.666667  177500\n",
      "199800         툴젠   -2514.333333  115400\n",
      "204210     모두투어리츠    3093.333333    3475\n",
      "df2 = \n",
      "              name           eps     bps        per       pbr\n",
      "id                                                          \n",
      "130960     CJ E&M   6301.333333   54068  15.695091  1.829178\n",
      "136480         하림    274.166667    3551  11.489362  0.887074\n",
      "138040    메리츠금융지주   2122.333333   14894   6.313806  0.899691\n",
      "139480        이마트  18268.166667  295780  13.931338  0.860437\n",
      "145990        삼양사   5741.000000  108090  14.283226  0.758627\n",
      "161390      한국타이어   5648.500000   51341   7.453306  0.820007\n",
      "181710  NHN엔터테인먼트   2110.166667   78434  30.755864  0.827447\n",
      "185750        종근당   3990.333333   40684  25.185866  2.470259\n",
      "204210     모두투어리츠     85.166667    5335  40.802348  0.651359\n",
      "207940   삼성바이오로직스   4644.166667   60099  89.790059  6.938551\n"
     ]
    }
   ],
   "source": [
    "df1.set_index('id', inplace = True)\n",
    "df2.set_index('id', inplace = True)\n",
    "print('df1 = \\n', df1)\n",
    "print('df2 = \\n', df2)"
   ]
  },
  {
   "cell_type": "code",
   "execution_count": 85,
   "metadata": {},
   "outputs": [
    {
     "name": "stdout",
     "output_type": "stream",
     "text": [
      "       stock_name          value   price    name           eps     bps  \\\n",
      "id                                                                       \n",
      "130960     CJ E&M   58540.666667   98900  CJ E&M   6301.333333   54068   \n",
      "139480        이마트  239230.833333  254500     이마트  18268.166667  295780   \n",
      "145990        삼양사   82750.000000   82000     삼양사   5741.000000  108090   \n",
      "185750        종근당   40293.666667  100500     종근당   3990.333333   40684   \n",
      "204210     모두투어리츠    3093.333333    3475  모두투어리츠     85.166667    5335   \n",
      "\n",
      "              per       pbr  \n",
      "id                           \n",
      "130960  15.695091  1.829178  \n",
      "139480  13.931338  0.860437  \n",
      "145990  14.283226  0.758627  \n",
      "185750  25.185866  2.470259  \n",
      "204210  40.802348  0.651359  \n",
      "----------------------------------------------------------------------------------------------------\n",
      "          name           eps     bps        per       pbr stock_name  \\\n",
      "id                                                                     \n",
      "130960  CJ E&M   6301.333333   54068  15.695091  1.829178     CJ E&M   \n",
      "139480     이마트  18268.166667  295780  13.931338  0.860437        이마트   \n",
      "145990     삼양사   5741.000000  108090  14.283226  0.758627        삼양사   \n",
      "185750     종근당   3990.333333   40684  25.185866  2.470259        종근당   \n",
      "204210  모두투어리츠     85.166667    5335  40.802348  0.651359     모두투어리츠   \n",
      "\n",
      "                value   price  \n",
      "id                             \n",
      "130960   58540.666667   98900  \n",
      "139480  239230.833333  254500  \n",
      "145990   82750.000000   82000  \n",
      "185750   40293.666667  100500  \n",
      "204210    3093.333333    3475  \n"
     ]
    }
   ],
   "source": [
    "df3 = df1.join(df2, lsuffix = 'df1', rsuffix='df2', how = 'inner')\n",
    "df4 = df2.join(df1, how = 'inner')\n",
    "\n",
    "print(df3)\n",
    "print('-'* 100)\n",
    "print(df4)"
   ]
  },
  {
   "cell_type": "code",
   "execution_count": 86,
   "metadata": {},
   "outputs": [
    {
     "name": "stdout",
     "output_type": "stream",
     "text": [
      "df1 = \n",
      "        id stock_name          value   price\n",
      "0  128940       한미약품   59385.666667  421000\n",
      "1  130960     CJ E&M   58540.666667   98900\n",
      "2  138250      엔에스쇼핑   14558.666667   13200\n",
      "3  139480        이마트  239230.833333  254500\n",
      "4  142280     녹십자엠에스     468.833333   10200\n",
      "5  145990        삼양사   82750.000000   82000\n",
      "6  185750        종근당   40293.666667  100500\n",
      "7  192400      쿠쿠홀딩스  179204.666667  177500\n",
      "8  199800         툴젠   -2514.333333  115400\n",
      "9  204210     모두투어리츠    3093.333333    3475\n",
      "----------------------------------------------------------------------------------------------------\n",
      "df2 = \n",
      "        id       name           eps     bps        per       pbr\n",
      "0  130960     CJ E&M   6301.333333   54068  15.695091  1.829178\n",
      "1  136480         하림    274.166667    3551  11.489362  0.887074\n",
      "2  138040    메리츠금융지주   2122.333333   14894   6.313806  0.899691\n",
      "3  139480        이마트  18268.166667  295780  13.931338  0.860437\n",
      "4  145990        삼양사   5741.000000  108090  14.283226  0.758627\n",
      "5  161390      한국타이어   5648.500000   51341   7.453306  0.820007\n",
      "6  181710  NHN엔터테인먼트   2110.166667   78434  30.755864  0.827447\n",
      "7  185750        종근당   3990.333333   40684  25.185866  2.470259\n",
      "8  204210     모두투어리츠     85.166667    5335  40.802348  0.651359\n",
      "9  207940   삼성바이오로직스   4644.166667   60099  89.790059  6.938551\n"
     ]
    }
   ],
   "source": [
    "df1 = pd.read_excel(\"./dataset/stock price.xlsx\")\n",
    "df2 = pd.read_excel(\"./dataset/stock valuation.xlsx\")\n",
    "\n",
    "print('df1 = \\n', df1)\n",
    "print('-'*100)\n",
    "print('df2 = \\n', df2)"
   ]
  },
  {
   "cell_type": "code",
   "execution_count": 87,
   "metadata": {},
   "outputs": [
    {
     "name": "stdout",
     "output_type": "stream",
     "text": [
      "merge_inner = \n",
      "        id stock_name          value   price    name           eps     bps  \\\n",
      "0  130960     CJ E&M   58540.666667   98900  CJ E&M   6301.333333   54068   \n",
      "1  139480        이마트  239230.833333  254500     이마트  18268.166667  295780   \n",
      "2  145990        삼양사   82750.000000   82000     삼양사   5741.000000  108090   \n",
      "3  185750        종근당   40293.666667  100500     종근당   3990.333333   40684   \n",
      "4  204210     모두투어리츠    3093.333333    3475  모두투어리츠     85.166667    5335   \n",
      "\n",
      "         per       pbr  \n",
      "0  15.695091  1.829178  \n",
      "1  13.931338  0.860437  \n",
      "2  14.283226  0.758627  \n",
      "3  25.185866  2.470259  \n",
      "4  40.802348  0.651359  \n",
      "----------------------------------------------------------------------------------------------------\n",
      "merge_outer = \n",
      "         id stock_name          value     price       name           eps  \\\n",
      "0   128940       한미약품   59385.666667  421000.0        NaN           NaN   \n",
      "1   130960     CJ E&M   58540.666667   98900.0     CJ E&M   6301.333333   \n",
      "2   136480        NaN            NaN       NaN         하림    274.166667   \n",
      "3   138040        NaN            NaN       NaN    메리츠금융지주   2122.333333   \n",
      "4   138250      엔에스쇼핑   14558.666667   13200.0        NaN           NaN   \n",
      "5   139480        이마트  239230.833333  254500.0        이마트  18268.166667   \n",
      "6   142280     녹십자엠에스     468.833333   10200.0        NaN           NaN   \n",
      "7   145990        삼양사   82750.000000   82000.0        삼양사   5741.000000   \n",
      "8   161390        NaN            NaN       NaN      한국타이어   5648.500000   \n",
      "9   181710        NaN            NaN       NaN  NHN엔터테인먼트   2110.166667   \n",
      "10  185750        종근당   40293.666667  100500.0        종근당   3990.333333   \n",
      "11  192400      쿠쿠홀딩스  179204.666667  177500.0        NaN           NaN   \n",
      "12  199800         툴젠   -2514.333333  115400.0        NaN           NaN   \n",
      "13  204210     모두투어리츠    3093.333333    3475.0     모두투어리츠     85.166667   \n",
      "14  207940        NaN            NaN       NaN   삼성바이오로직스   4644.166667   \n",
      "\n",
      "         bps        per       pbr  \n",
      "0        NaN        NaN       NaN  \n",
      "1    54068.0  15.695091  1.829178  \n",
      "2     3551.0  11.489362  0.887074  \n",
      "3    14894.0   6.313806  0.899691  \n",
      "4        NaN        NaN       NaN  \n",
      "5   295780.0  13.931338  0.860437  \n",
      "6        NaN        NaN       NaN  \n",
      "7   108090.0  14.283226  0.758627  \n",
      "8    51341.0   7.453306  0.820007  \n",
      "9    78434.0  30.755864  0.827447  \n",
      "10   40684.0  25.185866  2.470259  \n",
      "11       NaN        NaN       NaN  \n",
      "12       NaN        NaN       NaN  \n",
      "13    5335.0  40.802348  0.651359  \n",
      "14   60099.0  89.790059  6.938551  \n",
      "----------------------------------------------------------------------------------------------------\n",
      "merge_df1 = \n",
      "      id_x stock_name          value   price      id_y    name           eps  \\\n",
      "0  128940       한미약품   59385.666667  421000       NaN     NaN           NaN   \n",
      "1  130960     CJ E&M   58540.666667   98900  130960.0  CJ E&M   6301.333333   \n",
      "2  138250      엔에스쇼핑   14558.666667   13200       NaN     NaN           NaN   \n",
      "3  139480        이마트  239230.833333  254500  139480.0     이마트  18268.166667   \n",
      "4  142280     녹십자엠에스     468.833333   10200       NaN     NaN           NaN   \n",
      "5  145990        삼양사   82750.000000   82000  145990.0     삼양사   5741.000000   \n",
      "6  185750        종근당   40293.666667  100500  185750.0     종근당   3990.333333   \n",
      "7  192400      쿠쿠홀딩스  179204.666667  177500       NaN     NaN           NaN   \n",
      "8  199800         툴젠   -2514.333333  115400       NaN     NaN           NaN   \n",
      "9  204210     모두투어리츠    3093.333333    3475  204210.0  모두투어리츠     85.166667   \n",
      "\n",
      "        bps        per       pbr  \n",
      "0       NaN        NaN       NaN  \n",
      "1   54068.0  15.695091  1.829178  \n",
      "2       NaN        NaN       NaN  \n",
      "3  295780.0  13.931338  0.860437  \n",
      "4       NaN        NaN       NaN  \n",
      "5  108090.0  14.283226  0.758627  \n",
      "6   40684.0  25.185866  2.470259  \n",
      "7       NaN        NaN       NaN  \n",
      "8       NaN        NaN       NaN  \n",
      "9    5335.0  40.802348  0.651359  \n"
     ]
    }
   ],
   "source": [
    "## merge \n",
    "merge_inner = pd.merge(df1, df2, how = 'inner', on = 'id')\n",
    "print('merge_inner = \\n', merge_inner)\n",
    "print('-'*100)\n",
    "\n",
    "merge_outer = pd.merge(df1, df2, how = 'outer', on = 'id')\n",
    "print('merge_outer = \\n', merge_outer)\n",
    "print('-'*100)\n",
    "\n",
    "## \n",
    "merge_df1 = pd.merge(df1, df2, how = 'left', left_on = 'stock_name', right_on = 'name')\n",
    "print('merge_df1 = \\n', merge_df1)"
   ]
  },
  {
   "cell_type": "code",
   "execution_count": 88,
   "metadata": {},
   "outputs": [
    {
     "data": {
      "text/plain": [
       "['anagrams',\n",
       " 'anscombe',\n",
       " 'attention',\n",
       " 'brain_networks',\n",
       " 'car_crashes',\n",
       " 'diamonds',\n",
       " 'dots',\n",
       " 'dowjones',\n",
       " 'exercise',\n",
       " 'flights',\n",
       " 'fmri',\n",
       " 'geyser',\n",
       " 'glue',\n",
       " 'healthexp',\n",
       " 'iris',\n",
       " 'mpg',\n",
       " 'penguins',\n",
       " 'planets',\n",
       " 'seaice',\n",
       " 'taxis',\n",
       " 'tips',\n",
       " 'titanic']"
      ]
     },
     "execution_count": 88,
     "metadata": {},
     "output_type": "execute_result"
    }
   ],
   "source": [
    "sns.get_dataset_names()"
   ]
  },
  {
   "cell_type": "code",
   "execution_count": 93,
   "metadata": {},
   "outputs": [
    {
     "data": {
      "text/html": [
       "<div>\n",
       "<style scoped>\n",
       "    .dataframe tbody tr th:only-of-type {\n",
       "        vertical-align: middle;\n",
       "    }\n",
       "\n",
       "    .dataframe tbody tr th {\n",
       "        vertical-align: top;\n",
       "    }\n",
       "\n",
       "    .dataframe thead th {\n",
       "        text-align: right;\n",
       "    }\n",
       "</style>\n",
       "<table border=\"1\" class=\"dataframe\">\n",
       "  <thead>\n",
       "    <tr style=\"text-align: right;\">\n",
       "      <th></th>\n",
       "      <th>survived</th>\n",
       "      <th>pclass</th>\n",
       "      <th>sex</th>\n",
       "      <th>age</th>\n",
       "      <th>sibsp</th>\n",
       "      <th>parch</th>\n",
       "      <th>fare</th>\n",
       "    </tr>\n",
       "  </thead>\n",
       "  <tbody>\n",
       "    <tr>\n",
       "      <th>0</th>\n",
       "      <td>0</td>\n",
       "      <td>3</td>\n",
       "      <td>male</td>\n",
       "      <td>22.0</td>\n",
       "      <td>1</td>\n",
       "      <td>0</td>\n",
       "      <td>7.2500</td>\n",
       "    </tr>\n",
       "    <tr>\n",
       "      <th>1</th>\n",
       "      <td>1</td>\n",
       "      <td>1</td>\n",
       "      <td>female</td>\n",
       "      <td>38.0</td>\n",
       "      <td>1</td>\n",
       "      <td>0</td>\n",
       "      <td>71.2833</td>\n",
       "    </tr>\n",
       "    <tr>\n",
       "      <th>2</th>\n",
       "      <td>1</td>\n",
       "      <td>3</td>\n",
       "      <td>female</td>\n",
       "      <td>26.0</td>\n",
       "      <td>0</td>\n",
       "      <td>0</td>\n",
       "      <td>7.9250</td>\n",
       "    </tr>\n",
       "    <tr>\n",
       "      <th>3</th>\n",
       "      <td>1</td>\n",
       "      <td>1</td>\n",
       "      <td>female</td>\n",
       "      <td>35.0</td>\n",
       "      <td>1</td>\n",
       "      <td>0</td>\n",
       "      <td>53.1000</td>\n",
       "    </tr>\n",
       "    <tr>\n",
       "      <th>4</th>\n",
       "      <td>0</td>\n",
       "      <td>3</td>\n",
       "      <td>male</td>\n",
       "      <td>35.0</td>\n",
       "      <td>0</td>\n",
       "      <td>0</td>\n",
       "      <td>8.0500</td>\n",
       "    </tr>\n",
       "  </tbody>\n",
       "</table>\n",
       "</div>"
      ],
      "text/plain": [
       "   survived  pclass     sex   age  sibsp  parch     fare\n",
       "0         0       3    male  22.0      1      0   7.2500\n",
       "1         1       1  female  38.0      1      0  71.2833\n",
       "2         1       3  female  26.0      0      0   7.9250\n",
       "3         1       1  female  35.0      1      0  53.1000\n",
       "4         0       3    male  35.0      0      0   8.0500"
      ]
     },
     "execution_count": 93,
     "metadata": {},
     "output_type": "execute_result"
    }
   ],
   "source": [
    "titanic_df = sns.load_dataset('titanic')\n",
    "titanic_df.head()\n",
    "\n",
    "df = titanic_df.loc[:, :'fare']\n",
    "df.head()"
   ]
  },
  {
   "cell_type": "code",
   "execution_count": 128,
   "metadata": {},
   "outputs": [
    {
     "name": "stdout",
     "output_type": "stream",
     "text": [
      "fare mean = 32.204\n",
      "----------------------------------------------------------------------------------------------------\n",
      "0      False\n",
      "1       True\n",
      "2      False\n",
      "3       True\n",
      "4      False\n",
      "       ...  \n",
      "886    False\n",
      "887     True\n",
      "888    False\n",
      "889     True\n",
      "890    False\n",
      "Name: pclass, Length: 891, dtype: bool\n",
      "----------------------------------------------------------------------------------------------------\n",
      "mean of class 1 fare = 84.1546875\n",
      "mean of class 2 fare = 20.662183152173913\n"
     ]
    }
   ],
   "source": [
    "print('fare mean =', df['fare'].mean().round(3))\n",
    "print('-'*100)\n",
    "##\n",
    "pclass1 = df['pclass'] == 1\n",
    "print(pclass1)\n",
    "print('-'*100)\n",
    "\n",
    "pclass1_df = df[pclass1]\n",
    "print('mean of class 1 fare =', pclass1_df['fare'].mean())\n",
    "\n",
    "pclass2 = df['pclass'] == 2\n",
    "pclass2_df = df[pclass2]\n",
    "print('mean of class 2 fare =', pclass2_df['fare'].mean())"
   ]
  },
  {
   "cell_type": "code",
   "execution_count": 133,
   "metadata": {},
   "outputs": [
    {
     "name": "stdout",
     "output_type": "stream",
     "text": [
      "correlation between pclass and fare\n"
     ]
    },
    {
     "data": {
      "text/plain": [
       "pclass\n",
       "1    84.154687\n",
       "2    20.662183\n",
       "3    13.675550\n",
       "Name: fare, dtype: float64"
      ]
     },
     "execution_count": 133,
     "metadata": {},
     "output_type": "execute_result"
    }
   ],
   "source": [
    "group_pclass = df.groupby('pclass')\n",
    "print('correlation between pclass and fare')\n",
    "group_pclass['fare'].mean()"
   ]
  },
  {
   "cell_type": "code",
   "execution_count": 132,
   "metadata": {},
   "outputs": [
    {
     "name": "stdout",
     "output_type": "stream",
     "text": [
      "correlation between survival and fare\n"
     ]
    },
    {
     "data": {
      "text/plain": [
       "survived\n",
       "0    22.117887\n",
       "1    48.395408\n",
       "Name: fare, dtype: float64"
      ]
     },
     "execution_count": 132,
     "metadata": {},
     "output_type": "execute_result"
    }
   ],
   "source": [
    "group_survived = df.groupby('survived')\n",
    "print('correlation between survival and fare')\n",
    "group_survived['fare'].mean()"
   ]
  },
  {
   "cell_type": "code",
   "execution_count": 131,
   "metadata": {},
   "outputs": [
    {
     "name": "stdout",
     "output_type": "stream",
     "text": [
      "correlation between sex and fare\n"
     ]
    },
    {
     "data": {
      "text/plain": [
       "sex\n",
       "female    44.479818\n",
       "male      25.523893\n",
       "Name: fare, dtype: float64"
      ]
     },
     "execution_count": 131,
     "metadata": {},
     "output_type": "execute_result"
    }
   ],
   "source": [
    "group_sex = df.groupby('sex')\n",
    "print('correlation between sex and fare')\n",
    "group_sex['fare'].mean()"
   ]
  },
  {
   "cell_type": "code",
   "execution_count": 136,
   "metadata": {},
   "outputs": [
    {
     "name": "stdout",
     "output_type": "stream",
     "text": [
      "correlation between age, sibsp and fare\n"
     ]
    },
    {
     "data": {
      "text/html": [
       "<div>\n",
       "<style scoped>\n",
       "    .dataframe tbody tr th:only-of-type {\n",
       "        vertical-align: middle;\n",
       "    }\n",
       "\n",
       "    .dataframe tbody tr th {\n",
       "        vertical-align: top;\n",
       "    }\n",
       "\n",
       "    .dataframe thead th {\n",
       "        text-align: right;\n",
       "    }\n",
       "</style>\n",
       "<table border=\"1\" class=\"dataframe\">\n",
       "  <thead>\n",
       "    <tr style=\"text-align: right;\">\n",
       "      <th></th>\n",
       "      <th></th>\n",
       "      <th>fare</th>\n",
       "      <th>age</th>\n",
       "      <th>sibsp</th>\n",
       "    </tr>\n",
       "    <tr>\n",
       "      <th>survived</th>\n",
       "      <th>pclass</th>\n",
       "      <th></th>\n",
       "      <th></th>\n",
       "      <th></th>\n",
       "    </tr>\n",
       "  </thead>\n",
       "  <tbody>\n",
       "    <tr>\n",
       "      <th rowspan=\"3\" valign=\"top\">0</th>\n",
       "      <th>1</th>\n",
       "      <td>64.684007</td>\n",
       "      <td>43.695312</td>\n",
       "      <td>0.287500</td>\n",
       "    </tr>\n",
       "    <tr>\n",
       "      <th>2</th>\n",
       "      <td>19.412328</td>\n",
       "      <td>33.544444</td>\n",
       "      <td>0.319588</td>\n",
       "    </tr>\n",
       "    <tr>\n",
       "      <th>3</th>\n",
       "      <td>13.669364</td>\n",
       "      <td>26.555556</td>\n",
       "      <td>0.672043</td>\n",
       "    </tr>\n",
       "    <tr>\n",
       "      <th rowspan=\"3\" valign=\"top\">1</th>\n",
       "      <th>1</th>\n",
       "      <td>95.608029</td>\n",
       "      <td>35.368197</td>\n",
       "      <td>0.492647</td>\n",
       "    </tr>\n",
       "    <tr>\n",
       "      <th>2</th>\n",
       "      <td>22.055700</td>\n",
       "      <td>25.901566</td>\n",
       "      <td>0.494253</td>\n",
       "    </tr>\n",
       "    <tr>\n",
       "      <th>3</th>\n",
       "      <td>13.694887</td>\n",
       "      <td>20.646118</td>\n",
       "      <td>0.436975</td>\n",
       "    </tr>\n",
       "  </tbody>\n",
       "</table>\n",
       "</div>"
      ],
      "text/plain": [
       "                      fare        age     sibsp\n",
       "survived pclass                                \n",
       "0        1       64.684007  43.695312  0.287500\n",
       "         2       19.412328  33.544444  0.319588\n",
       "         3       13.669364  26.555556  0.672043\n",
       "1        1       95.608029  35.368197  0.492647\n",
       "         2       22.055700  25.901566  0.494253\n",
       "         3       13.694887  20.646118  0.436975"
      ]
     },
     "execution_count": 136,
     "metadata": {},
     "output_type": "execute_result"
    }
   ],
   "source": [
    "group_survived = df.groupby(['survived', 'pclass'])\n",
    "print('correlation between age, sibsp and fare') \n",
    "group_survived[['fare', 'age', 'sibsp']].mean()\n"
   ]
  },
  {
   "cell_type": "code",
   "execution_count": 129,
   "metadata": {},
   "outputs": [
    {
     "data": {
      "text/plain": [
       "survived  sex   \n",
       "0         male      468\n",
       "          female     81\n",
       "1         female    233\n",
       "          male      109\n",
       "Name: count, dtype: int64"
      ]
     },
     "execution_count": 129,
     "metadata": {},
     "output_type": "execute_result"
    }
   ],
   "source": [
    "##\n",
    "group_survived = df.groupby('survived')\n",
    "\n",
    "group_survived['sex'].value_counts()"
   ]
  },
  {
   "cell_type": "code",
   "execution_count": 137,
   "metadata": {},
   "outputs": [
    {
     "name": "stdout",
     "output_type": "stream",
     "text": [
      "mean =  29.69911764705882\n",
      "median =  28.0\n"
     ]
    },
    {
     "data": {
      "text/html": [
       "<div>\n",
       "<style scoped>\n",
       "    .dataframe tbody tr th:only-of-type {\n",
       "        vertical-align: middle;\n",
       "    }\n",
       "\n",
       "    .dataframe tbody tr th {\n",
       "        vertical-align: top;\n",
       "    }\n",
       "\n",
       "    .dataframe thead th {\n",
       "        text-align: right;\n",
       "    }\n",
       "</style>\n",
       "<table border=\"1\" class=\"dataframe\">\n",
       "  <thead>\n",
       "    <tr style=\"text-align: right;\">\n",
       "      <th></th>\n",
       "      <th></th>\n",
       "      <th>mean</th>\n",
       "      <th>std</th>\n",
       "      <th>median</th>\n",
       "      <th>min</th>\n",
       "      <th>max</th>\n",
       "    </tr>\n",
       "    <tr>\n",
       "      <th>survived</th>\n",
       "      <th>pclass</th>\n",
       "      <th></th>\n",
       "      <th></th>\n",
       "      <th></th>\n",
       "      <th></th>\n",
       "      <th></th>\n",
       "    </tr>\n",
       "  </thead>\n",
       "  <tbody>\n",
       "    <tr>\n",
       "      <th rowspan=\"3\" valign=\"top\">0</th>\n",
       "      <th>1</th>\n",
       "      <td>43.695312</td>\n",
       "      <td>15.284243</td>\n",
       "      <td>45.25</td>\n",
       "      <td>2.00</td>\n",
       "      <td>71.0</td>\n",
       "    </tr>\n",
       "    <tr>\n",
       "      <th>2</th>\n",
       "      <td>33.544444</td>\n",
       "      <td>12.151581</td>\n",
       "      <td>30.50</td>\n",
       "      <td>16.00</td>\n",
       "      <td>70.0</td>\n",
       "    </tr>\n",
       "    <tr>\n",
       "      <th>3</th>\n",
       "      <td>26.555556</td>\n",
       "      <td>12.334882</td>\n",
       "      <td>25.00</td>\n",
       "      <td>1.00</td>\n",
       "      <td>74.0</td>\n",
       "    </tr>\n",
       "    <tr>\n",
       "      <th rowspan=\"3\" valign=\"top\">1</th>\n",
       "      <th>1</th>\n",
       "      <td>35.368197</td>\n",
       "      <td>13.760017</td>\n",
       "      <td>35.00</td>\n",
       "      <td>0.92</td>\n",
       "      <td>80.0</td>\n",
       "    </tr>\n",
       "    <tr>\n",
       "      <th>2</th>\n",
       "      <td>25.901566</td>\n",
       "      <td>14.837787</td>\n",
       "      <td>28.00</td>\n",
       "      <td>0.67</td>\n",
       "      <td>62.0</td>\n",
       "    </tr>\n",
       "    <tr>\n",
       "      <th>3</th>\n",
       "      <td>20.646118</td>\n",
       "      <td>11.995047</td>\n",
       "      <td>22.00</td>\n",
       "      <td>0.42</td>\n",
       "      <td>63.0</td>\n",
       "    </tr>\n",
       "  </tbody>\n",
       "</table>\n",
       "</div>"
      ],
      "text/plain": [
       "                      mean        std  median    min   max\n",
       "survived pclass                                           \n",
       "0        1       43.695312  15.284243   45.25   2.00  71.0\n",
       "         2       33.544444  12.151581   30.50  16.00  70.0\n",
       "         3       26.555556  12.334882   25.00   1.00  74.0\n",
       "1        1       35.368197  13.760017   35.00   0.92  80.0\n",
       "         2       25.901566  14.837787   28.00   0.67  62.0\n",
       "         3       20.646118  11.995047   22.00   0.42  63.0"
      ]
     },
     "execution_count": 137,
     "metadata": {},
     "output_type": "execute_result"
    }
   ],
   "source": [
    "## \n",
    "df.head()\n",
    "print('mean = ', df['age'].mean())\n",
    "print('median = ', df['age'].median())\n",
    "\n",
    "## aggregation\n",
    "group_survived = df.groupby(['survived', 'pclass'])\n",
    "df['age'].agg(['mean', 'std', 'median', 'min', 'max'])\n",
    "group_survived['age'].agg(['mean', 'std', 'median', 'min', 'max'])"
   ]
  },
  {
   "cell_type": "code",
   "execution_count": null,
   "metadata": {},
   "outputs": [],
   "source": [
    "\n"
   ]
  }
 ],
 "metadata": {
  "kernelspec": {
   "display_name": "Python 3",
   "language": "python",
   "name": "python3"
  },
  "language_info": {
   "codemirror_mode": {
    "name": "ipython",
    "version": 3
   },
   "file_extension": ".py",
   "mimetype": "text/x-python",
   "name": "python",
   "nbconvert_exporter": "python",
   "pygments_lexer": "ipython3",
   "version": "3.11.9"
  }
 },
 "nbformat": 4,
 "nbformat_minor": 2
}
