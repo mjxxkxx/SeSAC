{
 "cells": [
  {
   "cell_type": "markdown",
   "metadata": {},
   "source": [
    "# 데이터 분석 기초\n",
    "\n"
   ]
  },
  {
   "cell_type": "markdown",
   "metadata": {},
   "source": [
    "## Data 의 종류\n",
    "\n",
    "### 연속형 자료\n",
    "- ex) int, float\n",
    "- 등간척도 (Interval): 절대값 0 이 존재하지 않음, 곱셈법칙 적용이 안됨, 예)온도\n",
    "- 비율척도 (Ratio): 절대값 0 이 존재, 예) 키, 몸무게, 혈압\n",
    "\n",
    "### 범주형 자료\n",
    "- 명목척도 (Nominal): 속성을 분류하는 척도, 속성간 순위가 없음, 예) 남/녀, 국어/영어/수학\n",
    "- 순서척도 (Ordinal): 속성간에 순위개념이 존재하는 척도, 예) 상/중/하, 좋음/보통/나쁨"
   ]
  },
  {
   "cell_type": "markdown",
   "metadata": {},
   "source": [
    "\n",
    "\n",
    "> ## 파일로 부터 자료 읽기\n",
    "\n"
   ]
  },
  {
   "cell_type": "code",
   "execution_count": 31,
   "metadata": {},
   "outputs": [],
   "source": [
    "# library\n",
    "import os\n",
    "import numpy as np\n",
    "import pandas as pd\n",
    "import matplotlib.pyplot as plt\n",
    "import seaborn as sns"
   ]
  },
  {
   "cell_type": "code",
   "execution_count": null,
   "metadata": {},
   "outputs": [],
   "source": [
    "## 구글 드라이브 마운트 & 파일 업로드\n",
    "# from google.colab import drive, files\n",
    "# drive.mount(\"/content/drive\")\n",
    "# uploaded = files.upload()"
   ]
  },
  {
   "cell_type": "code",
   "execution_count": 4,
   "metadata": {},
   "outputs": [
    {
     "data": {
      "text/plain": [
       "<function dir>"
      ]
     },
     "execution_count": 4,
     "metadata": {},
     "output_type": "execute_result"
    }
   ],
   "source": [
    "dir"
   ]
  },
  {
   "cell_type": "markdown",
   "metadata": {},
   "source": [
    "### Read CSV file"
   ]
  },
  {
   "cell_type": "code",
   "execution_count": 48,
   "metadata": {},
   "outputs": [
    {
     "name": "stdout",
     "output_type": "stream",
     "text": [
      "file = ./dataset\\cars.csv\n"
     ]
    },
    {
     "data": {
      "text/html": [
       "<div>\n",
       "<style scoped>\n",
       "    .dataframe tbody tr th:only-of-type {\n",
       "        vertical-align: middle;\n",
       "    }\n",
       "\n",
       "    .dataframe tbody tr th {\n",
       "        vertical-align: top;\n",
       "    }\n",
       "\n",
       "    .dataframe thead th {\n",
       "        text-align: right;\n",
       "    }\n",
       "</style>\n",
       "<table border=\"1\" class=\"dataframe\">\n",
       "  <thead>\n",
       "    <tr style=\"text-align: right;\">\n",
       "      <th></th>\n",
       "      <th>speed</th>\n",
       "      <th>dist</th>\n",
       "    </tr>\n",
       "  </thead>\n",
       "  <tbody>\n",
       "    <tr>\n",
       "      <th>0</th>\n",
       "      <td>4</td>\n",
       "      <td>2</td>\n",
       "    </tr>\n",
       "    <tr>\n",
       "      <th>1</th>\n",
       "      <td>4</td>\n",
       "      <td>10</td>\n",
       "    </tr>\n",
       "    <tr>\n",
       "      <th>2</th>\n",
       "      <td>7</td>\n",
       "      <td>4</td>\n",
       "    </tr>\n",
       "    <tr>\n",
       "      <th>3</th>\n",
       "      <td>7</td>\n",
       "      <td>22</td>\n",
       "    </tr>\n",
       "    <tr>\n",
       "      <th>4</th>\n",
       "      <td>8</td>\n",
       "      <td>16</td>\n",
       "    </tr>\n",
       "  </tbody>\n",
       "</table>\n",
       "</div>"
      ],
      "text/plain": [
       "   speed  dist\n",
       "0      4     2\n",
       "1      4    10\n",
       "2      7     4\n",
       "3      7    22\n",
       "4      8    16"
      ]
     },
     "execution_count": 48,
     "metadata": {},
     "output_type": "execute_result"
    }
   ],
   "source": [
    "import os\n",
    "import pandas as pd\n",
    "\n",
    "fpath = './dataset'\n",
    "fname = 'cars.csv'\n",
    "file = os.path.join(fpath, fname)\n",
    "\n",
    "print('file =', file)\n",
    "cars_df = pd.read_csv(file, header = 0, sep =',')\n",
    "cars_df.head()\n",
    "\n",
    "'''\n",
    "The sep parameter in the pd.read_csv() function specifies the delimiter used in the data file to separate the columns. By default, sep is set to a comma (,), which means the function assumes the data in the file is comma-separated.\n",
    "'''"
   ]
  },
  {
   "cell_type": "markdown",
   "metadata": {},
   "source": [
    "### Read CSV file on Web"
   ]
  },
  {
   "cell_type": "code",
   "execution_count": 6,
   "metadata": {},
   "outputs": [
    {
     "name": "stdout",
     "output_type": "stream",
     "text": [
      "    Species  Weight  Length  Diagonal   Height   Width\n",
      "0     Bream   242.0    25.4      30.0  11.5200  4.0200\n",
      "1     Bream   290.0    26.3      31.2  12.4800  4.3056\n",
      "2     Bream   340.0    26.5      31.1  12.3778  4.6961\n",
      "3     Bream   363.0    29.0      33.5  12.7300  4.4555\n",
      "4     Bream   430.0    29.0      34.0  12.4440  5.1340\n",
      "..      ...     ...     ...       ...      ...     ...\n",
      "154   Smelt    12.2    12.2      13.4   2.0904  1.3936\n",
      "155   Smelt    13.4    12.4      13.5   2.4300  1.2690\n",
      "156   Smelt    12.2    13.0      13.8   2.2770  1.2558\n",
      "157   Smelt    19.7    14.3      15.2   2.8728  2.0672\n",
      "158   Smelt    19.9    15.0      16.2   2.9322  1.8792\n",
      "\n",
      "[159 rows x 6 columns]\n"
     ]
    }
   ],
   "source": [
    "# Read CSV file from html\n",
    "fish_df = pd.read_csv('https://bit.ly/fish_csv', sep = ',')\n",
    "print(fish_df)"
   ]
  },
  {
   "cell_type": "markdown",
   "metadata": {},
   "source": [
    "### Read excel file"
   ]
  },
  {
   "cell_type": "code",
   "execution_count": 49,
   "metadata": {},
   "outputs": [
    {
     "name": "stdout",
     "output_type": "stream",
     "text": [
      "./dataset\\mtcars.xlsx\n"
     ]
    },
    {
     "data": {
      "text/html": [
       "<div>\n",
       "<style scoped>\n",
       "    .dataframe tbody tr th:only-of-type {\n",
       "        vertical-align: middle;\n",
       "    }\n",
       "\n",
       "    .dataframe tbody tr th {\n",
       "        vertical-align: top;\n",
       "    }\n",
       "\n",
       "    .dataframe thead th {\n",
       "        text-align: right;\n",
       "    }\n",
       "</style>\n",
       "<table border=\"1\" class=\"dataframe\">\n",
       "  <thead>\n",
       "    <tr style=\"text-align: right;\">\n",
       "      <th></th>\n",
       "      <th>Unnamed: 0</th>\n",
       "      <th>mpg</th>\n",
       "      <th>cyl</th>\n",
       "      <th>disp</th>\n",
       "      <th>hp</th>\n",
       "      <th>drat</th>\n",
       "      <th>wt</th>\n",
       "      <th>qsec</th>\n",
       "      <th>vs</th>\n",
       "      <th>am</th>\n",
       "      <th>gear</th>\n",
       "      <th>carb</th>\n",
       "    </tr>\n",
       "  </thead>\n",
       "  <tbody>\n",
       "    <tr>\n",
       "      <th>0</th>\n",
       "      <td>Mazda RX4</td>\n",
       "      <td>21.0</td>\n",
       "      <td>6</td>\n",
       "      <td>160.0</td>\n",
       "      <td>110</td>\n",
       "      <td>3.90</td>\n",
       "      <td>2.620</td>\n",
       "      <td>16.46</td>\n",
       "      <td>0</td>\n",
       "      <td>1</td>\n",
       "      <td>4</td>\n",
       "      <td>4</td>\n",
       "    </tr>\n",
       "    <tr>\n",
       "      <th>1</th>\n",
       "      <td>Mazda RX4 Wag</td>\n",
       "      <td>21.0</td>\n",
       "      <td>6</td>\n",
       "      <td>160.0</td>\n",
       "      <td>110</td>\n",
       "      <td>3.90</td>\n",
       "      <td>2.875</td>\n",
       "      <td>17.02</td>\n",
       "      <td>0</td>\n",
       "      <td>1</td>\n",
       "      <td>4</td>\n",
       "      <td>4</td>\n",
       "    </tr>\n",
       "    <tr>\n",
       "      <th>2</th>\n",
       "      <td>Datsun 710</td>\n",
       "      <td>22.8</td>\n",
       "      <td>4</td>\n",
       "      <td>108.0</td>\n",
       "      <td>93</td>\n",
       "      <td>3.85</td>\n",
       "      <td>2.320</td>\n",
       "      <td>18.61</td>\n",
       "      <td>1</td>\n",
       "      <td>1</td>\n",
       "      <td>4</td>\n",
       "      <td>1</td>\n",
       "    </tr>\n",
       "    <tr>\n",
       "      <th>3</th>\n",
       "      <td>Hornet 4 Drive</td>\n",
       "      <td>21.4</td>\n",
       "      <td>6</td>\n",
       "      <td>258.0</td>\n",
       "      <td>110</td>\n",
       "      <td>3.08</td>\n",
       "      <td>3.215</td>\n",
       "      <td>19.44</td>\n",
       "      <td>1</td>\n",
       "      <td>0</td>\n",
       "      <td>3</td>\n",
       "      <td>1</td>\n",
       "    </tr>\n",
       "    <tr>\n",
       "      <th>4</th>\n",
       "      <td>Hornet Sportabout</td>\n",
       "      <td>18.7</td>\n",
       "      <td>8</td>\n",
       "      <td>360.0</td>\n",
       "      <td>175</td>\n",
       "      <td>3.15</td>\n",
       "      <td>3.440</td>\n",
       "      <td>17.02</td>\n",
       "      <td>0</td>\n",
       "      <td>0</td>\n",
       "      <td>3</td>\n",
       "      <td>2</td>\n",
       "    </tr>\n",
       "  </tbody>\n",
       "</table>\n",
       "</div>"
      ],
      "text/plain": [
       "          Unnamed: 0   mpg  cyl   disp   hp  drat     wt   qsec  vs  am  gear  \\\n",
       "0          Mazda RX4  21.0    6  160.0  110  3.90  2.620  16.46   0   1     4   \n",
       "1      Mazda RX4 Wag  21.0    6  160.0  110  3.90  2.875  17.02   0   1     4   \n",
       "2         Datsun 710  22.8    4  108.0   93  3.85  2.320  18.61   1   1     4   \n",
       "3     Hornet 4 Drive  21.4    6  258.0  110  3.08  3.215  19.44   1   0     3   \n",
       "4  Hornet Sportabout  18.7    8  360.0  175  3.15  3.440  17.02   0   0     3   \n",
       "\n",
       "   carb  \n",
       "0     4  \n",
       "1     4  \n",
       "2     1  \n",
       "3     1  \n",
       "4     2  "
      ]
     },
     "execution_count": 49,
     "metadata": {},
     "output_type": "execute_result"
    }
   ],
   "source": [
    "# Read excel\n",
    "fname = 'mtcars.xlsx'\n",
    "file = os.path.join(fpath, fname)\n",
    "print(file)\n",
    "\n",
    "mtcars_df = pd.read_excel(file)\n",
    "mtcars_df.head()"
   ]
  },
  {
   "cell_type": "code",
   "execution_count": 50,
   "metadata": {},
   "outputs": [
    {
     "name": "stdout",
     "output_type": "stream",
     "text": [
      "type of mtcars_df = \n",
      " <class 'pandas.core.frame.DataFrame'>\n",
      "----------------------------------------------------------------------------------------------------\n",
      "mtcars_df.head() = \n",
      "           Unnamed: 0   mpg  cyl   disp   hp  drat     wt   qsec  vs  am  gear  \\\n",
      "0          Mazda RX4  21.0    6  160.0  110  3.90  2.620  16.46   0   1     4   \n",
      "1      Mazda RX4 Wag  21.0    6  160.0  110  3.90  2.875  17.02   0   1     4   \n",
      "2         Datsun 710  22.8    4  108.0   93  3.85  2.320  18.61   1   1     4   \n",
      "3     Hornet 4 Drive  21.4    6  258.0  110  3.08  3.215  19.44   1   0     3   \n",
      "4  Hornet Sportabout  18.7    8  360.0  175  3.15  3.440  17.02   0   0     3   \n",
      "\n",
      "   carb  \n",
      "0     4  \n",
      "1     4  \n",
      "2     1  \n",
      "3     1  \n",
      "4     2  \n",
      "----------------------------------------------------------------------------------------------------\n",
      "mtcars_df.tail() = \n",
      "         Unnamed: 0   mpg  cyl   disp   hp  drat     wt  qsec  vs  am  gear  \\\n",
      "27    Lotus Europa  30.4    4   95.1  113  3.77  1.513  16.9   1   1     5   \n",
      "28  Ford Pantera L  15.8    8  351.0  264  4.22  3.170  14.5   0   1     5   \n",
      "29    Ferrari Dino  19.7    6  145.0  175  3.62  2.770  15.5   0   1     5   \n",
      "30   Maserati Bora  15.0    8  301.0  335  3.54  3.570  14.6   0   1     5   \n",
      "31      Volvo 142E  21.4    4  121.0  109  4.11  2.780  18.6   1   1     4   \n",
      "\n",
      "    carb  \n",
      "27     2  \n",
      "28     4  \n",
      "29     6  \n",
      "30     8  \n",
      "31     2  \n",
      "----------------------------------------------------------------------------------------------------\n",
      "<class 'pandas.core.frame.DataFrame'>\n",
      "RangeIndex: 32 entries, 0 to 31\n",
      "Data columns (total 12 columns):\n",
      " #   Column      Non-Null Count  Dtype  \n",
      "---  ------      --------------  -----  \n",
      " 0   Unnamed: 0  32 non-null     object \n",
      " 1   mpg         32 non-null     float64\n",
      " 2   cyl         32 non-null     int64  \n",
      " 3   disp        32 non-null     float64\n",
      " 4   hp          32 non-null     int64  \n",
      " 5   drat        32 non-null     float64\n",
      " 6   wt          32 non-null     float64\n",
      " 7   qsec        32 non-null     float64\n",
      " 8   vs          32 non-null     int64  \n",
      " 9   am          32 non-null     int64  \n",
      " 10  gear        32 non-null     int64  \n",
      " 11  carb        32 non-null     int64  \n",
      "dtypes: float64(5), int64(6), object(1)\n",
      "memory usage: 3.1+ KB\n",
      "mtcars_df.info() = \n",
      " None\n"
     ]
    }
   ],
   "source": [
    "# DataFrame Type/Method\n",
    "\n",
    "print('type of mtcars_df = \\n', type(mtcars_df))\n",
    "print('-'*100)\n",
    "print('mtcars_df.head() = \\n', mtcars_df.head())\n",
    "print('-'*100)\n",
    "print('mtcars_df.tail() = \\n', mtcars_df.tail())\n",
    "print('-'*100)\n",
    "print('mtcars_df.info() = \\n', mtcars_df.info())"
   ]
  },
  {
   "cell_type": "markdown",
   "metadata": {},
   "source": [
    "## 자료에 대한 정보 보기"
   ]
  },
  {
   "cell_type": "markdown",
   "metadata": {},
   "source": [
    "### 자료 인덱스, 크기, 데이터 타입, 변수명"
   ]
  },
  {
   "cell_type": "code",
   "execution_count": 11,
   "metadata": {},
   "outputs": [
    {
     "name": "stdout",
     "output_type": "stream",
     "text": [
      "index = \n",
      " RangeIndex(start=0, stop=32, step=1)\n",
      "shape = \n",
      " (32, 12)\n",
      "dtype = \n",
      " Unnamed: 0     object\n",
      "mpg           float64\n",
      "cyl             int64\n",
      "disp          float64\n",
      "hp              int64\n",
      "drat          float64\n",
      "wt            float64\n",
      "qsec          float64\n",
      "vs              int64\n",
      "am              int64\n",
      "gear            int64\n",
      "carb            int64\n",
      "dtype: object\n",
      "columns = \n",
      " Index(['Unnamed: 0', 'mpg', 'cyl', 'disp', 'hp', 'drat', 'wt', 'qsec', 'vs',\n",
      "       'am', 'gear', 'carb'],\n",
      "      dtype='object')\n"
     ]
    }
   ],
   "source": [
    "print('index = \\n', mtcars_df.index)\n",
    "print('shape = \\n', mtcars_df.shape)\n",
    "print('dtype = \\n', mtcars_df.dtypes)\n",
    "print('columns = \\n', mtcars_df.columns)"
   ]
  },
  {
   "cell_type": "code",
   "execution_count": 13,
   "metadata": {},
   "outputs": [
    {
     "name": "stdout",
     "output_type": "stream",
     "text": [
      "----------------------------------------------------------------------------------------------------\n",
      "<class 'pandas.core.frame.DataFrame'>\n",
      "RangeIndex: 32 entries, 0 to 31\n",
      "Data columns (total 12 columns):\n",
      " #   Column      Non-Null Count  Dtype   \n",
      "---  ------      --------------  -----   \n",
      " 0   Unnamed: 0  32 non-null     object  \n",
      " 1   mpg         32 non-null     float64 \n",
      " 2   cyl         32 non-null     category\n",
      " 3   disp        32 non-null     float64 \n",
      " 4   hp          32 non-null     int64   \n",
      " 5   drat        32 non-null     float64 \n",
      " 6   wt          32 non-null     float64 \n",
      " 7   qsec        32 non-null     float64 \n",
      " 8   vs          32 non-null     category\n",
      " 9   am          32 non-null     category\n",
      " 10  gear        32 non-null     int64   \n",
      " 11  carb        32 non-null     int64   \n",
      "dtypes: category(3), float64(5), int64(3), object(1)\n",
      "memory usage: 2.8+ KB\n"
     ]
    }
   ],
   "source": [
    "# Extracting by group\n",
    "\n",
    "# mtcars_df.describe()\n",
    "\n",
    "mtcars_df['cyl'] = mtcars_df['cyl'].astype(\"category\")\n",
    "mtcars_df['am'] = mtcars_df['am'].astype(\"category\")\n",
    "mtcars_df['vs'] = mtcars_df['vs'].astype(\"category\")\n",
    "\n",
    "mtcars_df.describe()\n",
    "mtcars_df.info()"
   ]
  },
  {
   "cell_type": "markdown",
   "metadata": {},
   "source": [
    "### Generate Data Frame"
   ]
  },
  {
   "cell_type": "code",
   "execution_count": 17,
   "metadata": {},
   "outputs": [
    {
     "name": "stdout",
     "output_type": "stream",
     "text": [
      "{'name': ['홍길동', '임꺽정', '이순신'], 'algol': ['A', 'A+', 'B'], 'basic': ['C', 'B', 'D'], 'python': ['B+', 'C', 'C+']}\n"
     ]
    },
    {
     "data": {
      "text/html": [
       "<div>\n",
       "<style scoped>\n",
       "    .dataframe tbody tr th:only-of-type {\n",
       "        vertical-align: middle;\n",
       "    }\n",
       "\n",
       "    .dataframe tbody tr th {\n",
       "        vertical-align: top;\n",
       "    }\n",
       "\n",
       "    .dataframe thead th {\n",
       "        text-align: right;\n",
       "    }\n",
       "</style>\n",
       "<table border=\"1\" class=\"dataframe\">\n",
       "  <thead>\n",
       "    <tr style=\"text-align: right;\">\n",
       "      <th></th>\n",
       "      <th>name</th>\n",
       "      <th>algol</th>\n",
       "      <th>basic</th>\n",
       "      <th>python</th>\n",
       "    </tr>\n",
       "  </thead>\n",
       "  <tbody>\n",
       "    <tr>\n",
       "      <th>0</th>\n",
       "      <td>홍길동</td>\n",
       "      <td>A</td>\n",
       "      <td>C</td>\n",
       "      <td>B+</td>\n",
       "    </tr>\n",
       "    <tr>\n",
       "      <th>1</th>\n",
       "      <td>임꺽정</td>\n",
       "      <td>A+</td>\n",
       "      <td>B</td>\n",
       "      <td>C</td>\n",
       "    </tr>\n",
       "    <tr>\n",
       "      <th>2</th>\n",
       "      <td>이순신</td>\n",
       "      <td>B</td>\n",
       "      <td>D</td>\n",
       "      <td>C+</td>\n",
       "    </tr>\n",
       "  </tbody>\n",
       "</table>\n",
       "</div>"
      ],
      "text/plain": [
       "  name algol basic python\n",
       "0  홍길동     A     C     B+\n",
       "1  임꺽정    A+     B      C\n",
       "2  이순신     B     D     C+"
      ]
     },
     "execution_count": 17,
     "metadata": {},
     "output_type": "execute_result"
    }
   ],
   "source": [
    "# num of columns shoulb be same\n",
    "# key is typically string\n",
    "\n",
    "data = {\n",
    "        'name':['홍길동','임꺽정','이순신'],\n",
    "        'algol':['A','A+','B'],\n",
    "        'basic':['C','B','D'],\n",
    "        'python':['B+','C','C+']\n",
    "}\n",
    "\n",
    "print(data)\n",
    "mydf = pd.DataFrame(data) # Convert data to DB form\n",
    "mydf"
   ]
  },
  {
   "cell_type": "code",
   "execution_count": 51,
   "metadata": {},
   "outputs": [
    {
     "name": "stdout",
     "output_type": "stream",
     "text": [
      "school list = \n",
      " [[15, '남자', '덕영중'], [17, '여자', '수리중']]\n",
      "\n",
      "   나이  성별   학교\n",
      "0  15  남자  덕영중\n",
      "1  17  여자  수리중\n",
      "----------------------------------------------------------------------------------------------------\n",
      "RangeIndex(start=0, stop=2, step=1)\n",
      "Index(['나이', '성별', '학교'], dtype='object')\n"
     ]
    }
   ],
   "source": [
    "# Appending as a list (add to row)\n",
    "school_list = [[15, '남자', '덕영중'],\n",
    "                [17, '여자', '수리중']]\n",
    "\n",
    "print('school list = \\n', school_list)\n",
    "\n",
    "school_df = pd.DataFrame(school_list,\n",
    "                        columns = ['나이', '성별', '학교'])\n",
    "print()\n",
    "print(school_df)\n",
    "\n",
    "print('-'*100)\n",
    "print(school_df.index)\n",
    "print(school_df.columns)"
   ]
  },
  {
   "cell_type": "code",
   "execution_count": 19,
   "metadata": {},
   "outputs": [
    {
     "name": "stdout",
     "output_type": "stream",
     "text": [
      "['anagrams', 'anscombe', 'attention', 'brain_networks', 'car_crashes', 'diamonds', 'dots', 'dowjones', 'exercise', 'flights', 'fmri', 'geyser', 'glue', 'healthexp', 'iris', 'mpg', 'penguins', 'planets', 'seaice', 'taxis', 'tips', 'titanic']\n"
     ]
    },
    {
     "data": {
      "text/html": [
       "<div>\n",
       "<style scoped>\n",
       "    .dataframe tbody tr th:only-of-type {\n",
       "        vertical-align: middle;\n",
       "    }\n",
       "\n",
       "    .dataframe tbody tr th {\n",
       "        vertical-align: top;\n",
       "    }\n",
       "\n",
       "    .dataframe thead th {\n",
       "        text-align: right;\n",
       "    }\n",
       "</style>\n",
       "<table border=\"1\" class=\"dataframe\">\n",
       "  <thead>\n",
       "    <tr style=\"text-align: right;\">\n",
       "      <th></th>\n",
       "      <th>mpg</th>\n",
       "      <th>cylinders</th>\n",
       "      <th>displacement</th>\n",
       "      <th>horsepower</th>\n",
       "      <th>weight</th>\n",
       "      <th>acceleration</th>\n",
       "      <th>model_year</th>\n",
       "      <th>origin</th>\n",
       "      <th>name</th>\n",
       "    </tr>\n",
       "  </thead>\n",
       "  <tbody>\n",
       "    <tr>\n",
       "      <th>0</th>\n",
       "      <td>18.0</td>\n",
       "      <td>8</td>\n",
       "      <td>307.0</td>\n",
       "      <td>130.0</td>\n",
       "      <td>3504</td>\n",
       "      <td>12.0</td>\n",
       "      <td>70</td>\n",
       "      <td>usa</td>\n",
       "      <td>chevrolet chevelle malibu</td>\n",
       "    </tr>\n",
       "    <tr>\n",
       "      <th>1</th>\n",
       "      <td>15.0</td>\n",
       "      <td>8</td>\n",
       "      <td>350.0</td>\n",
       "      <td>165.0</td>\n",
       "      <td>3693</td>\n",
       "      <td>11.5</td>\n",
       "      <td>70</td>\n",
       "      <td>usa</td>\n",
       "      <td>buick skylark 320</td>\n",
       "    </tr>\n",
       "    <tr>\n",
       "      <th>2</th>\n",
       "      <td>18.0</td>\n",
       "      <td>8</td>\n",
       "      <td>318.0</td>\n",
       "      <td>150.0</td>\n",
       "      <td>3436</td>\n",
       "      <td>11.0</td>\n",
       "      <td>70</td>\n",
       "      <td>usa</td>\n",
       "      <td>plymouth satellite</td>\n",
       "    </tr>\n",
       "    <tr>\n",
       "      <th>3</th>\n",
       "      <td>16.0</td>\n",
       "      <td>8</td>\n",
       "      <td>304.0</td>\n",
       "      <td>150.0</td>\n",
       "      <td>3433</td>\n",
       "      <td>12.0</td>\n",
       "      <td>70</td>\n",
       "      <td>usa</td>\n",
       "      <td>amc rebel sst</td>\n",
       "    </tr>\n",
       "    <tr>\n",
       "      <th>4</th>\n",
       "      <td>17.0</td>\n",
       "      <td>8</td>\n",
       "      <td>302.0</td>\n",
       "      <td>140.0</td>\n",
       "      <td>3449</td>\n",
       "      <td>10.5</td>\n",
       "      <td>70</td>\n",
       "      <td>usa</td>\n",
       "      <td>ford torino</td>\n",
       "    </tr>\n",
       "  </tbody>\n",
       "</table>\n",
       "</div>"
      ],
      "text/plain": [
       "    mpg  cylinders  displacement  horsepower  weight  acceleration  \\\n",
       "0  18.0          8         307.0       130.0    3504          12.0   \n",
       "1  15.0          8         350.0       165.0    3693          11.5   \n",
       "2  18.0          8         318.0       150.0    3436          11.0   \n",
       "3  16.0          8         304.0       150.0    3433          12.0   \n",
       "4  17.0          8         302.0       140.0    3449          10.5   \n",
       "\n",
       "   model_year origin                       name  \n",
       "0          70    usa  chevrolet chevelle malibu  \n",
       "1          70    usa          buick skylark 320  \n",
       "2          70    usa         plymouth satellite  \n",
       "3          70    usa              amc rebel sst  \n",
       "4          70    usa                ford torino  "
      ]
     },
     "execution_count": 19,
     "metadata": {},
     "output_type": "execute_result"
    }
   ],
   "source": [
    "## Summary Statistics (요약통계량)\n",
    "import seaborn as sns\n",
    "print(sns.get_dataset_names())\n",
    "\n",
    "mpg_df = sns.load_dataset('mpg')\n",
    "mpg_df.head()"
   ]
  },
  {
   "cell_type": "code",
   "execution_count": 20,
   "metadata": {},
   "outputs": [
    {
     "name": "stdout",
     "output_type": "stream",
     "text": [
      "shape =  (398, 9)\n",
      "<class 'pandas.core.frame.DataFrame'>\n",
      "RangeIndex: 398 entries, 0 to 397\n",
      "Data columns (total 9 columns):\n",
      " #   Column        Non-Null Count  Dtype  \n",
      "---  ------        --------------  -----  \n",
      " 0   mpg           398 non-null    float64\n",
      " 1   cylinders     398 non-null    int64  \n",
      " 2   displacement  398 non-null    float64\n",
      " 3   horsepower    392 non-null    float64\n",
      " 4   weight        398 non-null    int64  \n",
      " 5   acceleration  398 non-null    float64\n",
      " 6   model_year    398 non-null    int64  \n",
      " 7   origin        398 non-null    object \n",
      " 8   name          398 non-null    object \n",
      "dtypes: float64(4), int64(3), object(2)\n",
      "memory usage: 28.1+ KB\n",
      "info = \n",
      " None\n",
      "변수명 = \n",
      " Index(['mpg', 'cylinders', 'displacement', 'horsepower', 'weight',\n",
      "       'acceleration', 'model_year', 'origin', 'name'],\n",
      "      dtype='object')\n"
     ]
    }
   ],
   "source": [
    "print(\"shape = \",mpg_df.shape)   \n",
    "# total : 389 data, columns : 0\n",
    "print(\"info = \\n\",mpg_df.info())\n",
    "\n",
    "print('변수명 = \\n', mpg_df.columns)"
   ]
  },
  {
   "cell_type": "code",
   "execution_count": 22,
   "metadata": {},
   "outputs": [
    {
     "name": "stdout",
     "output_type": "stream",
     "text": [
      "{'수학': [90, 80, 70], '영어': [98, 89, 95], '성별': [True, False, True]}\n"
     ]
    },
    {
     "data": {
      "text/html": [
       "<div>\n",
       "<style scoped>\n",
       "    .dataframe tbody tr th:only-of-type {\n",
       "        vertical-align: middle;\n",
       "    }\n",
       "\n",
       "    .dataframe tbody tr th {\n",
       "        vertical-align: top;\n",
       "    }\n",
       "\n",
       "    .dataframe thead th {\n",
       "        text-align: right;\n",
       "    }\n",
       "</style>\n",
       "<table border=\"1\" class=\"dataframe\">\n",
       "  <thead>\n",
       "    <tr style=\"text-align: right;\">\n",
       "      <th></th>\n",
       "      <th>수학</th>\n",
       "      <th>영어</th>\n",
       "      <th>성별</th>\n",
       "    </tr>\n",
       "  </thead>\n",
       "  <tbody>\n",
       "    <tr>\n",
       "      <th>0</th>\n",
       "      <td>90</td>\n",
       "      <td>98</td>\n",
       "      <td>True</td>\n",
       "    </tr>\n",
       "    <tr>\n",
       "      <th>1</th>\n",
       "      <td>80</td>\n",
       "      <td>89</td>\n",
       "      <td>False</td>\n",
       "    </tr>\n",
       "    <tr>\n",
       "      <th>2</th>\n",
       "      <td>70</td>\n",
       "      <td>95</td>\n",
       "      <td>True</td>\n",
       "    </tr>\n",
       "  </tbody>\n",
       "</table>\n",
       "</div>"
      ],
      "text/plain": [
       "   수학  영어     성별\n",
       "0  90  98   True\n",
       "1  80  89  False\n",
       "2  70  95   True"
      ]
     },
     "execution_count": 22,
     "metadata": {},
     "output_type": "execute_result"
    }
   ],
   "source": [
    "## 요약 통계량 practice\n",
    "\n",
    "data = {'수학':[90, 80, 70],\n",
    "        '영어':[98, 89, 95],\n",
    "        '성별':[True, False, True]\n",
    "}\n",
    "print(data)\n",
    "exam_df = pd.DataFrame(data) # convert into a DataFrame\n",
    "exam_df"
   ]
  },
  {
   "cell_type": "code",
   "execution_count": 23,
   "metadata": {},
   "outputs": [
    {
     "name": "stdout",
     "output_type": "stream",
     "text": [
      "shape = (3, 3)\n",
      "columns names = Index(['수학', '영어', '성별'], dtype='object')\n",
      "ndim = 2\n",
      "dtype = \n",
      " 수학    int64\n",
      "영어    int64\n",
      "성별     bool\n",
      "dtype: object\n"
     ]
    }
   ],
   "source": [
    "print('shape =', exam_df.shape)\n",
    "print('columns names =', exam_df.columns)\n",
    "print('ndim =', exam_df.ndim) #dimension\n",
    "print('dtype = \\n', exam_df.dtypes)"
   ]
  },
  {
   "cell_type": "code",
   "execution_count": 53,
   "metadata": {},
   "outputs": [
    {
     "name": "stdout",
     "output_type": "stream",
     "text": [
      "------------------------------\n",
      "   수학  영어 성별     합격\n",
      "0  90  98  남   True\n",
      "1  80  89  남  False\n",
      "2  70  95  여   True\n",
      "------------------------------\n",
      "shape =  (3, 4)\n",
      "columns names =  Index(['수학', '영어', '성별', '합격'], dtype='object')\n",
      "ndim =  2\n",
      "dtype = \n",
      " 수학    object\n",
      "영어    object\n",
      "성별    object\n",
      "합격    object\n",
      "dtype: object\n"
     ]
    }
   ],
   "source": [
    "exam_list = [[90,98,\"남\", True],[80,89,\"남\",False],[70,95,\"여\", True]]\n",
    "\n",
    "exam_df_list = pd.DataFrame(exam_list,\n",
    "                            columns = [\"수학\",\"영어\",\"성별\",\"합격\"],\n",
    "                            dtype = \"object\")\n",
    "print(\"-\" * 30)\n",
    "print(exam_df_list)\n",
    "print(\"-\" * 30)\n",
    "\n",
    "print(\"shape = \",exam_df_list.shape)\n",
    "print(\"columns names = \",exam_df_list.columns)\n",
    "print(\"ndim = \",exam_df_list.ndim) \n",
    "print(\"dtype = \\n\",exam_df_list.dtypes)"
   ]
  },
  {
   "cell_type": "code",
   "execution_count": 27,
   "metadata": {},
   "outputs": [
    {
     "name": "stdout",
     "output_type": "stream",
     "text": [
      "mean = 23.515\n",
      "median = 23.0\n",
      "var =  61.09\n",
      "std =  7.816\n",
      "sem =  0.392\n",
      "max =  46.6\n",
      "min =  9.0\n",
      "\n",
      "cylinders\n",
      "4    204\n",
      "8    103\n",
      "6     84\n",
      "3      4\n",
      "5      3\n",
      "Name: count, dtype: int64\n",
      "\n",
      "origin\n",
      "usa       249\n",
      "japan      79\n",
      "europe     70\n",
      "Name: count, dtype: int64\n"
     ]
    }
   ],
   "source": [
    "# 연속형 자료\n",
    "# mpg_df.head()\n",
    "print('mean =', mpg_df['mpg'].mean(skipna=True).round(3)) # skipna for ignoring NaN\n",
    "print('median =', mpg_df['mpg'].median())\n",
    "print('var = ', mpg_df['mpg'].var().round(3)) # variance :\n",
    "print('std = ', mpg_df['mpg'].std().round(3))\n",
    "print('sem = ', mpg_df['mpg'].sem().round(3)) # mean of variance\n",
    "\n",
    "print('max = ', mpg_df['mpg'].max())\n",
    "print('min = ', mpg_df['mpg'].min())\n",
    "\n",
    "# 이산형 자료\n",
    "print()\n",
    "print(mpg_df['cylinders'].value_counts())\n",
    "print()\n",
    "print(mpg_df['origin'].value_counts())\n",
    "# to count the number of occurrences of each unique value in a column of a DataFrame.\n",
    "\n",
    "'''\n",
    "Mean\tThe arithmetic average of a set of numbers. It is calculated by summing up all the values and dividing by the number of values.\n",
    "\n",
    "Median\tThe middle value of a dataset when it is ordered in ascending or descending order. If the dataset has an even number of values, the median is the average of the two middle numbers.\n",
    "\n",
    "Variance (var)\tA measure of how much the values in a dataset vary from the mean. It is calculated by taking the average of the squared differences from the Mean. Higher variance means more spread out data.\n",
    "\n",
    "Standard Deviation (std) 표준편차 분산의 제곱근\tThe square root of the variance. It represents the average amount of variability in the dataset. Like variance, a higher standard deviation indicates more spread out data.\n",
    "\n",
    "Standard Error of Mean (sem) 표준오차\tThe standard deviation of the sample mean estimate of a population mean. It is calculated by dividing the standard deviation by the square root of the sample size. It gives an idea of how much the sample mean would vary if different samples were taken from the same population.\n",
    "'''"
   ]
  },
  {
   "cell_type": "code",
   "execution_count": 28,
   "metadata": {},
   "outputs": [
    {
     "name": "stdout",
     "output_type": "stream",
     "text": [
      "mpg         23.514573\n",
      "weight    2970.424623\n",
      "dtype: float64\n",
      "\n",
      "mpg           61.090\n",
      "weight    717140.991\n",
      "dtype: float64\n",
      "\n",
      "quantile = 25%\n",
      "mpg         17.50\n",
      "weight    2223.75\n",
      "Name: 0.25, dtype: float64\n"
     ]
    }
   ],
   "source": [
    "print(mpg_df[['mpg', 'weight']].mean())\n",
    "print()\n",
    "print(mpg_df[['mpg', 'weight']].var(axis = 0).round(3))\n",
    "# axis = 0 (Column-wise variance)\n",
    "# axis = 1 (Row-wise variance)\n",
    "print()\n",
    "print('quantile = 25%')\n",
    "print(mpg_df[['mpg', 'weight']].quantile(0.25))"
   ]
  },
  {
   "cell_type": "code",
   "execution_count": 32,
   "metadata": {},
   "outputs": [
    {
     "name": "stdout",
     "output_type": "stream",
     "text": [
      "correlation coefficient(상관계수) = \n",
      "\n",
      "             mpg    weight\n",
      "mpg     1.000000 -0.831741\n",
      "weight -0.831741  1.000000\n"
     ]
    },
    {
     "data": {
      "image/png": "[encoded data removed]",
      "text/plain": [
       "<Figure size 640x480 with 1 Axes>"
      ]
     },
     "metadata": {},
     "output_type": "display_data"
    }
   ],
   "source": [
    "## correlation \n",
    "# range : -1<r<1 (r=1: positive correlation, r=-1 negative correlation)\n",
    "print('correlation coefficient(상관계수) = \\n')\n",
    "print(mpg_df[['mpg', 'weight']].corr())\n",
    "# result : as the weight increases, the mpg decreases, confirming a negative correlation between these two variables\n",
    "\n",
    "plt.scatter(mpg_df['weight'], mpg_df['mpg']) # x-axis : variant, y-axis : result\n",
    "plt.title('Weight vs MPG')\n",
    "plt.xlabel('Weight(kg)')\n",
    "plt.ylabel('MPG (male/gallon)')\n",
    "plt.show()"
   ]
  },
  {
   "cell_type": "code",
   "execution_count": 36,
   "metadata": {},
   "outputs": [
    {
     "name": "stdout",
     "output_type": "stream",
     "text": [
      "titanic = \n",
      "    survived  pclass     sex   age  sibsp  parch     fare embarked  class  \\\n",
      "0         0       3    male  22.0      1      0   7.2500        S  Third   \n",
      "1         1       1  female  38.0      1      0  71.2833        C  First   \n",
      "2         1       3  female  26.0      0      0   7.9250        S  Third   \n",
      "3         1       1  female  35.0      1      0  53.1000        S  First   \n",
      "4         0       3    male  35.0      0      0   8.0500        S  Third   \n",
      "\n",
      "     who  adult_male deck  embark_town alive  alone  \n",
      "0    man        True  NaN  Southampton    no  False  \n",
      "1  woman       False    C    Cherbourg   yes  False  \n",
      "2  woman       False  NaN  Southampton   yes   True  \n",
      "3  woman       False    C  Southampton   yes  False  \n",
      "4    man        True  NaN  Southampton    no   True  \n",
      "----------------------------------------------------------------------------------------------------\n",
      "survived\n",
      "0    549\n",
      "1    342\n",
      "Name: count, dtype: int64\n",
      "----------------------------------------------------------------------------------------------------\n",
      "mean = \n",
      " age     29.699\n",
      "fare    32.204\n",
      "dtype: float64 \n",
      "\n",
      "----------------------------------------------------------------------------------------------------\n",
      "std = \n",
      " age     14.526\n",
      "fare    49.693\n",
      "dtype: float64\n"
     ]
    }
   ],
   "source": [
    "import seaborn as sns\n",
    "\n",
    "titanic = sns.load_dataset('titanic')\n",
    "print(\"titanic = \\n\",titanic.head())\n",
    "\n",
    "print(\"-\"*100)\n",
    "print(titanic[\"survived\"].value_counts())\n",
    "print(\"-\"*100)\n",
    "\n",
    "print(\"mean = \\n\", titanic[[\"age\",\"fare\"]].mean().round(3), \"\\n\")\n",
    "print(\"-\"*100)\n",
    "\n",
    "print(\"std = \\n\", titanic[[\"age\",\"fare\"]].std().round(3))"
   ]
  },
  {
   "cell_type": "markdown",
   "metadata": {},
   "source": [
    "## 입력으로 데이터 프레임 만들기"
   ]
  },
  {
   "cell_type": "code",
   "execution_count": 38,
   "metadata": {},
   "outputs": [
    {
     "name": "stdout",
     "output_type": "stream",
     "text": [
      "    name algol basic c++\n",
      "0  Jerry     A     C  B+\n",
      "1   Riah    A+     B   C\n",
      "2   Paul     B    B+  C+\n"
     ]
    }
   ],
   "source": [
    "data = {\n",
    "    'name' : ['Jerry', 'Riah', 'Paul'],\n",
    "    'algol' : ['A', 'A+', 'B'],\n",
    "    'basic' : ['C', 'B', 'B+'],\n",
    "    'c++' : ['B+', 'C', 'C+'],\n",
    "}\n",
    "\n",
    "mydf = pd.DataFrame(data)\n",
    "# mydf.set_index('name', inplace = True)\n",
    "print(mydf)"
   ]
  },
  {
   "cell_type": "code",
   "execution_count": 40,
   "metadata": {},
   "outputs": [
    {
     "name": "stdout",
     "output_type": "stream",
     "text": [
      "   나이 성별   학교\n",
      "0  15  남  덕영중\n",
      "1  17  여  수리중\n",
      "--------------------------------------------------\n",
      "RangeIndex(start=0, stop=2, step=1)\n",
      "--------------------------------------------------\n",
      "Index(['나이', '성별', '학교'], dtype='object')\n"
     ]
    }
   ],
   "source": [
    "# list로 부터 행 인덱스/열 이름 지정하여, 데이터프레임 만들기\n",
    "school_df = pd.DataFrame([[15, '남', '덕영중'],\n",
    "                          [17, '여', '수리중']],\n",
    "                   columns=['나이', '성별', '학교'])\n",
    "print(school_df)\n",
    "print(\"-\"*50)\n",
    "print(school_df.index) # row index\n",
    "print(\"-\"*50)\n",
    "print(school_df.columns)"
   ]
  },
  {
   "cell_type": "markdown",
   "metadata": {},
   "source": [
    "## Descriptive Statistic 요약통계량"
   ]
  },
  {
   "cell_type": "markdown",
   "metadata": {},
   "source": [
    "### seaborn 예제 자료"
   ]
  },
  {
   "cell_type": "code",
   "execution_count": 41,
   "metadata": {},
   "outputs": [
    {
     "name": "stdout",
     "output_type": "stream",
     "text": [
      "['anagrams', 'anscombe', 'attention', 'brain_networks', 'car_crashes', 'diamonds', 'dots', 'dowjones', 'exercise', 'flights', 'fmri', 'geyser', 'glue', 'healthexp', 'iris', 'mpg', 'penguins', 'planets', 'seaice', 'taxis', 'tips', 'titanic']\n",
      "mpg_df = \n",
      " <bound method NDFrame.head of       mpg  cylinders  displacement  horsepower  weight  acceleration  \\\n",
      "0    18.0          8         307.0       130.0    3504          12.0   \n",
      "1    15.0          8         350.0       165.0    3693          11.5   \n",
      "2    18.0          8         318.0       150.0    3436          11.0   \n",
      "3    16.0          8         304.0       150.0    3433          12.0   \n",
      "4    17.0          8         302.0       140.0    3449          10.5   \n",
      "..    ...        ...           ...         ...     ...           ...   \n",
      "393  27.0          4         140.0        86.0    2790          15.6   \n",
      "394  44.0          4          97.0        52.0    2130          24.6   \n",
      "395  32.0          4         135.0        84.0    2295          11.6   \n",
      "396  28.0          4         120.0        79.0    2625          18.6   \n",
      "397  31.0          4         119.0        82.0    2720          19.4   \n",
      "\n",
      "     model_year  origin                       name  \n",
      "0            70     usa  chevrolet chevelle malibu  \n",
      "1            70     usa          buick skylark 320  \n",
      "2            70     usa         plymouth satellite  \n",
      "3            70     usa              amc rebel sst  \n",
      "4            70     usa                ford torino  \n",
      "..          ...     ...                        ...  \n",
      "393          82     usa            ford mustang gl  \n",
      "394          82  europe                  vw pickup  \n",
      "395          82     usa              dodge rampage  \n",
      "396          82     usa                ford ranger  \n",
      "397          82     usa                 chevy s-10  \n",
      "\n",
      "[398 rows x 9 columns]>\n"
     ]
    }
   ],
   "source": [
    "import seaborn as sns\n",
    "print(sns.get_dataset_names()) # see what's inside seaborn\n",
    "mpg_df = sns.load_dataset('mpg')\n",
    "print(\"mpg_df = \\n\", mpg_df.head)"
   ]
  },
  {
   "cell_type": "markdown",
   "metadata": {},
   "source": [
    "### 이산형 자료 통계량 구하기"
   ]
  },
  {
   "cell_type": "code",
   "execution_count": 42,
   "metadata": {},
   "outputs": [
    {
     "name": "stdout",
     "output_type": "stream",
     "text": [
      "cylinders\n",
      "4    204\n",
      "8    103\n",
      "6     84\n",
      "3      4\n",
      "5      3\n",
      "Name: count, dtype: int64\n",
      "origin\n",
      "usa       249\n",
      "japan      79\n",
      "europe     70\n",
      "Name: count, dtype: int64\n"
     ]
    }
   ],
   "source": [
    "print(mpg_df['cylinders'].value_counts())\n",
    "print(mpg_df['origin'].value_counts())"
   ]
  },
  {
   "cell_type": "markdown",
   "metadata": {},
   "source": [
    "### 연속형 자료 통계량 구하기"
   ]
  },
  {
   "cell_type": "code",
   "execution_count": 43,
   "metadata": {},
   "outputs": [
    {
     "name": "stdout",
     "output_type": "stream",
     "text": [
      "23.515\n",
      "23.0\n",
      "61.09\n",
      "7.816\n",
      "0.392\n",
      "46.6\n",
      "9.0\n"
     ]
    }
   ],
   "source": [
    "print(mpg_df['mpg'].mean().round(3))\n",
    "print(mpg_df['mpg'].median())\n",
    "print(mpg_df['mpg'].var().round(3))\n",
    "print(mpg_df['mpg'].std().round(3))\n",
    "print(mpg_df['mpg'].sem().round(3))\n",
    "print(mpg_df['mpg'].max())\n",
    "print(mpg_df['mpg'].min())"
   ]
  },
  {
   "cell_type": "code",
   "execution_count": 45,
   "metadata": {},
   "outputs": [
    {
     "name": "stdout",
     "output_type": "stream",
     "text": [
      "mpg         23.514573\n",
      "weight    2970.424623\n",
      "dtype: float64\n",
      "mpg             61.089611\n",
      "acceleration     7.604848\n",
      "dtype: float64\n",
      "--------------------------------------------------\n",
      "quantile 25% =\n",
      "mpg             17.500\n",
      "acceleration    13.825\n",
      "Name: 0.25, dtype: float64\n",
      "--------------------------------------------------\n",
      "quantile 75% = \n",
      "mpg             29.000\n",
      "acceleration    17.175\n",
      "Name: 0.75, dtype: float64\n",
      "--------------------------------------------------\n",
      "standard error =\n",
      "mpg             0.39178\n",
      "acceleration    0.13823\n",
      "dtype: float64\n"
     ]
    }
   ],
   "source": [
    "print(mpg_df[['mpg', 'weight']].mean()) # output = pandas series\n",
    "print(mpg_df[['mpg', 'acceleration']].var())\n",
    "print(\"-\"*50)\n",
    "\n",
    "print('quantile 25% =')\n",
    "print(mpg_df[['mpg', 'acceleration']].quantile(0.25))\n",
    "print(\"-\"*50)\n",
    "\n",
    "print('quantile 75% = ')\n",
    "print(mpg_df[['mpg', 'acceleration']].quantile(0.75))\n",
    "print(\"-\"*50)\n",
    "\n",
    "print('standard error =')\n",
    "print(mpg_df[['mpg', 'acceleration']].sem())"
   ]
  },
  {
   "cell_type": "markdown",
   "metadata": {},
   "source": [
    "## Matplotlib 을 이용하여 산점도 그리기"
   ]
  },
  {
   "cell_type": "code",
   "execution_count": 46,
   "metadata": {},
   "outputs": [
    {
     "name": "stdout",
     "output_type": "stream",
     "text": [
      "correlation coefficient = \n",
      "\n",
      "             mpg    weight\n",
      "mpg     1.000000 -0.831741\n",
      "weight -0.831741  1.000000\n"
     ]
    },
    {
     "data": {
      "image/png": "[encoded data removed]",
      "text/plain": [
       "<Figure size 640x480 with 1 Axes>"
      ]
     },
     "metadata": {},
     "output_type": "display_data"
    }
   ],
   "source": [
    "print('correlation coefficient = \\n')\n",
    "print(mpg_df[['mpg', 'weight']].corr())\n",
    "\n",
    "\n",
    "plt.scatter(mpg_df['weight'], mpg_df['mpg'], s = 20)\n",
    "plt.title(\"Weight vs MPG\")\n",
    "plt.xlabel('weight(kg)')\n",
    "plt.ylabel('mpg')\n",
    "plt.show()"
   ]
  }
 ],
 "metadata": {
  "kernelspec": {
   "display_name": "Python 3",
   "language": "python",
   "name": "python3"
  },
  "language_info": {
   "codemirror_mode": {
    "name": "ipython",
    "version": 3
   },
   "file_extension": ".py",
   "mimetype": "text/x-python",
   "name": "python",
   "nbconvert_exporter": "python",
   "pygments_lexer": "ipython3",
   "version": "3.11.9"
  }
 },
 "nbformat": 4,
 "nbformat_minor": 2
}
