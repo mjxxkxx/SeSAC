{
 "cells": [
  {
   "cell_type": "markdown",
   "metadata": {},
   "source": [
    "## 데이터 프레임 다루기"
   ]
  },
  {
   "cell_type": "code",
   "execution_count": 2,
   "metadata": {},
   "outputs": [],
   "source": [
    "import os\n",
    "import numpy as np\n",
    "import pandas as pd\n",
    "import matplotlib.pyplot as plt\n",
    "import seaborn as sns"
   ]
  },
  {
   "cell_type": "code",
   "execution_count": 3,
   "metadata": {},
   "outputs": [],
   "source": [
    "fpath = \"./dataset\""
   ]
  },
  {
   "cell_type": "markdown",
   "metadata": {},
   "source": [
    "### df.sort_index(ascending=False)"
   ]
  },
  {
   "cell_type": "code",
   "execution_count": 5,
   "metadata": {},
   "outputs": [
    {
     "name": "stdout",
     "output_type": "stream",
     "text": [
      "    c0  c1  c2  c3  c4\n",
      "r0   1   4   7  10  13\n",
      "r1   2   5   8  11  14\n",
      "r2   3   6   9  12  15\n"
     ]
    }
   ],
   "source": [
    "# 딕셔서리를 정의\n",
    "dict_data = {\n",
    "    \"c0\":np.arange(1, 4),\n",
    "    \"c1\":np.arange(4, 7),\n",
    "    \"c2\":np.arange(7, 10),\n",
    "    \"c3\":np.arange(10, 13),\n",
    "    \"c4\":np.arange(13, 16),\n",
    "}\n",
    "\n",
    "# 딕셔서리를 데이터프레임으로 변환. 인덱스를 [r0, r1, r2]로 지정\n",
    "df = pd.DataFrame(dict_data, index = [\"r0\", \"r1\", \"r2\"])\n",
    "print(df)"
   ]
  },
  {
   "cell_type": "code",
   "execution_count": 6,
   "metadata": {},
   "outputs": [
    {
     "name": "stdout",
     "output_type": "stream",
     "text": [
      "df = \n",
      "     c0  c1  c2  c3  c4\n",
      "r2   3   6   9  12  15\n",
      "r1   2   5   8  11  14\n",
      "r0   1   4   7  10  13\n",
      "--------------------------------------------------\n",
      "df = = \n",
      "     c0  c1  c2  c3  c4\n",
      "r0   1   4   7  10  13\n",
      "r1   2   5   8  11  14\n",
      "r2   3   6   9  12  15\n",
      "--------------------------------------------------\n",
      "df = = \n",
      "     c0  c1  c2  c3  c4\n",
      "r0   1   4   7  10  13\n",
      "r1   2   5   8  11  14\n",
      "r2   3   6   9  12  15\n"
     ]
    }
   ],
   "source": [
    "## index 정렬\n",
    "df.sort_index(ascending= False, inplace = True)\n",
    "print(\"df = \\n\", df)\n",
    "print('-'*50)\n",
    "\n",
    "# value\n",
    "# 내림차순으로 행 인덱스 정렬\n",
    "df.sort_values(by = 'c0', ascending = True, inplace = True)\n",
    "print('df = = \\n', df)\n",
    "print('-'*50)\n",
    "df.sort_values(by = ['c0', 'c1'], ascending = True, inplace = True)\n",
    "print('df = = \\n', df)"
   ]
  },
  {
   "cell_type": "markdown",
   "metadata": {},
   "source": [
    "### Broad casting"
   ]
  },
  {
   "cell_type": "code",
   "execution_count": 7,
   "metadata": {},
   "outputs": [
    {
     "name": "stdout",
     "output_type": "stream",
     "text": [
      "   survived  pclass     sex   age  sibsp  parch     fare embarked  class  \\\n",
      "0         0       3    male  22.0      1      0   7.2500        S  Third   \n",
      "1         1       1  female  38.0      1      0  71.2833        C  First   \n",
      "2         1       3  female  26.0      0      0   7.9250        S  Third   \n",
      "3         1       1  female  35.0      1      0  53.1000        S  First   \n",
      "4         0       3    male  35.0      0      0   8.0500        S  Third   \n",
      "\n",
      "     who  adult_male deck  embark_town alive  alone  \n",
      "0    man        True  NaN  Southampton    no  False  \n",
      "1  woman       False    C    Cherbourg   yes  False  \n",
      "2  woman       False  NaN  Southampton   yes   True  \n",
      "3  woman       False    C  Southampton   yes  False  \n",
      "4    man        True  NaN  Southampton    no   True  \n",
      "--------------------------------------------------\n",
      "   survived  pclass     sex   age  sibsp  parch     fare       won embarked  \\\n",
      "0         0       3    male  22.0      1      0   7.2500   9425.00        S   \n",
      "1         1       1  female  38.0      1      0  71.2833  92668.29        C   \n",
      "2         1       3  female  26.0      0      0   7.9250  10302.50        S   \n",
      "3         1       1  female  35.0      1      0  53.1000  69030.00        S   \n",
      "4         0       3    male  35.0      0      0   8.0500  10465.00        S   \n",
      "\n",
      "   class    who  adult_male deck  embark_town alive  alone  \n",
      "0  Third    man        True  NaN  Southampton    no  False  \n",
      "1  First  woman       False    C    Cherbourg   yes  False  \n",
      "2  Third  woman       False  NaN  Southampton   yes   True  \n",
      "3  First  woman       False    C  Southampton   yes  False  \n",
      "4  Third    man        True  NaN  Southampton    no   True  \n"
     ]
    }
   ],
   "source": [
    "## Broadcasting\n",
    "titanic = sns.load_dataset('titanic')\n",
    "print(titanic.head())\n",
    "won = titanic['fare']*1300\n",
    "print('-'*50)\n",
    "titanic.insert(7, \"won\", won)\n",
    "print(titanic.head())"
   ]
  },
  {
   "cell_type": "markdown",
   "metadata": {},
   "source": [
    "### 데이터프레임 연산"
   ]
  },
  {
   "cell_type": "code",
   "execution_count": 9,
   "metadata": {},
   "outputs": [
    {
     "name": "stdout",
     "output_type": "stream",
     "text": [
      "      fare       won\n",
      "0   7.2500   9425.00\n",
      "1  71.2833  92668.29\n",
      "2   7.9250  10302.50\n",
      "3  53.1000  69030.00\n",
      "4   8.0500  10465.00\n",
      "------------------------------\n",
      "        fare       won\n",
      "0  1007.2500  10425.00\n",
      "1  1071.2833  93668.29\n",
      "2  1007.9250  11302.50\n",
      "3  1053.1000  70030.00\n",
      "4  1008.0500  11465.00\n",
      "------------------------------\n"
     ]
    },
    {
     "data": {
      "text/html": [
       "<div>\n",
       "<style scoped>\n",
       "    .dataframe tbody tr th:only-of-type {\n",
       "        vertical-align: middle;\n",
       "    }\n",
       "\n",
       "    .dataframe tbody tr th {\n",
       "        vertical-align: top;\n",
       "    }\n",
       "\n",
       "    .dataframe thead th {\n",
       "        text-align: right;\n",
       "    }\n",
       "</style>\n",
       "<table border=\"1\" class=\"dataframe\">\n",
       "  <thead>\n",
       "    <tr style=\"text-align: right;\">\n",
       "      <th></th>\n",
       "      <th>fare</th>\n",
       "      <th>won</th>\n",
       "    </tr>\n",
       "  </thead>\n",
       "  <tbody>\n",
       "    <tr>\n",
       "      <th>0</th>\n",
       "      <td>1000.0</td>\n",
       "      <td>1000.0</td>\n",
       "    </tr>\n",
       "    <tr>\n",
       "      <th>1</th>\n",
       "      <td>1000.0</td>\n",
       "      <td>1000.0</td>\n",
       "    </tr>\n",
       "    <tr>\n",
       "      <th>2</th>\n",
       "      <td>1000.0</td>\n",
       "      <td>1000.0</td>\n",
       "    </tr>\n",
       "    <tr>\n",
       "      <th>3</th>\n",
       "      <td>1000.0</td>\n",
       "      <td>1000.0</td>\n",
       "    </tr>\n",
       "    <tr>\n",
       "      <th>4</th>\n",
       "      <td>1000.0</td>\n",
       "      <td>1000.0</td>\n",
       "    </tr>\n",
       "    <tr>\n",
       "      <th>...</th>\n",
       "      <td>...</td>\n",
       "      <td>...</td>\n",
       "    </tr>\n",
       "    <tr>\n",
       "      <th>886</th>\n",
       "      <td>1000.0</td>\n",
       "      <td>1000.0</td>\n",
       "    </tr>\n",
       "    <tr>\n",
       "      <th>887</th>\n",
       "      <td>1000.0</td>\n",
       "      <td>1000.0</td>\n",
       "    </tr>\n",
       "    <tr>\n",
       "      <th>888</th>\n",
       "      <td>1000.0</td>\n",
       "      <td>1000.0</td>\n",
       "    </tr>\n",
       "    <tr>\n",
       "      <th>889</th>\n",
       "      <td>1000.0</td>\n",
       "      <td>1000.0</td>\n",
       "    </tr>\n",
       "    <tr>\n",
       "      <th>890</th>\n",
       "      <td>1000.0</td>\n",
       "      <td>1000.0</td>\n",
       "    </tr>\n",
       "  </tbody>\n",
       "</table>\n",
       "<p>891 rows × 2 columns</p>\n",
       "</div>"
      ],
      "text/plain": [
       "       fare     won\n",
       "0    1000.0  1000.0\n",
       "1    1000.0  1000.0\n",
       "2    1000.0  1000.0\n",
       "3    1000.0  1000.0\n",
       "4    1000.0  1000.0\n",
       "..      ...     ...\n",
       "886  1000.0  1000.0\n",
       "887  1000.0  1000.0\n",
       "888  1000.0  1000.0\n",
       "889  1000.0  1000.0\n",
       "890  1000.0  1000.0\n",
       "\n",
       "[891 rows x 2 columns]"
      ]
     },
     "execution_count": 9,
     "metadata": {},
     "output_type": "execute_result"
    }
   ],
   "source": [
    "titanic.head()\n",
    "\n",
    "new_df = titanic.loc[:, 'fare':'won']\n",
    "print(new_df.head())\n",
    "print('-'*30)\n",
    "\n",
    "add_df = new_df + 1000\n",
    "print(add_df.head())\n",
    "print('-'*30)\n",
    "\n",
    "# 데이터프레임끼리 연산하기 (additon - df)\n",
    "add_df - new_df"
   ]
  },
  {
   "cell_type": "code",
   "execution_count": 13,
   "metadata": {},
   "outputs": [
    {
     "name": "stdout",
     "output_type": "stream",
     "text": [
      "vor = \n",
      "    group  id time    hz0.04    hz0.08     hz0.1    hz0.16    hz0.32    hz0.64  \\\n",
      "0      1   1  Pre  0.213840  0.717955  0.848727  0.850790  0.802738  0.808393   \n",
      "1      1   2  Pre  0.345725  0.795440  0.781473  0.924972  0.801245  0.803880   \n",
      "2      1   3  Pre  0.376285  0.799327  0.781350  0.777773  0.868007  0.868853   \n",
      "3      1   4  Pre  0.451440  0.771083  0.808645  0.787825  0.839985  0.832352   \n",
      "4      1   5  Pre  0.287360  0.825547  0.831303  0.818332  0.817320  0.816153   \n",
      "\n",
      "        hz1  \n",
      "0  0.738967  \n",
      "1  0.781420  \n",
      "2  0.754252  \n",
      "3  0.818722  \n",
      "4  0.836298  \n",
      "----------------------------------------------------------------------------------------------------\n",
      "    group  id time      mean\n",
      "13      2  14  Pre  0.807488\n",
      "7       1   8  Pre  0.805965\n",
      "6       1   7  Pre  0.798594\n",
      "8       1   9  Pre  0.794495\n",
      "12      2  13  Pre  0.780265\n",
      "11      2  12  Pre  0.777636\n",
      "5       1   6  Pre  0.775674\n",
      "3       1   4  Pre  0.758579\n",
      "14      2  15  Pre  0.758175\n",
      "15      2  16  Pre  0.753647\n"
     ]
    }
   ],
   "source": [
    "import pandas as pd\n",
    "fname = 'vor_r.xlsx'\n",
    "file = os.path.join(fpath, fname)\n",
    "vor = pd.read_excel(file)\n",
    "\n",
    "print(\"vor = \\n\",vor.head())\n",
    "print('-'*100)\n",
    "\n",
    "mean_col = vor.loc[:, 'hz0.04':].mean(axis = 1)\n",
    "mean_col\n",
    "\n",
    "vor.insert(3, 'mean', mean_col)\n",
    "# vor.head()\n",
    "vor.sort_values(by = 'mean', ascending = False, inplace= True)\n",
    "print(vor.iloc[:10, :4]) # 왜 iloc일까\n",
    "\n",
    "vor_df10 = vor.iloc[:10, :4]"
   ]
  },
  {
   "cell_type": "code",
   "execution_count": 14,
   "metadata": {},
   "outputs": [
    {
     "data": {
      "text/html": [
       "<div>\n",
       "<style scoped>\n",
       "    .dataframe tbody tr th:only-of-type {\n",
       "        vertical-align: middle;\n",
       "    }\n",
       "\n",
       "    .dataframe tbody tr th {\n",
       "        vertical-align: top;\n",
       "    }\n",
       "\n",
       "    .dataframe thead th {\n",
       "        text-align: right;\n",
       "    }\n",
       "</style>\n",
       "<table border=\"1\" class=\"dataframe\">\n",
       "  <thead>\n",
       "    <tr style=\"text-align: right;\">\n",
       "      <th></th>\n",
       "      <th>group</th>\n",
       "      <th>id</th>\n",
       "      <th>time</th>\n",
       "      <th>mean</th>\n",
       "    </tr>\n",
       "  </thead>\n",
       "  <tbody>\n",
       "    <tr>\n",
       "      <th>13</th>\n",
       "      <td>2</td>\n",
       "      <td>14</td>\n",
       "      <td>Pre</td>\n",
       "      <td>0.807488</td>\n",
       "    </tr>\n",
       "    <tr>\n",
       "      <th>7</th>\n",
       "      <td>1</td>\n",
       "      <td>8</td>\n",
       "      <td>Pre</td>\n",
       "      <td>0.805965</td>\n",
       "    </tr>\n",
       "    <tr>\n",
       "      <th>6</th>\n",
       "      <td>1</td>\n",
       "      <td>7</td>\n",
       "      <td>Pre</td>\n",
       "      <td>0.798594</td>\n",
       "    </tr>\n",
       "    <tr>\n",
       "      <th>8</th>\n",
       "      <td>1</td>\n",
       "      <td>9</td>\n",
       "      <td>Pre</td>\n",
       "      <td>0.794495</td>\n",
       "    </tr>\n",
       "    <tr>\n",
       "      <th>12</th>\n",
       "      <td>2</td>\n",
       "      <td>13</td>\n",
       "      <td>Pre</td>\n",
       "      <td>0.780265</td>\n",
       "    </tr>\n",
       "    <tr>\n",
       "      <th>11</th>\n",
       "      <td>2</td>\n",
       "      <td>12</td>\n",
       "      <td>Post</td>\n",
       "      <td>0.777636</td>\n",
       "    </tr>\n",
       "    <tr>\n",
       "      <th>5</th>\n",
       "      <td>1</td>\n",
       "      <td>6</td>\n",
       "      <td>Post</td>\n",
       "      <td>0.775674</td>\n",
       "    </tr>\n",
       "    <tr>\n",
       "      <th>3</th>\n",
       "      <td>1</td>\n",
       "      <td>4</td>\n",
       "      <td>Post</td>\n",
       "      <td>0.758579</td>\n",
       "    </tr>\n",
       "    <tr>\n",
       "      <th>14</th>\n",
       "      <td>2</td>\n",
       "      <td>15</td>\n",
       "      <td>Post</td>\n",
       "      <td>0.758175</td>\n",
       "    </tr>\n",
       "    <tr>\n",
       "      <th>15</th>\n",
       "      <td>2</td>\n",
       "      <td>16</td>\n",
       "      <td>Post</td>\n",
       "      <td>0.753647</td>\n",
       "    </tr>\n",
       "  </tbody>\n",
       "</table>\n",
       "</div>"
      ],
      "text/plain": [
       "    group  id  time      mean\n",
       "13      2  14   Pre  0.807488\n",
       "7       1   8   Pre  0.805965\n",
       "6       1   7   Pre  0.798594\n",
       "8       1   9   Pre  0.794495\n",
       "12      2  13   Pre  0.780265\n",
       "11      2  12  Post  0.777636\n",
       "5       1   6  Post  0.775674\n",
       "3       1   4  Post  0.758579\n",
       "14      2  15  Post  0.758175\n",
       "15      2  16  Post  0.753647"
      ]
     },
     "execution_count": 14,
     "metadata": {},
     "output_type": "execute_result"
    }
   ],
   "source": [
    "# Filter\n",
    "vor_df10 = vor.iloc[:10, :4]\n",
    "vor_df10.iloc[5:, 2] = 'Post'\n",
    "vor_df10"
   ]
  },
  {
   "cell_type": "code",
   "execution_count": 17,
   "metadata": {},
   "outputs": [
    {
     "name": "stdout",
     "output_type": "stream",
     "text": [
      "13    False\n",
      "7     False\n",
      "6     False\n",
      "8     False\n",
      "12    False\n",
      "11     True\n",
      "5      True\n",
      "3      True\n",
      "14     True\n",
      "15     True\n",
      "Name: time, dtype: bool\n",
      "--------------------------------------------------\n",
      "13     True\n",
      "7      True\n",
      "6      True\n",
      "8      True\n",
      "12     True\n",
      "11     True\n",
      "5      True\n",
      "3     False\n",
      "14    False\n",
      "15    False\n",
      "Name: mean, dtype: bool\n"
     ]
    }
   ],
   "source": [
    "idx1 = vor_df10.loc[:, 'time'] != 'Pre'\n",
    "print(idx1)\n",
    "print('-'*50)\n",
    "\n",
    "idx2 = vor_df10.loc[:, 'mean'] > 0.77\n",
    "print(idx2)"
   ]
  },
  {
   "cell_type": "code",
   "execution_count": 18,
   "metadata": {},
   "outputs": [
    {
     "name": "stdout",
     "output_type": "stream",
     "text": [
      "   group  id  time      mean\n",
      "5      1   6  Post  0.775674\n"
     ]
    }
   ],
   "source": [
    "print(vor_df10[(idx1) & (idx2) & (vor_df10.loc[:, 'group'] == 1)])"
   ]
  },
  {
   "cell_type": "code",
   "execution_count": 20,
   "metadata": {},
   "outputs": [
    {
     "name": "stdout",
     "output_type": "stream",
     "text": [
      "    group  id  time      mean\n",
      "13      2  14   Pre  0.807488\n",
      "7       1   8   Pre  0.805965\n",
      "6       1   7   Pre  0.798594\n",
      "8       1   9   Pre  0.794495\n",
      "12      2  13   Pre  0.780265\n",
      "11      2  12  Post  0.777636\n",
      "5       1   6  Post  0.775674\n",
      "3       1   4  Post  0.758579\n",
      "14      2  15  Post  0.758175\n",
      "15      2  16  Post  0.753647\n"
     ]
    }
   ],
   "source": [
    "print(vor_df10[(idx1) | (idx2)])"
   ]
  },
  {
   "cell_type": "code",
   "execution_count": 3,
   "metadata": {},
   "outputs": [
    {
     "name": "stdout",
     "output_type": "stream",
     "text": [
      "   total_bill   tip     sex smoker  day    time  size\n",
      "0       16.99  1.01  Female     No  Sun  Dinner     2\n",
      "1       10.34  1.66    Male     No  Sun  Dinner     3\n",
      "2       21.01  3.50    Male     No  Sun  Dinner     3\n",
      "3       23.68  3.31    Male     No  Sun  Dinner     2\n",
      "4       24.59  3.61  Female     No  Sun  Dinner     4\n"
     ]
    }
   ],
   "source": [
    "##\n",
    "tips = sns.load_dataset('tips')\n",
    "print(tips.head())"
   ]
  },
  {
   "cell_type": "code",
   "execution_count": 11,
   "metadata": {},
   "outputs": [
    {
     "name": "stdout",
     "output_type": "stream",
     "text": [
      "correlation coefficient (상관계수) = \n",
      "\n",
      "            total_bill       tip\n",
      "total_bill    1.000000  0.675734\n",
      "tip           0.675734  1.000000\n",
      "----------------------------------------------------------------------------------------------------\n",
      "Scatter plot\n"
     ]
    },
    {
     "data": {
      "image/png": "[encoded data removed]",
      "text/plain": [
       "<Figure size 640x480 with 1 Axes>"
      ]
     },
     "metadata": {},
     "output_type": "display_data"
    }
   ],
   "source": [
    "new_df = tips.loc[:, 'total_bill':'tip']\n",
    "## correlation : 데이터의 상관성\n",
    "#범위 : - 1 < r < 1 (r = 1 양의 상관, r = -1 음의 상관)\n",
    "\n",
    "print(\"correlation coefficient (상관계수) = \\n\")\n",
    "print(new_df[[\"total_bill\",\"tip\"]].corr())\n",
    "print('-'*100)\n",
    "print('Scatter plot')\n",
    "sns.scatterplot(data=tips, x=\"total_bill\", y=\"tip\")\n",
    "plt.show()"
   ]
  },
  {
   "cell_type": "code",
   "execution_count": 48,
   "metadata": {},
   "outputs": [
    {
     "name": "stdout",
     "output_type": "stream",
     "text": [
      "Current columns: Index(['mpg', 'kml', 'cylinders', 'displacement', 'horsepower', 'weight',\n",
      "       'acceleration', 'model_year', 'origin'],\n",
      "      dtype='object')\n",
      "                            mpg     kml  cyl   disp     hp  weight  \\\n",
      "name                                                                 \n",
      "chevrolet chevelle malibu  18.0   7.650    8  307.0  130.0    3504   \n",
      "buick skylark 320          15.0   6.375    8  350.0  165.0    3693   \n",
      "plymouth satellite         18.0   7.650    8  318.0  150.0    3436   \n",
      "amc rebel sst              16.0   6.800    8  304.0  150.0    3433   \n",
      "ford torino                17.0   7.225    8  302.0  140.0    3449   \n",
      "...                         ...     ...  ...    ...    ...     ...   \n",
      "ford mustang gl            27.0  11.475    4  140.0   86.0    2790   \n",
      "vw pickup                  44.0  18.700    4   97.0   52.0    2130   \n",
      "dodge rampage              32.0  13.600    4  135.0   84.0    2295   \n",
      "ford ranger                28.0  11.900    4  120.0   79.0    2625   \n",
      "chevy s-10                 31.0  13.175    4  119.0   82.0    2720   \n",
      "\n",
      "                           acceleration  model_year  origin  \n",
      "name                                                         \n",
      "chevrolet chevelle malibu          12.0          70     usa  \n",
      "buick skylark 320                  11.5          70     usa  \n",
      "plymouth satellite                 11.0          70     usa  \n",
      "amc rebel sst                      12.0          70     usa  \n",
      "ford torino                        10.5          70     usa  \n",
      "...                                 ...         ...     ...  \n",
      "ford mustang gl                    15.6          82     usa  \n",
      "vw pickup                          24.6          82  europe  \n",
      "dodge rampage                      11.6          82     usa  \n",
      "ford ranger                        18.6          82     usa  \n",
      "chevy s-10                         19.4          82     usa  \n",
      "\n",
      "[398 rows x 9 columns]\n"
     ]
    }
   ],
   "source": [
    "##\n",
    "mpg = sns.load_dataset('mpg')\n",
    "kml = mpg['mpg']*0.425\n",
    "\n",
    "mpg.insert(1, \"kml\", kml)\n",
    "mpg = mpg.set_index('name')\n",
    "\n",
    "mpg.loc[:, 'mpg':]\n",
    "\n",
    "print(\"Current columns:\", mpg.columns)\n",
    "\n",
    "# Rename the columns\n",
    "mpg.rename(columns={\n",
    "    \"cylinders\": \"cyl\",\n",
    "    \"displacement\": \"disp\",\n",
    "    \"horsepower\": \"hp\"\n",
    "}, inplace=True)\n",
    "print(mpg)"
   ]
  },
  {
   "cell_type": "code",
   "execution_count": null,
   "metadata": {},
   "outputs": [],
   "source": []
  }
 ],
 "metadata": {
  "kernelspec": {
   "display_name": "Python 3",
   "language": "python",
   "name": "python3"
  },
  "language_info": {
   "codemirror_mode": {
    "name": "ipython",
    "version": 3
   },
   "file_extension": ".py",
   "mimetype": "text/x-python",
   "name": "python",
   "nbconvert_exporter": "python",
   "pygments_lexer": "ipython3",
   "version": "3.11.9"
  }
 },
 "nbformat": 4,
 "nbformat_minor": 2
}
